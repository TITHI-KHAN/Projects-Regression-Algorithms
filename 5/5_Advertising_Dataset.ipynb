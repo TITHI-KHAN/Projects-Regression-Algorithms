{
  "nbformat": 4,
  "nbformat_minor": 0,
  "metadata": {
    "colab": {
      "provenance": []
    },
    "kernelspec": {
      "name": "python3",
      "display_name": "Python 3"
    },
    "language_info": {
      "name": "python"
    }
  },
  "cells": [
    {
      "cell_type": "code",
      "execution_count": 39,
      "metadata": {
        "id": "ONoYoggOa5t_"
      },
      "outputs": [],
      "source": [
        "import pandas as pd\n",
        "from sklearn.model_selection import train_test_split\n",
        "from sklearn.linear_model import LinearRegression, LogisticRegression, Ridge, Lasso\n",
        "from sklearn.preprocessing import PolynomialFeatures, StandardScaler\n",
        "from sklearn.tree import DecisionTreeRegressor\n",
        "from sklearn.ensemble import RandomForestRegressor, GradientBoostingRegressor\n",
        "from sklearn.svm import SVR\n",
        "from sklearn.metrics import mean_squared_error\n",
        "from sklearn.pipeline import make_pipeline\n",
        "from sklearn.linear_model import SGDRegressor"
      ]
    },
    {
      "cell_type": "code",
      "source": [
        "# Load the data into a pandas DataFrame\n",
        "data = pd.read_csv('advertising.csv', delimiter=',')"
      ],
      "metadata": {
        "id": "HVNJORdPboJX"
      },
      "execution_count": 40,
      "outputs": []
    },
    {
      "cell_type": "code",
      "source": [
        "data.head()"
      ],
      "metadata": {
        "colab": {
          "base_uri": "https://localhost:8080/",
          "height": 206
        },
        "id": "xdj2lHnxbrIZ",
        "outputId": "38e62b16-b276-4620-eb11-cb5e146f5956"
      },
      "execution_count": 41,
      "outputs": [
        {
          "output_type": "execute_result",
          "data": {
            "text/plain": [
              "      TV  Radio  Newspaper  Sales\n",
              "0  230.1   37.8       69.2   22.1\n",
              "1   44.5   39.3       45.1   10.4\n",
              "2   17.2   45.9       69.3   12.0\n",
              "3  151.5   41.3       58.5   16.5\n",
              "4  180.8   10.8       58.4   17.9"
            ],
            "text/html": [
              "\n",
              "\n",
              "  <div id=\"df-0cbf8ff0-a110-4c8d-84e8-4582f75640be\">\n",
              "    <div class=\"colab-df-container\">\n",
              "      <div>\n",
              "<style scoped>\n",
              "    .dataframe tbody tr th:only-of-type {\n",
              "        vertical-align: middle;\n",
              "    }\n",
              "\n",
              "    .dataframe tbody tr th {\n",
              "        vertical-align: top;\n",
              "    }\n",
              "\n",
              "    .dataframe thead th {\n",
              "        text-align: right;\n",
              "    }\n",
              "</style>\n",
              "<table border=\"1\" class=\"dataframe\">\n",
              "  <thead>\n",
              "    <tr style=\"text-align: right;\">\n",
              "      <th></th>\n",
              "      <th>TV</th>\n",
              "      <th>Radio</th>\n",
              "      <th>Newspaper</th>\n",
              "      <th>Sales</th>\n",
              "    </tr>\n",
              "  </thead>\n",
              "  <tbody>\n",
              "    <tr>\n",
              "      <th>0</th>\n",
              "      <td>230.1</td>\n",
              "      <td>37.8</td>\n",
              "      <td>69.2</td>\n",
              "      <td>22.1</td>\n",
              "    </tr>\n",
              "    <tr>\n",
              "      <th>1</th>\n",
              "      <td>44.5</td>\n",
              "      <td>39.3</td>\n",
              "      <td>45.1</td>\n",
              "      <td>10.4</td>\n",
              "    </tr>\n",
              "    <tr>\n",
              "      <th>2</th>\n",
              "      <td>17.2</td>\n",
              "      <td>45.9</td>\n",
              "      <td>69.3</td>\n",
              "      <td>12.0</td>\n",
              "    </tr>\n",
              "    <tr>\n",
              "      <th>3</th>\n",
              "      <td>151.5</td>\n",
              "      <td>41.3</td>\n",
              "      <td>58.5</td>\n",
              "      <td>16.5</td>\n",
              "    </tr>\n",
              "    <tr>\n",
              "      <th>4</th>\n",
              "      <td>180.8</td>\n",
              "      <td>10.8</td>\n",
              "      <td>58.4</td>\n",
              "      <td>17.9</td>\n",
              "    </tr>\n",
              "  </tbody>\n",
              "</table>\n",
              "</div>\n",
              "      <button class=\"colab-df-convert\" onclick=\"convertToInteractive('df-0cbf8ff0-a110-4c8d-84e8-4582f75640be')\"\n",
              "              title=\"Convert this dataframe to an interactive table.\"\n",
              "              style=\"display:none;\">\n",
              "\n",
              "  <svg xmlns=\"http://www.w3.org/2000/svg\" height=\"24px\"viewBox=\"0 0 24 24\"\n",
              "       width=\"24px\">\n",
              "    <path d=\"M0 0h24v24H0V0z\" fill=\"none\"/>\n",
              "    <path d=\"M18.56 5.44l.94 2.06.94-2.06 2.06-.94-2.06-.94-.94-2.06-.94 2.06-2.06.94zm-11 1L8.5 8.5l.94-2.06 2.06-.94-2.06-.94L8.5 2.5l-.94 2.06-2.06.94zm10 10l.94 2.06.94-2.06 2.06-.94-2.06-.94-.94-2.06-.94 2.06-2.06.94z\"/><path d=\"M17.41 7.96l-1.37-1.37c-.4-.4-.92-.59-1.43-.59-.52 0-1.04.2-1.43.59L10.3 9.45l-7.72 7.72c-.78.78-.78 2.05 0 2.83L4 21.41c.39.39.9.59 1.41.59.51 0 1.02-.2 1.41-.59l7.78-7.78 2.81-2.81c.8-.78.8-2.07 0-2.86zM5.41 20L4 18.59l7.72-7.72 1.47 1.35L5.41 20z\"/>\n",
              "  </svg>\n",
              "      </button>\n",
              "\n",
              "\n",
              "\n",
              "    <div id=\"df-f27f93e3-63c3-4480-8377-6ed4cc1a56d4\">\n",
              "      <button class=\"colab-df-quickchart\" onclick=\"quickchart('df-f27f93e3-63c3-4480-8377-6ed4cc1a56d4')\"\n",
              "              title=\"Suggest charts.\"\n",
              "              style=\"display:none;\">\n",
              "\n",
              "<svg xmlns=\"http://www.w3.org/2000/svg\" height=\"24px\"viewBox=\"0 0 24 24\"\n",
              "     width=\"24px\">\n",
              "    <g>\n",
              "        <path d=\"M19 3H5c-1.1 0-2 .9-2 2v14c0 1.1.9 2 2 2h14c1.1 0 2-.9 2-2V5c0-1.1-.9-2-2-2zM9 17H7v-7h2v7zm4 0h-2V7h2v10zm4 0h-2v-4h2v4z\"/>\n",
              "    </g>\n",
              "</svg>\n",
              "      </button>\n",
              "    </div>\n",
              "\n",
              "<style>\n",
              "  .colab-df-quickchart {\n",
              "    background-color: #E8F0FE;\n",
              "    border: none;\n",
              "    border-radius: 50%;\n",
              "    cursor: pointer;\n",
              "    display: none;\n",
              "    fill: #1967D2;\n",
              "    height: 32px;\n",
              "    padding: 0 0 0 0;\n",
              "    width: 32px;\n",
              "  }\n",
              "\n",
              "  .colab-df-quickchart:hover {\n",
              "    background-color: #E2EBFA;\n",
              "    box-shadow: 0px 1px 2px rgba(60, 64, 67, 0.3), 0px 1px 3px 1px rgba(60, 64, 67, 0.15);\n",
              "    fill: #174EA6;\n",
              "  }\n",
              "\n",
              "  [theme=dark] .colab-df-quickchart {\n",
              "    background-color: #3B4455;\n",
              "    fill: #D2E3FC;\n",
              "  }\n",
              "\n",
              "  [theme=dark] .colab-df-quickchart:hover {\n",
              "    background-color: #434B5C;\n",
              "    box-shadow: 0px 1px 3px 1px rgba(0, 0, 0, 0.15);\n",
              "    filter: drop-shadow(0px 1px 2px rgba(0, 0, 0, 0.3));\n",
              "    fill: #FFFFFF;\n",
              "  }\n",
              "</style>\n",
              "\n",
              "    <script>\n",
              "      async function quickchart(key) {\n",
              "        const containerElement = document.querySelector('#' + key);\n",
              "        const charts = await google.colab.kernel.invokeFunction(\n",
              "            'suggestCharts', [key], {});\n",
              "      }\n",
              "    </script>\n",
              "\n",
              "      <script>\n",
              "\n",
              "function displayQuickchartButton(domScope) {\n",
              "  let quickchartButtonEl =\n",
              "    domScope.querySelector('#df-f27f93e3-63c3-4480-8377-6ed4cc1a56d4 button.colab-df-quickchart');\n",
              "  quickchartButtonEl.style.display =\n",
              "    google.colab.kernel.accessAllowed ? 'block' : 'none';\n",
              "}\n",
              "\n",
              "        displayQuickchartButton(document);\n",
              "      </script>\n",
              "      <style>\n",
              "    .colab-df-container {\n",
              "      display:flex;\n",
              "      flex-wrap:wrap;\n",
              "      gap: 12px;\n",
              "    }\n",
              "\n",
              "    .colab-df-convert {\n",
              "      background-color: #E8F0FE;\n",
              "      border: none;\n",
              "      border-radius: 50%;\n",
              "      cursor: pointer;\n",
              "      display: none;\n",
              "      fill: #1967D2;\n",
              "      height: 32px;\n",
              "      padding: 0 0 0 0;\n",
              "      width: 32px;\n",
              "    }\n",
              "\n",
              "    .colab-df-convert:hover {\n",
              "      background-color: #E2EBFA;\n",
              "      box-shadow: 0px 1px 2px rgba(60, 64, 67, 0.3), 0px 1px 3px 1px rgba(60, 64, 67, 0.15);\n",
              "      fill: #174EA6;\n",
              "    }\n",
              "\n",
              "    [theme=dark] .colab-df-convert {\n",
              "      background-color: #3B4455;\n",
              "      fill: #D2E3FC;\n",
              "    }\n",
              "\n",
              "    [theme=dark] .colab-df-convert:hover {\n",
              "      background-color: #434B5C;\n",
              "      box-shadow: 0px 1px 3px 1px rgba(0, 0, 0, 0.15);\n",
              "      filter: drop-shadow(0px 1px 2px rgba(0, 0, 0, 0.3));\n",
              "      fill: #FFFFFF;\n",
              "    }\n",
              "  </style>\n",
              "\n",
              "      <script>\n",
              "        const buttonEl =\n",
              "          document.querySelector('#df-0cbf8ff0-a110-4c8d-84e8-4582f75640be button.colab-df-convert');\n",
              "        buttonEl.style.display =\n",
              "          google.colab.kernel.accessAllowed ? 'block' : 'none';\n",
              "\n",
              "        async function convertToInteractive(key) {\n",
              "          const element = document.querySelector('#df-0cbf8ff0-a110-4c8d-84e8-4582f75640be');\n",
              "          const dataTable =\n",
              "            await google.colab.kernel.invokeFunction('convertToInteractive',\n",
              "                                                     [key], {});\n",
              "          if (!dataTable) return;\n",
              "\n",
              "          const docLinkHtml = 'Like what you see? Visit the ' +\n",
              "            '<a target=\"_blank\" href=https://colab.research.google.com/notebooks/data_table.ipynb>data table notebook</a>'\n",
              "            + ' to learn more about interactive tables.';\n",
              "          element.innerHTML = '';\n",
              "          dataTable['output_type'] = 'display_data';\n",
              "          await google.colab.output.renderOutput(dataTable, element);\n",
              "          const docLink = document.createElement('div');\n",
              "          docLink.innerHTML = docLinkHtml;\n",
              "          element.appendChild(docLink);\n",
              "        }\n",
              "      </script>\n",
              "    </div>\n",
              "  </div>\n"
            ]
          },
          "metadata": {},
          "execution_count": 41
        }
      ]
    },
    {
      "cell_type": "code",
      "source": [
        "print(data.isna().sum())"
      ],
      "metadata": {
        "colab": {
          "base_uri": "https://localhost:8080/"
        },
        "id": "jVaQlt9ncM7c",
        "outputId": "8fbf4c13-7d3e-49ca-e1bb-bf685712195c"
      },
      "execution_count": 42,
      "outputs": [
        {
          "output_type": "stream",
          "name": "stdout",
          "text": [
            "TV           0\n",
            "Radio        0\n",
            "Newspaper    0\n",
            "Sales        0\n",
            "dtype: int64\n"
          ]
        }
      ]
    },
    {
      "cell_type": "code",
      "source": [
        "#Data Visualization\n",
        "\n",
        "data.hist(bins=50)"
      ],
      "metadata": {
        "colab": {
          "base_uri": "https://localhost:8080/",
          "height": 525
        },
        "id": "IDD90k3McTdB",
        "outputId": "5c0f75aa-b8ef-43ec-ab49-540cc62ce1c6"
      },
      "execution_count": 43,
      "outputs": [
        {
          "output_type": "execute_result",
          "data": {
            "text/plain": [
              "array([[<Axes: title={'center': 'TV'}>,\n",
              "        <Axes: title={'center': 'Radio'}>],\n",
              "       [<Axes: title={'center': 'Newspaper'}>,\n",
              "        <Axes: title={'center': 'Sales'}>]], dtype=object)"
            ]
          },
          "metadata": {},
          "execution_count": 43
        },
        {
          "output_type": "display_data",
          "data": {
            "text/plain": [
              "<Figure size 640x480 with 4 Axes>"
            ],
            "image/png": "[encoded data removed]"
          },
          "metadata": {}
        }
      ]
    },
    {
      "cell_type": "code",
      "source": [
        "#Data Splitiong into testing and training\n",
        "\n",
        "x=data[['TV','Radio','Newspaper']]\n",
        "y=data['Sales']"
      ],
      "metadata": {
        "id": "lrG4-EFNcXdN"
      },
      "execution_count": 44,
      "outputs": []
    },
    {
      "cell_type": "code",
      "source": [
        "x_train, x_test, y_train, y_test = train_test_split(x, y, test_size=0.30, random_state=0)"
      ],
      "metadata": {
        "id": "xSzO4TD2ceQE"
      },
      "execution_count": 45,
      "outputs": []
    },
    {
      "cell_type": "markdown",
      "source": [
        "**Linear Regression**"
      ],
      "metadata": {
        "id": "G-X03-KDckDW"
      }
    },
    {
      "cell_type": "code",
      "source": [
        "linear_reg = LinearRegression()\n",
        "linear_reg.fit(x_train, y_train)\n",
        "linear_reg_predictions = linear_reg.predict(x_test)\n",
        "linear_reg_mse = mean_squared_error(y_test, linear_reg_predictions)\n",
        "print(\"Linear Regression Predictions:\", linear_reg_predictions)\n",
        "print(\"Linear Regression MSE:\", linear_reg_mse)"
      ],
      "metadata": {
        "colab": {
          "base_uri": "https://localhost:8080/"
        },
        "id": "1X9-p_aUcieU",
        "outputId": "a36e4409-c5a9-4fb2-edb9-d44b2b0ca21a"
      },
      "execution_count": 46,
      "outputs": [
        {
          "output_type": "stream",
          "name": "stdout",
          "text": [
            "Linear Regression Predictions: [10.68909303  8.67371102  9.59969914 24.99989846 14.73590568  8.37604918\n",
            " 10.70350416 18.37670708  9.9670026  17.87946837 23.52765543 10.70692059\n",
            " 13.37566958 17.10051561 11.77005197 13.31194616 21.13395461  9.10945664\n",
            " 14.24009701 18.86885012 25.00670623 12.42508633 16.61899482 13.84289673\n",
            "  7.80458355 15.13012055 14.69687153 20.70140682 16.9844145   8.94984434\n",
            " 12.59168427 20.93257626 21.34337227 21.89151357  7.23908022  7.06001103\n",
            "  9.28335812 15.6840471  13.33894748  7.28903633 11.05676585  9.08768206\n",
            " 15.60592891 18.21716827 18.9560652  13.47385617  5.36520991 10.59696871\n",
            " 15.66036131 10.98229096 12.20805533 20.70970272 20.70533061 16.95931925\n",
            "  9.96622132  9.44413497 23.60505449 15.99066008 18.06706692  8.25675464]\n",
            "Linear Regression MSE: 3.9380152204802865\n"
          ]
        }
      ]
    },
    {
      "cell_type": "markdown",
      "source": [
        "**Polynomial Regression**"
      ],
      "metadata": {
        "id": "59NDDq-VdAfD"
      }
    },
    {
      "cell_type": "code",
      "source": [
        "poly_features = PolynomialFeatures(degree=2)\n",
        "X_poly = poly_features.fit_transform(x_train)\n",
        "poly_reg = LinearRegression()\n",
        "poly_reg.fit(X_poly, y_train)\n",
        "X_test_poly = poly_features.transform(x_test)\n",
        "poly_reg_predictions = poly_reg.predict(X_test_poly)\n",
        "poly_reg_mse = mean_squared_error(y_test, poly_reg_predictions)\n",
        "print(\"Polynomial Regression Predictions:\", poly_reg_predictions)\n",
        "print(\"Polynomial Regression MSE:\", poly_reg_mse)"
      ],
      "metadata": {
        "colab": {
          "base_uri": "https://localhost:8080/"
        },
        "id": "oNoDGKmbdCxk",
        "outputId": "e1cb8892-d5a9-458a-e283-dab9601db38c"
      },
      "execution_count": 47,
      "outputs": [
        {
          "output_type": "stream",
          "name": "stdout",
          "text": [
            "Polynomial Regression Predictions: [10.4231153   8.73271376 10.99750226 24.80649425 15.09368808  8.9931731\n",
            "  9.56004328 17.88794978  8.75993937 17.82910642 23.86459977 11.04772962\n",
            " 14.45258064 17.17230943 11.38837015 13.53396031 20.19109463  7.01554582\n",
            " 14.46515716 18.69714726 25.08911546 13.67859048 16.59786107 13.97743846\n",
            "  8.84620775 15.36074949 15.11039279 21.78252484 16.95314959  7.7183407\n",
            " 13.44919091 22.54295749 19.48434933 22.03918746  6.36422233  6.57232611\n",
            "  9.36979078 15.81604803 13.0906925   6.99370929 10.1883715   8.16230808\n",
            " 15.82622182 18.05593568 18.59834264 13.47874661  6.0409895   9.82339288\n",
            " 16.30290043 11.81149058 12.47473366 20.71765166 19.66710411 16.92358478\n",
            "  9.11112692  9.56666144 21.99148996 16.00920042 17.82058805  6.51478714]\n",
            "Polynomial Regression MSE: 2.56516590086676\n"
          ]
        }
      ]
    },
    {
      "cell_type": "markdown",
      "source": [
        "**Ridge Regression**"
      ],
      "metadata": {
        "id": "5e0KrgzXdHKf"
      }
    },
    {
      "cell_type": "code",
      "source": [
        "ridge_reg = Ridge(alpha=0.5)\n",
        "ridge_reg.fit(x_train, y_train)\n",
        "ridge_reg_predictions = ridge_reg.predict(x_test)\n",
        "ridge_reg_mse = mean_squared_error(y_test, ridge_reg_predictions)\n",
        "print(\"Ridge Regression Predictions:\", ridge_reg_predictions)\n",
        "print(\"Ridge Regression MSE:\", ridge_reg_mse)"
      ],
      "metadata": {
        "colab": {
          "base_uri": "https://localhost:8080/"
        },
        "id": "mmfc8brXdJUb",
        "outputId": "51c8e52e-7b8b-472f-83cf-bb6485db1e2e"
      },
      "execution_count": 48,
      "outputs": [
        {
          "output_type": "stream",
          "name": "stdout",
          "text": [
            "Ridge Regression Predictions: [10.68909577  8.67373073  9.59974079 24.99986877 14.73593634  8.37608415\n",
            " 10.70347792 18.37672668  9.96699803 17.87946143 23.52762702 10.70694205\n",
            " 13.37569961 17.10051111 11.77004463 13.31194679 21.13394677  9.10942174\n",
            " 14.24005684 18.86883997 25.00668339 12.4251183  16.61899667 13.84290837\n",
            "  7.80462216 15.13009362 14.6968913  20.70136141 16.98444626  8.94984828\n",
            " 12.59169486 20.93253891 21.34338985 21.89148192  7.23910507  7.06003249\n",
            "  9.2833866  15.6840811  13.33891256  7.28906217 11.05675437  9.08767172\n",
            " 15.60591144 18.21716468 18.95607437 13.47383739  5.36524133 10.5969576\n",
            " 15.66035634 10.98232668 12.20807393 20.70970197 20.70533232 16.95931992\n",
            "  9.96621569  9.44415252 23.60504753 15.99066983 18.06706856  8.25675378]\n",
            "Ridge Regression MSE: 3.938007513471864\n"
          ]
        }
      ]
    },
    {
      "cell_type": "markdown",
      "source": [
        "**Lasso Regression**"
      ],
      "metadata": {
        "id": "elaE16kudMFt"
      }
    },
    {
      "cell_type": "code",
      "source": [
        "lasso_reg = Lasso(alpha=0.5)\n",
        "lasso_reg.fit(x_train, y_train)\n",
        "lasso_reg_predictions = lasso_reg.predict(x_test)\n",
        "lasso_reg_mse = mean_squared_error(y_test, lasso_reg_predictions)\n",
        "print(\"Lasso Regression Predictions:\", lasso_reg_predictions)\n",
        "print(\"Lasso Regression MSE:\", lasso_reg_mse)"
      ],
      "metadata": {
        "colab": {
          "base_uri": "https://localhost:8080/"
        },
        "id": "YdoXgOnndPqx",
        "outputId": "eff5c1f4-8823-4bf9-93c8-1d5e12b7363e"
      },
      "execution_count": 49,
      "outputs": [
        {
          "output_type": "stream",
          "name": "stdout",
          "text": [
            "Lasso Regression Predictions: [10.70525472  8.70680989  9.64879686 24.94418484 14.75963976  8.41128396\n",
            " 10.62606808 18.41934282  9.92148798 17.8896808  23.46940935 10.73283606\n",
            " 13.42981498 17.11865071 11.77151563 13.33330558 21.15874078  9.09970991\n",
            " 14.1819578  18.87701806 24.93414232 12.48048696 16.61824666 13.8486818\n",
            "  7.85302528 15.12309195 14.73002977 20.66705225 17.03135197  8.93878314\n",
            " 12.50559213 20.85983123 21.35113254 21.86642572  7.24169508  7.08934316\n",
            "  9.29669707 15.68432825 13.29770473  7.31543104 11.00462014  9.1096251\n",
            " 15.607934   18.23465622 18.93227325 13.47970993  5.43029681 10.51796479\n",
            " 15.5983514  11.01249567 12.22427242 20.65683325 20.70555177 16.96824772\n",
            "  9.97159587  9.4750909  23.58115784 15.99872075 18.06578229  8.24324242]\n",
            "Lasso Regression MSE: 3.9227412462996387\n"
          ]
        }
      ]
    },
    {
      "cell_type": "markdown",
      "source": [
        "**Decision Tree Regression**"
      ],
      "metadata": {
        "id": "mNeuX-G9dVXB"
      }
    },
    {
      "cell_type": "code",
      "source": [
        "dt_reg = DecisionTreeRegressor()\n",
        "dt_reg.fit(x_train, y_train)\n",
        "dt_reg_predictions = dt_reg.predict(x_test)\n",
        "dt_reg_mse = mean_squared_error(y_test, dt_reg_predictions)\n",
        "print(\"Decision Tree Regression Predictions:\", dt_reg_predictions)\n",
        "print(\"Decision Tree Regression MSE:\", dt_reg_mse)"
      ],
      "metadata": {
        "colab": {
          "base_uri": "https://localhost:8080/"
        },
        "id": "m10u2CTKdXV1",
        "outputId": "2ac552af-bada-412c-d49c-12335f075f3b"
      },
      "execution_count": 50,
      "outputs": [
        {
          "output_type": "stream",
          "name": "stdout",
          "text": [
            "Decision Tree Regression Predictions: [11.3  9.7 13.2 25.5 16.7 12.6 12.  18.4  7.  17.4 25.4 11.  15.6 19.7\n",
            " 11.3 11.5 20.9  9.5 12.6 17.4 25.5 14.  17.1 11.9  9.4 16.  17.5 22.3\n",
            " 16.5  7.3 12.6 23.8 18.9 21.5  7.   6.6  9.7 17.1 12.   6.6  7.   5.7\n",
            " 15.5 20.2 17.4 14.2  3.2 12.  16.  10.6 12.2 20.8 18.9 19.9  9.6  9.7\n",
            " 18.9 17.1 17.4  6.6]\n",
            "Decision Tree Regression MSE: 3.9046666666666665\n"
          ]
        }
      ]
    },
    {
      "cell_type": "markdown",
      "source": [
        "**Random Forest Regression**"
      ],
      "metadata": {
        "id": "WK0SqR-edaNo"
      }
    },
    {
      "cell_type": "code",
      "source": [
        "rf_reg = RandomForestRegressor()\n",
        "rf_reg.fit(x_train, y_train)\n",
        "rf_reg_predictions = rf_reg.predict(x_test)\n",
        "rf_reg_mse = mean_squared_error(y_test, rf_reg_predictions)\n",
        "print(\"Random Forest Regression Predictions:\", rf_reg_predictions)\n",
        "print(\"Random Forest Regression MSE:\", rf_reg_mse)"
      ],
      "metadata": {
        "colab": {
          "base_uri": "https://localhost:8080/"
        },
        "id": "naAgxnDtdcQq",
        "outputId": "c057fd2f-8c01-45f6-b774-3dff8782b6b5"
      },
      "execution_count": 51,
      "outputs": [
        {
          "output_type": "stream",
          "name": "stdout",
          "text": [
            "Random Forest Regression Predictions: [11.168 10.53  11.522 25.281 16.878 11.311  9.625 17.987  8.716 17.987\n",
            " 24.876 11.468 15.632 18.742 11.545 12.961 20.385  7.253 13.997 17.894\n",
            " 25.206 12.201 17.335 12.247 10.902 14.308 17.153 22.377 16.461  7.641\n",
            " 12.754 23.471 20.323 22.301  6.206  6.78  10.671 17.401 13.197  7.115\n",
            " 10.287  7.678 14.365 18.546 18.368 13.424  5.429 10.367 14.9   11.623\n",
            " 11.792 20.202 20.238 19.277 10.323 11.055 20.426 17.589 18.597  6.291]\n",
            "Random Forest Regression MSE: 2.427126983333335\n"
          ]
        }
      ]
    },
    {
      "cell_type": "markdown",
      "source": [
        "**Gradient Boosting Regression**"
      ],
      "metadata": {
        "id": "beAjLT-bdfBk"
      }
    },
    {
      "cell_type": "code",
      "source": [
        "gb_reg = GradientBoostingRegressor()\n",
        "gb_reg.fit(x_train, y_train)\n",
        "gb_reg_predictions = gb_reg.predict(x_test)\n",
        "gb_reg_mse = mean_squared_error(y_test, gb_reg_predictions)\n",
        "print(\"Gradient Boosting Regression Predictions:\", gb_reg_predictions)\n",
        "print(\"Gradient Boosting Regression MSE:\", gb_reg_mse)"
      ],
      "metadata": {
        "colab": {
          "base_uri": "https://localhost:8080/"
        },
        "id": "Lcz_vJhMdh7t",
        "outputId": "1db74fd7-ee1d-429d-d7a0-e93866533d26"
      },
      "execution_count": 52,
      "outputs": [
        {
          "output_type": "stream",
          "name": "stdout",
          "text": [
            "Gradient Boosting Regression Predictions: [11.11253694 10.30940388 11.18945237 25.54051936 15.28044924 11.13696578\n",
            " 10.58077609 19.06116573 10.00220721 18.85853561 24.79448678 11.48775325\n",
            " 13.81719078 18.88145785 11.49094701 12.46277905 21.06558123  5.9757832\n",
            " 13.81284383 18.47217513 25.30919302 11.11227058 17.41303449 13.39038816\n",
            " 10.36737603 14.25397955 16.49674448 21.96386056 15.94972011  7.66731097\n",
            " 12.8683859  23.42267889 20.42826038 22.34821322  5.69984749  6.64230542\n",
            " 10.62786699 18.35396486 12.70075477  7.26538526 10.35167244  7.62350246\n",
            " 14.70377676 18.85853561 18.86221795 13.75711528  5.25203162 11.18449967\n",
            " 15.0608388  11.90396091 11.55283866 19.74380736 20.17926534 18.83232291\n",
            "  9.88718628 10.81141385 20.66060961 17.04769242 18.76453674  5.75756427]\n",
            "Gradient Boosting Regression MSE: 2.536331073782622\n"
          ]
        }
      ]
    },
    {
      "cell_type": "markdown",
      "source": [
        "**Support Vector Regression**"
      ],
      "metadata": {
        "id": "sZnY4CRFeIyC"
      }
    },
    {
      "cell_type": "code",
      "source": [
        "scaler = StandardScaler()\n",
        "X_train_scaled = scaler.fit_transform(x_train)\n",
        "X_test_scaled = scaler.transform(x_test)\n",
        "svr_reg = SVR()\n",
        "svr_reg.fit(X_train_scaled, y_train)\n",
        "svr_reg_predictions = svr_reg.predict(X_test_scaled)\n",
        "svr_reg_mse = mean_squared_error(y_test, svr_reg_predictions)\n",
        "print(\"Support Vector Regression Predictions:\", svr_reg_predictions)\n",
        "print(\"Support Vector Regression MSE:\", svr_reg_mse)"
      ],
      "metadata": {
        "colab": {
          "base_uri": "https://localhost:8080/"
        },
        "id": "Kw4yj5KjeLiD",
        "outputId": "41c4b22c-3c94-4517-c8ff-b37bca1bf93b"
      },
      "execution_count": 53,
      "outputs": [
        {
          "output_type": "stream",
          "name": "stdout",
          "text": [
            "Support Vector Regression Predictions: [ 9.85717369  8.91712768 10.79081063 22.2120083  14.96618597  9.27437038\n",
            " 13.93578604 17.92655776 12.3378776  17.79727214 22.30382834 10.23382537\n",
            " 14.63315962 17.14725109 10.72575517 12.94873002 19.12136066 10.26123472\n",
            " 14.79710252 18.63485262 21.29434537 13.82192481 16.33910465 13.30577682\n",
            "  9.4896225  14.99208964 14.92516726 21.30595419 17.03329146  9.91041866\n",
            " 15.76066401 20.88527672 18.92352525 21.44225957 10.37025276  8.31446674\n",
            " 10.23714847 16.41373913 13.40000275  8.53895783 12.77208627  9.98726543\n",
            " 15.48156265 18.07193937 18.80027852 13.05668426 11.03755372 14.54430317\n",
            " 16.27337161 11.33417811 11.64420131 20.04970692 19.40178821 16.78505312\n",
            "  9.27308127  9.30298242 20.53233223 15.74043249 17.78762651  9.75882082]\n",
            "Support Vector Regression MSE: 6.8109180666022615\n"
          ]
        }
      ]
    },
    {
      "cell_type": "markdown",
      "source": [
        "**Gradient Descent**"
      ],
      "metadata": {
        "id": "LDRFQwQCeOMp"
      }
    },
    {
      "cell_type": "code",
      "source": [
        "gd_reg = make_pipeline(StandardScaler(), SGDRegressor())\n",
        "gd_reg.fit(x_train, y_train)\n",
        "gd_reg_predictions = gd_reg.predict(x_test)\n",
        "gd_reg_mse = mean_squared_error(y_test, gd_reg_predictions)\n",
        "print(\"Gradient Descent Regression Predictions:\", gd_reg_predictions)\n",
        "print(\"Gradient Descent Regression MSE:\", gd_reg_mse)"
      ],
      "metadata": {
        "colab": {
          "base_uri": "https://localhost:8080/"
        },
        "id": "egWC9a_QeQdX",
        "outputId": "b3b8e232-73bf-40a5-fbd6-66a58cdc25b4"
      },
      "execution_count": 54,
      "outputs": [
        {
          "output_type": "stream",
          "name": "stdout",
          "text": [
            "Gradient Descent Regression Predictions: [10.67259324  8.66887911  9.60318538 24.95207506 14.72850227  8.38406259\n",
            " 10.70871807 18.34037983  9.97693641 17.83786852 23.48623046 10.70158361\n",
            " 13.35629791 17.05921013 11.74925002 13.283839   21.07540074  9.07787339\n",
            " 14.21401324 18.82280604 24.9731482  12.40936487 16.59387182 13.8305535\n",
            "  7.81072298 15.08749997 14.67551775 20.64124092 16.96021031  8.95270602\n",
            " 12.62764855 20.89783002 21.31454998 21.83527437  7.25778557  7.06298467\n",
            "  9.29422357 15.68858623 13.31142819  7.29660353 11.06108519  9.06145781\n",
            " 15.56562389 18.17390002 18.94229894 13.43636643  5.36356646 10.61624327\n",
            " 15.66254423 10.98630889 12.20097293 20.6970972  20.66838916 16.92742852\n",
            "  9.94989367  9.43639222 23.56473052 15.96965789 18.03805857  8.25862118]\n",
            "Gradient Descent Regression MSE: 3.933647281042696\n"
          ]
        }
      ]
    },
    {
      "cell_type": "markdown",
      "source": [
        "**Performance** (A lower MSE indicates better performance)"
      ],
      "metadata": {
        "id": "I7aRcpGmeS5t"
      }
    },
    {
      "cell_type": "code",
      "source": [
        "print(\"Linear Regression MSE:\", linear_reg_mse)\n",
        "print(\"Polynomial Regression MSE:\", poly_reg_mse)\n",
        "print(\"Ridge Regression MSE:\", ridge_reg_mse)\n",
        "print(\"Lasso Regression MSE:\", lasso_reg_mse)\n",
        "print(\"Decision Tree Regression MSE:\", dt_reg_mse)\n",
        "print(\"Random Forest Regression MSE:\", rf_reg_mse)\n",
        "print(\"Gradient Boosting Regression MSE:\", gb_reg_mse)\n",
        "print(\"Support Vector Regression MSE:\", svr_reg_mse)\n",
        "print(\"Gradient Descent Regression MSE:\", gd_reg_mse)"
      ],
      "metadata": {
        "colab": {
          "base_uri": "https://localhost:8080/"
        },
        "id": "CV7disPyeWA_",
        "outputId": "126b8a9e-5244-400d-fb48-e43282f899b1"
      },
      "execution_count": 55,
      "outputs": [
        {
          "output_type": "stream",
          "name": "stdout",
          "text": [
            "Linear Regression MSE: 3.9380152204802865\n",
            "Polynomial Regression MSE: 2.56516590086676\n",
            "Ridge Regression MSE: 3.938007513471864\n",
            "Lasso Regression MSE: 3.9227412462996387\n",
            "Decision Tree Regression MSE: 3.9046666666666665\n",
            "Random Forest Regression MSE: 2.427126983333335\n",
            "Gradient Boosting Regression MSE: 2.536331073782622\n",
            "Support Vector Regression MSE: 6.8109180666022615\n",
            "Gradient Descent Regression MSE: 3.933647281042696\n"
          ]
        }
      ]
    },
    {
      "cell_type": "code",
      "source": [
        "# Initialize the best MSE variable\n",
        "best_mse = float('inf') # It should be an initial value that is higher than the maximum possible MSE to ensure that the first model's MSE is assigned correctly.\n",
        "best_model = None\n",
        "\n",
        "# Compare the MSE values and find the best model\n",
        "if linear_reg_mse < best_mse:\n",
        "    best_mse = linear_reg_mse\n",
        "    best_model = \"Linear Regression\"\n",
        "\n",
        "if poly_reg_mse < best_mse:\n",
        "    best_mse = poly_reg_mse\n",
        "    best_model = \"Polynomial Regression\"\n",
        "\n",
        "if ridge_reg_mse < best_mse:\n",
        "    best_mse = ridge_reg_mse\n",
        "    best_model = \"Ridge Regression\"\n",
        "\n",
        "if lasso_reg_mse < best_mse:\n",
        "    best_mse = lasso_reg_mse\n",
        "    best_model = \"Lasso Regression\"\n",
        "\n",
        "if dt_reg_mse < best_mse:\n",
        "    best_mse = dt_reg_mse\n",
        "    best_model = \"Decision Tree Regression\"\n",
        "\n",
        "if rf_reg_mse < best_mse:\n",
        "    best_mse = rf_reg_mse\n",
        "    best_model = \"Random Forest Regression\"\n",
        "\n",
        "if gb_reg_mse < best_mse:\n",
        "    best_mse = gb_reg_mse\n",
        "    best_model = \"Gradient Boosting Regression\"\n",
        "\n",
        "if svr_reg_mse < best_mse:\n",
        "    best_mse = svr_reg_mse\n",
        "    best_model = \"Support Vector Regression\"\n",
        "\n",
        "if gd_reg_mse < best_mse:\n",
        "    best_mse = gd_reg_mse\n",
        "    best_model = \"Gradient Descent Regression\"\n",
        "\n",
        "print(\"The best model is:\", best_model)\n"
      ],
      "metadata": {
        "colab": {
          "base_uri": "https://localhost:8080/"
        },
        "id": "0msXUGvVeYzC",
        "outputId": "abe9e733-6fe6-452c-f7ff-9107df1a197c"
      },
      "execution_count": 56,
      "outputs": [
        {
          "output_type": "stream",
          "name": "stdout",
          "text": [
            "The best model is: Random Forest Regression\n"
          ]
        }
      ]
    }
  ]
}