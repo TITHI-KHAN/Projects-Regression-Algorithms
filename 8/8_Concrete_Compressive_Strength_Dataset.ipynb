{
  "nbformat": 4,
  "nbformat_minor": 0,
  "metadata": {
    "colab": {
      "provenance": []
    },
    "kernelspec": {
      "name": "python3",
      "display_name": "Python 3"
    },
    "language_info": {
      "name": "python"
    }
  },
  "cells": [
    {
      "cell_type": "code",
      "execution_count": 28,
      "metadata": {
        "id": "LetWJ6YSDwMD"
      },
      "outputs": [],
      "source": [
        "import pandas as pd\n",
        "from sklearn.model_selection import train_test_split\n",
        "from sklearn.linear_model import LinearRegression, LogisticRegression, Ridge, Lasso\n",
        "from sklearn.preprocessing import PolynomialFeatures, StandardScaler\n",
        "from sklearn.tree import DecisionTreeRegressor\n",
        "from sklearn.ensemble import RandomForestRegressor, GradientBoostingRegressor\n",
        "from sklearn.svm import SVR\n",
        "from sklearn.metrics import mean_squared_error\n",
        "from sklearn.pipeline import make_pipeline\n",
        "from sklearn.linear_model import SGDRegressor"
      ]
    },
    {
      "cell_type": "code",
      "source": [
        "# Load the data into a pandas DataFrame\n",
        "data = pd.read_excel('Concrete_Data.xls')"
      ],
      "metadata": {
        "id": "A-xnhKLRDw7A"
      },
      "execution_count": 29,
      "outputs": []
    },
    {
      "cell_type": "code",
      "source": [
        "data.head()"
      ],
      "metadata": {
        "colab": {
          "base_uri": "https://localhost:8080/",
          "height": 319
        },
        "id": "m6h5Mq8hEBgX",
        "outputId": "74cde653-4cfd-4d30-bdcc-4f985e3517a1"
      },
      "execution_count": 30,
      "outputs": [
        {
          "output_type": "execute_result",
          "data": {
            "text/plain": [
              "   Cement (component 1)(kg in a m^3 mixture)  \\\n",
              "0                                      540.0   \n",
              "1                                      540.0   \n",
              "2                                      332.5   \n",
              "3                                      332.5   \n",
              "4                                      198.6   \n",
              "\n",
              "   Blast Furnace Slag (component 2)(kg in a m^3 mixture)  \\\n",
              "0                                                0.0       \n",
              "1                                                0.0       \n",
              "2                                              142.5       \n",
              "3                                              142.5       \n",
              "4                                              132.4       \n",
              "\n",
              "   Fly Ash (component 3)(kg in a m^3 mixture)  \\\n",
              "0                                         0.0   \n",
              "1                                         0.0   \n",
              "2                                         0.0   \n",
              "3                                         0.0   \n",
              "4                                         0.0   \n",
              "\n",
              "   Water  (component 4)(kg in a m^3 mixture)  \\\n",
              "0                                      162.0   \n",
              "1                                      162.0   \n",
              "2                                      228.0   \n",
              "3                                      228.0   \n",
              "4                                      192.0   \n",
              "\n",
              "   Superplasticizer (component 5)(kg in a m^3 mixture)  \\\n",
              "0                                                2.5     \n",
              "1                                                2.5     \n",
              "2                                                0.0     \n",
              "3                                                0.0     \n",
              "4                                                0.0     \n",
              "\n",
              "   Coarse Aggregate  (component 6)(kg in a m^3 mixture)  \\\n",
              "0                                             1040.0      \n",
              "1                                             1055.0      \n",
              "2                                              932.0      \n",
              "3                                              932.0      \n",
              "4                                              978.4      \n",
              "\n",
              "   Fine Aggregate (component 7)(kg in a m^3 mixture)  Age (day)  \\\n",
              "0                                              676.0         28   \n",
              "1                                              676.0         28   \n",
              "2                                              594.0        270   \n",
              "3                                              594.0        365   \n",
              "4                                              825.5        360   \n",
              "\n",
              "   Concrete compressive strength(MPa, megapascals)   \n",
              "0                                         79.986111  \n",
              "1                                         61.887366  \n",
              "2                                         40.269535  \n",
              "3                                         41.052780  \n",
              "4                                         44.296075  "
            ],
            "text/html": [
              "\n",
              "\n",
              "  <div id=\"df-b2c5cda3-a42d-49c7-a2d1-5212cbf74433\">\n",
              "    <div class=\"colab-df-container\">\n",
              "      <div>\n",
              "<style scoped>\n",
              "    .dataframe tbody tr th:only-of-type {\n",
              "        vertical-align: middle;\n",
              "    }\n",
              "\n",
              "    .dataframe tbody tr th {\n",
              "        vertical-align: top;\n",
              "    }\n",
              "\n",
              "    .dataframe thead th {\n",
              "        text-align: right;\n",
              "    }\n",
              "</style>\n",
              "<table border=\"1\" class=\"dataframe\">\n",
              "  <thead>\n",
              "    <tr style=\"text-align: right;\">\n",
              "      <th></th>\n",
              "      <th>Cement (component 1)(kg in a m^3 mixture)</th>\n",
              "      <th>Blast Furnace Slag (component 2)(kg in a m^3 mixture)</th>\n",
              "      <th>Fly Ash (component 3)(kg in a m^3 mixture)</th>\n",
              "      <th>Water  (component 4)(kg in a m^3 mixture)</th>\n",
              "      <th>Superplasticizer (component 5)(kg in a m^3 mixture)</th>\n",
              "      <th>Coarse Aggregate  (component 6)(kg in a m^3 mixture)</th>\n",
              "      <th>Fine Aggregate (component 7)(kg in a m^3 mixture)</th>\n",
              "      <th>Age (day)</th>\n",
              "      <th>Concrete compressive strength(MPa, megapascals)</th>\n",
              "    </tr>\n",
              "  </thead>\n",
              "  <tbody>\n",
              "    <tr>\n",
              "      <th>0</th>\n",
              "      <td>540.0</td>\n",
              "      <td>0.0</td>\n",
              "      <td>0.0</td>\n",
              "      <td>162.0</td>\n",
              "      <td>2.5</td>\n",
              "      <td>1040.0</td>\n",
              "      <td>676.0</td>\n",
              "      <td>28</td>\n",
              "      <td>79.986111</td>\n",
              "    </tr>\n",
              "    <tr>\n",
              "      <th>1</th>\n",
              "      <td>540.0</td>\n",
              "      <td>0.0</td>\n",
              "      <td>0.0</td>\n",
              "      <td>162.0</td>\n",
              "      <td>2.5</td>\n",
              "      <td>1055.0</td>\n",
              "      <td>676.0</td>\n",
              "      <td>28</td>\n",
              "      <td>61.887366</td>\n",
              "    </tr>\n",
              "    <tr>\n",
              "      <th>2</th>\n",
              "      <td>332.5</td>\n",
              "      <td>142.5</td>\n",
              "      <td>0.0</td>\n",
              "      <td>228.0</td>\n",
              "      <td>0.0</td>\n",
              "      <td>932.0</td>\n",
              "      <td>594.0</td>\n",
              "      <td>270</td>\n",
              "      <td>40.269535</td>\n",
              "    </tr>\n",
              "    <tr>\n",
              "      <th>3</th>\n",
              "      <td>332.5</td>\n",
              "      <td>142.5</td>\n",
              "      <td>0.0</td>\n",
              "      <td>228.0</td>\n",
              "      <td>0.0</td>\n",
              "      <td>932.0</td>\n",
              "      <td>594.0</td>\n",
              "      <td>365</td>\n",
              "      <td>41.052780</td>\n",
              "    </tr>\n",
              "    <tr>\n",
              "      <th>4</th>\n",
              "      <td>198.6</td>\n",
              "      <td>132.4</td>\n",
              "      <td>0.0</td>\n",
              "      <td>192.0</td>\n",
              "      <td>0.0</td>\n",
              "      <td>978.4</td>\n",
              "      <td>825.5</td>\n",
              "      <td>360</td>\n",
              "      <td>44.296075</td>\n",
              "    </tr>\n",
              "  </tbody>\n",
              "</table>\n",
              "</div>\n",
              "      <button class=\"colab-df-convert\" onclick=\"convertToInteractive('df-b2c5cda3-a42d-49c7-a2d1-5212cbf74433')\"\n",
              "              title=\"Convert this dataframe to an interactive table.\"\n",
              "              style=\"display:none;\">\n",
              "\n",
              "  <svg xmlns=\"http://www.w3.org/2000/svg\" height=\"24px\"viewBox=\"0 0 24 24\"\n",
              "       width=\"24px\">\n",
              "    <path d=\"M0 0h24v24H0V0z\" fill=\"none\"/>\n",
              "    <path d=\"M18.56 5.44l.94 2.06.94-2.06 2.06-.94-2.06-.94-.94-2.06-.94 2.06-2.06.94zm-11 1L8.5 8.5l.94-2.06 2.06-.94-2.06-.94L8.5 2.5l-.94 2.06-2.06.94zm10 10l.94 2.06.94-2.06 2.06-.94-2.06-.94-.94-2.06-.94 2.06-2.06.94z\"/><path d=\"M17.41 7.96l-1.37-1.37c-.4-.4-.92-.59-1.43-.59-.52 0-1.04.2-1.43.59L10.3 9.45l-7.72 7.72c-.78.78-.78 2.05 0 2.83L4 21.41c.39.39.9.59 1.41.59.51 0 1.02-.2 1.41-.59l7.78-7.78 2.81-2.81c.8-.78.8-2.07 0-2.86zM5.41 20L4 18.59l7.72-7.72 1.47 1.35L5.41 20z\"/>\n",
              "  </svg>\n",
              "      </button>\n",
              "\n",
              "\n",
              "\n",
              "    <div id=\"df-bb48ab0a-aee5-45f9-ba3e-cc1e1411671e\">\n",
              "      <button class=\"colab-df-quickchart\" onclick=\"quickchart('df-bb48ab0a-aee5-45f9-ba3e-cc1e1411671e')\"\n",
              "              title=\"Suggest charts.\"\n",
              "              style=\"display:none;\">\n",
              "\n",
              "<svg xmlns=\"http://www.w3.org/2000/svg\" height=\"24px\"viewBox=\"0 0 24 24\"\n",
              "     width=\"24px\">\n",
              "    <g>\n",
              "        <path d=\"M19 3H5c-1.1 0-2 .9-2 2v14c0 1.1.9 2 2 2h14c1.1 0 2-.9 2-2V5c0-1.1-.9-2-2-2zM9 17H7v-7h2v7zm4 0h-2V7h2v10zm4 0h-2v-4h2v4z\"/>\n",
              "    </g>\n",
              "</svg>\n",
              "      </button>\n",
              "    </div>\n",
              "\n",
              "<style>\n",
              "  .colab-df-quickchart {\n",
              "    background-color: #E8F0FE;\n",
              "    border: none;\n",
              "    border-radius: 50%;\n",
              "    cursor: pointer;\n",
              "    display: none;\n",
              "    fill: #1967D2;\n",
              "    height: 32px;\n",
              "    padding: 0 0 0 0;\n",
              "    width: 32px;\n",
              "  }\n",
              "\n",
              "  .colab-df-quickchart:hover {\n",
              "    background-color: #E2EBFA;\n",
              "    box-shadow: 0px 1px 2px rgba(60, 64, 67, 0.3), 0px 1px 3px 1px rgba(60, 64, 67, 0.15);\n",
              "    fill: #174EA6;\n",
              "  }\n",
              "\n",
              "  [theme=dark] .colab-df-quickchart {\n",
              "    background-color: #3B4455;\n",
              "    fill: #D2E3FC;\n",
              "  }\n",
              "\n",
              "  [theme=dark] .colab-df-quickchart:hover {\n",
              "    background-color: #434B5C;\n",
              "    box-shadow: 0px 1px 3px 1px rgba(0, 0, 0, 0.15);\n",
              "    filter: drop-shadow(0px 1px 2px rgba(0, 0, 0, 0.3));\n",
              "    fill: #FFFFFF;\n",
              "  }\n",
              "</style>\n",
              "\n",
              "    <script>\n",
              "      async function quickchart(key) {\n",
              "        const containerElement = document.querySelector('#' + key);\n",
              "        const charts = await google.colab.kernel.invokeFunction(\n",
              "            'suggestCharts', [key], {});\n",
              "      }\n",
              "    </script>\n",
              "\n",
              "      <script>\n",
              "\n",
              "function displayQuickchartButton(domScope) {\n",
              "  let quickchartButtonEl =\n",
              "    domScope.querySelector('#df-bb48ab0a-aee5-45f9-ba3e-cc1e1411671e button.colab-df-quickchart');\n",
              "  quickchartButtonEl.style.display =\n",
              "    google.colab.kernel.accessAllowed ? 'block' : 'none';\n",
              "}\n",
              "\n",
              "        displayQuickchartButton(document);\n",
              "      </script>\n",
              "      <style>\n",
              "    .colab-df-container {\n",
              "      display:flex;\n",
              "      flex-wrap:wrap;\n",
              "      gap: 12px;\n",
              "    }\n",
              "\n",
              "    .colab-df-convert {\n",
              "      background-color: #E8F0FE;\n",
              "      border: none;\n",
              "      border-radius: 50%;\n",
              "      cursor: pointer;\n",
              "      display: none;\n",
              "      fill: #1967D2;\n",
              "      height: 32px;\n",
              "      padding: 0 0 0 0;\n",
              "      width: 32px;\n",
              "    }\n",
              "\n",
              "    .colab-df-convert:hover {\n",
              "      background-color: #E2EBFA;\n",
              "      box-shadow: 0px 1px 2px rgba(60, 64, 67, 0.3), 0px 1px 3px 1px rgba(60, 64, 67, 0.15);\n",
              "      fill: #174EA6;\n",
              "    }\n",
              "\n",
              "    [theme=dark] .colab-df-convert {\n",
              "      background-color: #3B4455;\n",
              "      fill: #D2E3FC;\n",
              "    }\n",
              "\n",
              "    [theme=dark] .colab-df-convert:hover {\n",
              "      background-color: #434B5C;\n",
              "      box-shadow: 0px 1px 3px 1px rgba(0, 0, 0, 0.15);\n",
              "      filter: drop-shadow(0px 1px 2px rgba(0, 0, 0, 0.3));\n",
              "      fill: #FFFFFF;\n",
              "    }\n",
              "  </style>\n",
              "\n",
              "      <script>\n",
              "        const buttonEl =\n",
              "          document.querySelector('#df-b2c5cda3-a42d-49c7-a2d1-5212cbf74433 button.colab-df-convert');\n",
              "        buttonEl.style.display =\n",
              "          google.colab.kernel.accessAllowed ? 'block' : 'none';\n",
              "\n",
              "        async function convertToInteractive(key) {\n",
              "          const element = document.querySelector('#df-b2c5cda3-a42d-49c7-a2d1-5212cbf74433');\n",
              "          const dataTable =\n",
              "            await google.colab.kernel.invokeFunction('convertToInteractive',\n",
              "                                                     [key], {});\n",
              "          if (!dataTable) return;\n",
              "\n",
              "          const docLinkHtml = 'Like what you see? Visit the ' +\n",
              "            '<a target=\"_blank\" href=https://colab.research.google.com/notebooks/data_table.ipynb>data table notebook</a>'\n",
              "            + ' to learn more about interactive tables.';\n",
              "          element.innerHTML = '';\n",
              "          dataTable['output_type'] = 'display_data';\n",
              "          await google.colab.output.renderOutput(dataTable, element);\n",
              "          const docLink = document.createElement('div');\n",
              "          docLink.innerHTML = docLinkHtml;\n",
              "          element.appendChild(docLink);\n",
              "        }\n",
              "      </script>\n",
              "    </div>\n",
              "  </div>\n"
            ]
          },
          "metadata": {},
          "execution_count": 30
        }
      ]
    },
    {
      "cell_type": "code",
      "source": [
        "data.columns\n"
      ],
      "metadata": {
        "colab": {
          "base_uri": "https://localhost:8080/"
        },
        "id": "uSC2Jni_Emu0",
        "outputId": "2a451bac-44f2-41a2-d1a5-021c76c5525b"
      },
      "execution_count": 31,
      "outputs": [
        {
          "output_type": "execute_result",
          "data": {
            "text/plain": [
              "Index(['Cement (component 1)(kg in a m^3 mixture)',\n",
              "       'Blast Furnace Slag (component 2)(kg in a m^3 mixture)',\n",
              "       'Fly Ash (component 3)(kg in a m^3 mixture)',\n",
              "       'Water  (component 4)(kg in a m^3 mixture)',\n",
              "       'Superplasticizer (component 5)(kg in a m^3 mixture)',\n",
              "       'Coarse Aggregate  (component 6)(kg in a m^3 mixture)',\n",
              "       'Fine Aggregate (component 7)(kg in a m^3 mixture)', 'Age (day)',\n",
              "       'Concrete compressive strength(MPa, megapascals) '],\n",
              "      dtype='object')"
            ]
          },
          "metadata": {},
          "execution_count": 31
        }
      ]
    },
    {
      "cell_type": "code",
      "source": [
        "# Split the data into features (X) and target variable (y)\n",
        "X = data.drop('Concrete compressive strength(MPa, megapascals) ', axis=1)\n",
        "y = data['Concrete compressive strength(MPa, megapascals) ']\n"
      ],
      "metadata": {
        "id": "X7NgBIQCEVN8"
      },
      "execution_count": 32,
      "outputs": []
    },
    {
      "cell_type": "code",
      "source": [
        "# Split the data into training and testing sets\n",
        "X_train, X_test, y_train, y_test = train_test_split(X, y, test_size=0.2, random_state=42)"
      ],
      "metadata": {
        "id": "qFqf6cRgE0R5"
      },
      "execution_count": 33,
      "outputs": []
    },
    {
      "cell_type": "markdown",
      "source": [
        "**Linear Regression**"
      ],
      "metadata": {
        "id": "is5O5gOMFVIb"
      }
    },
    {
      "cell_type": "code",
      "source": [
        "linear_reg = LinearRegression()\n",
        "linear_reg.fit(X_train, y_train)\n",
        "linear_reg_predictions = linear_reg.predict(X_test)\n",
        "linear_reg_mse = mean_squared_error(y_test, linear_reg_predictions)\n",
        "print(\"Linear Regression Predictions:\", linear_reg_predictions)\n",
        "print(\"Linear Regression MSE:\", linear_reg_mse)"
      ],
      "metadata": {
        "colab": {
          "base_uri": "https://localhost:8080/"
        },
        "id": "U269Wk6tEgn3",
        "outputId": "6d40f452-f055-4352-eeb5-8d8dc3aa0b48"
      },
      "execution_count": 34,
      "outputs": [
        {
          "output_type": "stream",
          "name": "stdout",
          "text": [
            "Linear Regression Predictions: [59.65716303 52.03714377 63.51983933 51.57136586 17.22016023 39.86885347\n",
            " 26.7014459  44.72001905 29.35815964 38.19395083 27.75960429 19.81902805\n",
            " 66.86570362 52.27861085 29.97488442 44.46971738 29.22747564 26.53666548\n",
            " 31.97285179 32.03281435 36.83075422 31.78840646 38.06323109 25.12704389\n",
            " 33.10262783 33.84686343 14.24402829 40.33017694 41.8734224  21.33722165\n",
            " 35.72337032 30.97439331 43.87999877 45.52719553 30.76258029 29.59134147\n",
            " 28.90854895 38.84992727 20.35373267 38.45367912 21.16914452 15.89005619\n",
            " 31.06597728 50.70863565 20.27776785 57.64263729 50.89344091 60.97165671\n",
            " 20.00500457 19.22515249 40.48409011 36.24365771 30.01371229 33.43484666\n",
            " 46.67040038 51.47108005 27.72793697 15.6989103  29.68932338 18.12663446\n",
            " 38.63280045 20.53807749 31.57288203 55.47763222 22.94017793 21.34046484\n",
            " 32.26815463 16.70640658 25.3934816  25.54665879 17.84152097 18.51792287\n",
            " 13.06162611 27.70981144 28.60696944 19.95922713 60.05454252 44.64528228\n",
            " 54.61922419 23.51126629 43.65616067 48.70134773 32.25955929 28.06169116\n",
            " 68.83312992 51.57136586 34.71491037 33.44136481 26.65509112 21.55865709\n",
            " 26.86522989 60.91675645 23.85030242 42.19583681 39.66810427 47.80017882\n",
            " 27.87509143 28.03683808 27.38851406 28.94942578 30.40604994 39.73145052\n",
            " 46.29745312 28.94345563 77.11281752 14.21655471 41.42693507 29.5477108\n",
            " 33.48942012 50.41599481 64.61616637 39.11433622 27.14600747 33.97828897\n",
            " 47.05229183 55.99114348 22.25991474 40.99664089 42.74949955 39.70478611\n",
            " 34.38542022 23.19229553 37.61517678 27.96569407 25.8445655  31.54575912\n",
            " 48.54223515 55.05720474 36.27684135 32.15080037 15.56319837 34.22366823\n",
            " 14.35307994 60.29529959 14.57557703 57.77090469 25.95238216 33.10072158\n",
            " 32.18170892 33.51323028 29.30031823 33.07963745 28.69399519 26.7102805\n",
            " 47.25456601 36.8624742  27.77790036 18.68514407 19.88795476 19.70614353\n",
            " 35.85389089 25.37826133 47.42663787 27.67009557 38.14774862 33.74545698\n",
            " 27.64254046 67.87201819 52.03714377 40.32252759 21.40108576 58.51664943\n",
            " 33.17256309 49.78707626 54.59142683 52.75807117 37.8043477  25.36141958\n",
            " 50.28536415 33.42490487 36.2016018  25.86267228 23.09836785 34.46022149\n",
            " 39.73384289 20.27700338 23.38226087 39.52172533 40.53214697 41.94789392\n",
            " 36.17318516 26.3949677  50.30650424 42.40480911 37.14319325 48.99231728\n",
            " 21.22928312 31.18288041 46.62722281 20.99366236 46.96085997 37.68432052\n",
            " 35.70967403 48.49373384 55.21452646 31.41271013 40.40363858 25.49154333\n",
            " 22.41534866 22.26436205 37.97376264 56.00040544 17.48668893 49.08759389\n",
            " 54.19951317 31.46789107]\n",
            "Linear Regression MSE: 95.97548435337708\n"
          ]
        }
      ]
    },
    {
      "cell_type": "markdown",
      "source": [
        "**Polynomial Regression**"
      ],
      "metadata": {
        "id": "pJXK77AsFX7c"
      }
    },
    {
      "cell_type": "code",
      "source": [
        "poly_features = PolynomialFeatures(degree=2)\n",
        "X_poly = poly_features.fit_transform(X_train)\n",
        "poly_reg = LinearRegression()\n",
        "poly_reg.fit(X_poly, y_train)\n",
        "X_test_poly = poly_features.transform(X_test)\n",
        "poly_reg_predictions = poly_reg.predict(X_test_poly)\n",
        "poly_reg_mse = mean_squared_error(y_test, poly_reg_predictions)\n",
        "print(\"Polynomial Regression Predictions:\", poly_reg_predictions)\n",
        "print(\"Polynomial Regression MSE:\", poly_reg_mse)"
      ],
      "metadata": {
        "colab": {
          "base_uri": "https://localhost:8080/"
        },
        "id": "N7qBP2P-Fayv",
        "outputId": "ebde57e7-559d-4f0b-bc15-eb391b754622"
      },
      "execution_count": 35,
      "outputs": [
        {
          "output_type": "stream",
          "name": "stdout",
          "text": [
            "Polynomial Regression Predictions: [38.32969507 49.51308903 63.18616195 47.95197497 16.11571166 43.40600477\n",
            " 29.48518844 58.58563997 25.83642251 46.32049232 36.15828066  8.97066261\n",
            " 43.82670028 43.29784748 28.7679566  32.56382018 32.16245727 22.25503995\n",
            " 37.35611088 29.03799502 35.43882022 49.07796101 43.05263098 15.53518332\n",
            " 30.37473263 29.97349607 10.72959499 44.7982238  55.63284466 21.44083011\n",
            " 39.54188213 33.15632842 43.96615083 63.20446639 24.80242744 31.26560517\n",
            " 26.73684731 41.5915874  13.76522645 44.77433289 19.90815185  7.57637458\n",
            " 38.00729262 46.28828998 14.58065402 66.50499533 43.76712851 31.97353875\n",
            " 22.37090201 12.97675312 45.22900671 43.30307221 27.15345537 23.48019505\n",
            " 45.18976495 47.38791491 20.78185831 14.75408343 34.05114687 19.37825813\n",
            " 41.39236124 17.47856314 42.48352897 51.74216665 24.22961477 17.11948244\n",
            " 37.59936232 16.48592952 28.83525319 22.33042372 12.32217565 20.36582171\n",
            " 10.31050357 36.10990482 28.09053384 11.59891373 36.35278194 58.11166926\n",
            " 61.83318399 13.72002931 51.98141418 38.81503019 39.07112092 33.37272587\n",
            " 44.88582277 47.95197497 34.39392751 36.89209176 23.57864376 18.33425482\n",
            " 29.47346733 78.44921889 18.66207742 48.42396943 40.02218083 51.22675002\n",
            " 26.59604639 28.88568023 26.13473067 36.1263944  30.33692572 41.45023153\n",
            " 53.72715671 28.97515152 78.06061965 12.94985128 59.75081049 32.9364752\n",
            " 31.10670079 57.61156507 52.20557822 43.18665831 25.73315957 43.85711187\n",
            " 45.06919497 66.13480085 22.89733534 35.65403395 53.81438323 39.94664283\n",
            " 28.90706384 28.59949199 43.20380719 34.13875258 15.10548002 37.79410448\n",
            " 49.83367127 45.64665431 41.19350016 38.34152565 14.60368003 28.35875946\n",
            " 12.18511023 66.05186898  5.45928129 55.36904723 24.70936884 44.94737141\n",
            " 24.56039627 33.85247115 34.09955479 34.78516871 24.10277491 32.17023659\n",
            " 47.46876395 36.77310748 28.37301726 16.76791902 12.43124868 19.44970406\n",
            " 33.5456081  18.45328822 41.47430406 28.45381222 51.55853367 43.73320889\n",
            " 31.67962488 75.95551278 49.51308903 46.04558635 16.75290202 45.58935163\n",
            " 28.51810023 46.30642995 44.00181588 65.2217973  46.44009405 22.47365359\n",
            " 48.91215369 25.85445682 38.64995417 18.58261565 16.092661   34.99188684\n",
            " 30.6241244  15.01419369 22.95734906 44.79706036 46.54034556 48.65662411\n",
            " 37.85568738 23.17505948 57.47875003 49.22184181 40.60884289 48.99713009\n",
            " 22.97322563 31.08176846 42.38404908 17.80996314 39.78689434 59.27719121\n",
            " 47.7721011  41.88031237 24.38994218 28.38597316 50.16356482 18.28565917\n",
            " 28.32490651 14.60065006 38.96067722 66.12879261 12.34276245 49.16450547\n",
            " 61.59524722 39.69616854]\n",
            "Polynomial Regression MSE: 55.589926374568996\n"
          ]
        }
      ]
    },
    {
      "cell_type": "markdown",
      "source": [
        "**Ridge Regression**"
      ],
      "metadata": {
        "id": "zJJd0BxuFcmz"
      }
    },
    {
      "cell_type": "code",
      "source": [
        "ridge_reg = Ridge(alpha=0.5)\n",
        "ridge_reg.fit(X_train, y_train)\n",
        "ridge_reg_predictions = ridge_reg.predict(X_test)\n",
        "ridge_reg_mse = mean_squared_error(y_test, ridge_reg_predictions)\n",
        "print(\"Ridge Regression Predictions:\", ridge_reg_predictions)\n",
        "print(\"Ridge Regression MSE:\", ridge_reg_mse)"
      ],
      "metadata": {
        "colab": {
          "base_uri": "https://localhost:8080/"
        },
        "id": "V2gKy-IwFfFy",
        "outputId": "1ecd74ec-f8a6-4fe9-d092-ec81418b570a"
      },
      "execution_count": 36,
      "outputs": [
        {
          "output_type": "stream",
          "name": "stdout",
          "text": [
            "Ridge Regression Predictions: [59.65714253 52.0371201  63.51972603 51.57134225 17.22015745 39.86887796\n",
            " 26.70146525 44.7200025  29.35813515 38.19400505 27.75955478 19.81907312\n",
            " 66.86549866 52.27857377 29.97493726 44.4698053  29.22747654 26.53669112\n",
            " 31.97279348 32.03281699 36.83080877 31.78851958 38.06322346 25.12707037\n",
            " 33.10264897 33.84681928 14.24402692 40.33015349 41.87340704 21.33725186\n",
            " 35.72341072 30.97444833 43.88004246 45.52718185 30.76258485 29.59134109\n",
            " 28.9085453  38.84992254 20.35378167 38.45365062 21.16915991 15.89010226\n",
            " 31.06600602 50.7086048  20.27774621 57.64262739 50.89337113 60.97168658\n",
            " 20.00500836 19.22516916 40.48411625 36.24370439 30.01371202 33.43490107\n",
            " 46.67045552 51.47107084 27.72791267 15.69890887 29.68927935 18.12663057\n",
            " 38.63280051 20.5381511  31.57285915 55.4775447  22.9401936  21.34039501\n",
            " 32.26814969 16.70637224 25.3934653  25.54663344 17.84156567 18.51793453\n",
            " 13.06163671 27.70976176 28.60699449 19.95922421 60.05452218 44.64525049\n",
            " 54.6193029  23.51126987 43.65616201 48.70134302 32.25960581 28.06167173\n",
            " 68.83312521 51.57134225 34.71492151 33.44139437 26.65507234 21.55863531\n",
            " 26.86525725 60.91676153 23.8502939  42.19582937 39.66813273 47.80015921\n",
            " 27.87509323 28.03677845 27.38857496 28.94945919 30.40608869 39.7314515\n",
            " 46.29745037 28.94349237 77.11261143 14.21654681 41.4269718  29.54765431\n",
            " 33.48940569 50.4160833  64.6161654  39.11430678 27.14600736 33.9782841\n",
            " 47.05233384 55.99114551 22.25992754 40.99656668 42.74950052 39.70481564\n",
            " 34.38547504 23.19230501 37.61516986 27.96570624 25.84459262 31.54573979\n",
            " 48.54229655 55.05716032 36.27684625 32.15077294 15.56319426 34.22363932\n",
            " 14.35307313 60.29526159 14.57562185 57.7709012  25.95239296 33.10070937\n",
            " 32.18170027 33.51314927 29.30041107 33.07962327 28.69404816 26.7103104\n",
            " 47.25462644 36.86248081 27.7778407  18.68508812 19.88800382 19.70616377\n",
            " 35.85386181 25.37825122 47.42664395 27.67018859 38.14771297 33.74544474\n",
            " 27.64247448 67.87207745 52.0371201  40.32250114 21.40111557 58.51656241\n",
            " 33.172556   49.78705748 54.59138247 52.75811254 37.80434695 25.36140234\n",
            " 50.28536681 33.42488957 36.20159227 25.86272964 23.09835633 34.46020542\n",
            " 39.73376886 20.27701608 23.38229977 39.5216941  40.53211419 41.94792186\n",
            " 36.17320331 26.39501297 50.30659201 42.40481968 37.14318049 48.99229817\n",
            " 21.22928677 31.18283991 46.62720047 20.99367704 46.96086609 37.68441243\n",
            " 35.70963754 48.49382565 55.21453241 31.41274796 40.40362546 25.49152844\n",
            " 22.41530532 22.26440685 37.97370411 56.00040706 17.48673343 49.08759365\n",
            " 54.19960435 31.46792016]\n",
            "Ridge Regression MSE: 95.97546281139233\n"
          ]
        }
      ]
    },
    {
      "cell_type": "markdown",
      "source": [
        "**Lasso Regression**"
      ],
      "metadata": {
        "id": "g1Uu4tGYFggr"
      }
    },
    {
      "cell_type": "code",
      "source": [
        "lasso_reg = Lasso(alpha=0.5)\n",
        "lasso_reg.fit(X_train, y_train)\n",
        "lasso_reg_predictions = lasso_reg.predict(X_test)\n",
        "lasso_reg_mse = mean_squared_error(y_test, lasso_reg_predictions)\n",
        "print(\"Lasso Regression Predictions:\", lasso_reg_predictions)\n",
        "print(\"Lasso Regression MSE:\", lasso_reg_mse)"
      ],
      "metadata": {
        "colab": {
          "base_uri": "https://localhost:8080/"
        },
        "id": "crt2MPyRFkQP",
        "outputId": "cba42cce-9efa-4b83-b013-381264d62b6e"
      },
      "execution_count": 37,
      "outputs": [
        {
          "output_type": "stream",
          "name": "stdout",
          "text": [
            "Lasso Regression Predictions: [59.60640005 51.94874612 63.22670111 51.48398379 17.23802425 39.94133849\n",
            " 26.7614765  44.63855676 29.2754524  38.35612711 27.69487594 19.99826329\n",
            " 66.37628538 52.14934189 30.06743561 44.63014675 29.25921944 26.62894217\n",
            " 31.86389608 32.00567441 36.94614026 32.00063721 38.01153797 25.20828342\n",
            " 33.16515981 33.71905888 14.26458471 40.30793549 41.80108598 21.47525167\n",
            " 35.83470218 31.15231093 43.96876326 45.46077965 30.74220859 29.65533178\n",
            " 28.87324133 38.86092436 20.48847259 38.36325606 21.23101275 16.0231511\n",
            " 31.12223028 50.57524061 20.21618393 57.57113933 50.73305607 61.03197052\n",
            " 20.0534147  19.2910041  40.5582506  36.36446647 30.0206672  33.53628907\n",
            " 46.76332767 51.4130384  27.64878423 15.73685053 29.56521949 18.15155748\n",
            " 38.655436   20.82400323 31.48667054 55.25680151 23.00976156 21.22717961\n",
            " 32.2741345  16.67279246 25.3307668  25.47259676 18.00057309 18.58262931\n",
            " 13.14079947 27.6447312  28.68747876 19.93167172 60.01183745 44.55129976\n",
            " 54.76196102 23.46121769 43.56218865 48.6578396  32.40418907 28.01254381\n",
            " 68.81155845 51.48398379 34.74870707 33.52972639 26.59229502 21.49428035\n",
            " 26.96816095 60.88456627 23.81856383 42.18610728 39.74891689 47.75741981\n",
            " 27.86391598 27.87729714 27.61128526 29.07956003 30.52867856 39.75356949\n",
            " 46.30270699 29.06474794 76.60105674 14.23735648 41.47118854 29.46140045\n",
            " 33.43536396 50.64264549 64.4764937  39.01404735 27.21532953 33.92420197\n",
            " 47.11002032 55.98700409 22.33634129 40.83164509 42.71973366 39.78922116\n",
            " 34.506138   23.24938025 37.57189658 28.02967989 25.9332682  31.47229954\n",
            " 48.67963165 54.92504735 36.31071284 32.10852823 15.59279257 34.13404283\n",
            " 14.35663745 60.16374109 14.73360672 57.77345301 25.97471608 33.03880648\n",
            " 32.13959753 33.34980976 29.48168125 33.07450765 28.78933919 26.81885912\n",
            " 47.40440324 36.90211992 27.66240311 18.60021705 20.02371026 19.80928718\n",
            " 35.760711   25.38136561 47.38677802 27.85501308 38.02784251 33.67493345\n",
            " 27.52488841 67.96726852 51.94874612 40.28802168 21.47841185 58.28330091\n",
            " 33.13153346 49.78460681 54.46028502 52.80335891 37.87274147 25.30688599\n",
            " 50.29366549 33.36807015 36.15961213 26.01119968 23.04881337 34.44800127\n",
            " 39.58033479 20.31753242 23.50226006 39.43891408 40.48237197 42.04098496\n",
            " 36.21477542 26.52275496 50.53141161 42.43731226 37.09505763 48.97373201\n",
            " 21.26734146 31.07258514 46.54236426 21.0475047  46.92201568 37.84740327\n",
            " 35.59275038 48.73977607 55.20179073 31.47879835 40.34839397 25.48403063\n",
            " 22.33469273 22.43826555 37.81845639 55.99528963 17.63837131 49.05153889\n",
            " 54.43311466 31.58383244]\n",
            "Lasso Regression MSE: 95.95809284240904\n"
          ]
        }
      ]
    },
    {
      "cell_type": "markdown",
      "source": [
        "**Decision Tree Regression**"
      ],
      "metadata": {
        "id": "Syv1aj_0FmIh"
      }
    },
    {
      "cell_type": "code",
      "source": [
        "dt_reg = DecisionTreeRegressor()\n",
        "dt_reg.fit(X_train, y_train)\n",
        "dt_reg_predictions = dt_reg.predict(X_test)\n",
        "dt_reg_mse = mean_squared_error(y_test, dt_reg_predictions)\n",
        "print(\"Decision Tree Regression Predictions:\", dt_reg_predictions)\n",
        "print(\"Decision Tree Regression MSE:\", dt_reg_mse)"
      ],
      "metadata": {
        "colab": {
          "base_uri": "https://localhost:8080/"
        },
        "id": "9-mVzYCyFomg",
        "outputId": "bfb1503e-e7e9-4122-d0cc-8291fe99ae9f"
      },
      "execution_count": 38,
      "outputs": [
        {
          "output_type": "stream",
          "name": "stdout",
          "text": [
            "Decision Tree Regression Predictions: [51.73276323 39.39665864 71.29871316 35.3011712  10.53588276 44.27814872\n",
            " 23.69660064 42.919881   33.94290348 31.35047372 44.86834018 17.20035777\n",
            " 36.3009114  42.79577532 17.8229546  21.81984697 40.06200298 20.41607384\n",
            " 37.17103011 31.81242264 38.80439876 39.2311844  45.08483564  9.56165317\n",
            " 33.72916592 33.94290348 12.73462172 41.05346947 59.30183076 14.98920824\n",
            " 41.05346947 32.72253096 39.70002808 47.8151606  19.41564416 36.44776979\n",
            " 33.72916592 42.13387836 10.3938507  47.401475   18.91232668  2.33180783\n",
            " 41.71950328 46.68441996 13.35515012 61.09446836 55.64760796 34.48758952\n",
            " 26.84819544  8.06342182 57.21823429 47.7144971  24.3385028  17.20035777\n",
            " 44.13335876 35.3011712  26.31040416 11.48391226 39.14844728 19.69143456\n",
            " 42.13387836 13.52062436 34.55653712 54.09628696 25.74503384 18.03393426\n",
            " 33.39821744 12.18097249 31.53663224 22.31833812 11.36256448 28.02168359\n",
            "  6.46728488 44.86834018 26.14768782 13.81709904 51.73276323 51.0556978\n",
            " 59.59042572 10.3938507  39.35804798 49.20100736 31.35047372 34.20490436\n",
            " 43.6982994  35.3011712  44.6118551  33.7153764  19.41564416 20.72564856\n",
            " 31.84000168 73.69808964  9.4458212  56.61907964 33.41890172 46.93194184\n",
            " 22.7182342  40.2309246  19.1991487  34.48758952 30.14389072 43.79827342\n",
            " 33.11691123 24.00065956 69.29923276 12.05204048 55.0201848  30.12320644\n",
            " 51.25564584 67.568648   39.35804798 45.08483564 23.52354217 40.56876784\n",
            " 35.75425543 61.45989064 20.27748916 33.75674496 55.50971276 33.41890172\n",
            " 17.23621052 27.62730332 46.6430514  27.3377234  29.15794004 48.67011084\n",
            " 52.61391356 49.20100736 42.13387836 32.39847724 11.48391226 28.6822016\n",
            " 17.57612219 65.99664272  6.46728488 41.15137506 31.44700036 43.58177796\n",
            " 22.94576128 37.36339392 28.46846404 31.1787942  18.01600788 32.32952964\n",
            " 46.23419213 43.57833058 26.8550902  13.19657064  8.06342182 14.8437288\n",
            " 34.73580088 18.03393426 45.89841732 18.12632404 33.56369168 42.34761592\n",
            " 23.8358748  69.65776028 39.39665864 36.93522932 17.16588397 60.19814956\n",
            " 36.9903874  52.51669744 33.39821744 68.75060685 41.8367142  20.72564856\n",
            " 38.65891932 21.78054684 56.8472962   9.61750072 24.98661024 40.679084\n",
            " 36.3498642   7.31534036 28.02168359 50.60064364 36.93522932 31.35047372\n",
            " 30.88163004 26.91714304 67.568648   31.35047372 38.50033984 51.73276323\n",
            " 22.43554904 38.50033984 28.29609504 14.98920824 25.510612   39.2311844\n",
            " 33.56369168 39.00464228 27.62730332 26.31040416 45.08483564 18.03393426\n",
            " 19.98790924 27.234302   26.04840328 55.25460664 18.41590396 35.10122316\n",
            " 65.69721315 31.35047372]\n",
            "Decision Tree Regression MSE: 47.229535823041076\n"
          ]
        }
      ]
    },
    {
      "cell_type": "markdown",
      "source": [
        "**Random Forest Regression**"
      ],
      "metadata": {
        "id": "h2ABIagvFrTG"
      }
    },
    {
      "cell_type": "code",
      "source": [
        "rf_reg = RandomForestRegressor()\n",
        "rf_reg.fit(X_train, y_train)\n",
        "rf_reg_predictions = rf_reg.predict(X_test)\n",
        "rf_reg_mse = mean_squared_error(y_test, rf_reg_predictions)\n",
        "print(\"Random Forest Regression Predictions:\", rf_reg_predictions)\n",
        "print(\"Random Forest Regression MSE:\", rf_reg_mse)"
      ],
      "metadata": {
        "colab": {
          "base_uri": "https://localhost:8080/"
        },
        "id": "szcNcwHQFsDP",
        "outputId": "35c264fb-a912-4d7f-ddb1-a809e6554b20"
      },
      "execution_count": 39,
      "outputs": [
        {
          "output_type": "stream",
          "name": "stdout",
          "text": [
            "Random Forest Regression Predictions: [51.75948732 40.26480151 72.38105258 34.48897241 11.6107     44.03115773\n",
            " 23.98724925 49.47590144 37.18118609 43.21571447 41.36602962 15.7080835\n",
            " 38.44823515 34.20146486 23.01185445 22.08551586 37.46669811 17.35950262\n",
            " 38.18939306 32.16888173 35.71581123 37.39490986 45.18120666 11.91838359\n",
            " 31.86351281 39.46004217 11.57519888 44.79724141 52.95513523 14.89255848\n",
            " 58.73986448 34.35184549 41.48670171 47.77568317 17.52470797 39.83846797\n",
            " 35.81620977 43.9780405   9.54688459 51.19436127 16.70474568  4.96473052\n",
            " 41.241986   49.23499853 12.93875488 65.75532612 52.44176339 34.55167631\n",
            " 26.67775697  8.27455316 54.26409163 43.8655387  27.52437834 17.12500494\n",
            " 44.3885752  34.9541205  27.17085051 12.41567702 35.28462378 20.23100469\n",
            " 44.08872898 14.98644837 36.0889517  51.59243188 31.9843228  25.33371314\n",
            " 33.46793036 13.32286885 30.09068878 23.30883934 12.32231507 30.44954233\n",
            "  9.43840047 41.36602962 26.77958568 11.5229366  51.65629345 51.58783538\n",
            " 56.80155045  9.76320769 37.94885557 45.76246513 37.55380256 39.40447927\n",
            " 41.50417303 34.48897241 38.76997322 34.22454753 25.02533909 22.43327377\n",
            " 32.68956711 71.60844548 12.15815084 55.82925731 38.4807932  48.65035735\n",
            " 23.90174044 37.0567081  20.95556517 33.4884728  31.12513523 41.1936882\n",
            " 36.20133728 24.21265275 68.69994022 12.22808439 54.00444876 30.18820334\n",
            " 42.6476414  60.17297679 38.13762031 48.65210862 25.69502221 40.43473371\n",
            " 35.05532277 55.72379506 19.46141847 35.30091609 56.63524293 38.58458691\n",
            " 19.51745908 27.66072912 51.22854943 30.40226693 24.3586286  44.6952817\n",
            " 51.26027518 48.71483485 42.44666604 33.9978754  12.39676469 34.74696678\n",
            " 20.89610082 68.32647865 10.37998534 40.59319597 32.46519783 39.2026332\n",
            " 21.97305543 33.87612773 27.79080566 33.05268654 14.90387081 32.74443561\n",
            " 43.73191136 43.03010063 27.29873353 14.13234126  6.62803621 17.95566494\n",
            " 41.97797405 25.87990914 39.99179462 21.95698375 41.38359058 39.78595747\n",
            " 27.10425304 70.28694653 40.26480151 47.09785045 13.46565244 58.0370422\n",
            " 33.11780755 52.42121881 33.75143599 65.80218882 41.18528349 22.85061359\n",
            " 38.86529722 21.19928902 45.99115184 10.39320259 23.36963143 38.05715846\n",
            " 34.9442019  11.42347279 32.15092778 47.42981246 47.14574146 37.17571855\n",
            " 31.44241534 26.92703702 60.17297679 34.18284802 39.40132639 50.93611508\n",
            " 22.73798079 36.61391971 28.2382155  15.41586288 27.47541373 39.99893661\n",
            " 39.26124555 39.07816505 29.15514766 28.8747033  43.29788129 25.95009779\n",
            " 22.87409714 28.12997959 37.77450876 54.1497903  25.96246896 33.11629497\n",
            " 67.17488826 35.52563011]\n",
            "Random Forest Regression MSE: 32.6430545262479\n"
          ]
        }
      ]
    },
    {
      "cell_type": "markdown",
      "source": [
        "**Gradient Boosting Regression**"
      ],
      "metadata": {
        "id": "Md7RL2afFtwx"
      }
    },
    {
      "cell_type": "code",
      "source": [
        "gb_reg = GradientBoostingRegressor()\n",
        "gb_reg.fit(X_train, y_train)\n",
        "gb_reg_predictions = gb_reg.predict(X_test)\n",
        "gb_reg_mse = mean_squared_error(y_test, gb_reg_predictions)\n",
        "print(\"Gradient Boosting Regression Predictions:\", gb_reg_predictions)\n",
        "print(\"Gradient Boosting Regression MSE:\", gb_reg_mse)"
      ],
      "metadata": {
        "colab": {
          "base_uri": "https://localhost:8080/"
        },
        "id": "zzyuuirRFxHl",
        "outputId": "60c3c1ed-95ee-4ef1-e5f8-6597c5abecc7"
      },
      "execution_count": 40,
      "outputs": [
        {
          "output_type": "stream",
          "name": "stdout",
          "text": [
            "Gradient Boosting Regression Predictions: [48.8987815  45.47830899 69.37091533 33.9399045  13.31701684 42.66199282\n",
            " 25.48962823 50.83636176 31.87762522 42.34713171 39.85792829 13.52437931\n",
            " 37.852787   42.03266311 30.41250904 21.63029521 36.83505406 19.34241974\n",
            " 37.1863369  30.082273   38.59934748 37.36352354 46.04758481 11.07202762\n",
            " 37.91688683 33.5831423  10.18882565 45.68938442 53.91821196 13.52039955\n",
            " 51.08253561 35.33193697 46.71410814 54.56036611 18.32819119 35.04565778\n",
            " 30.99273072 42.76423449 12.36039104 47.8420023  15.38670196  7.88087353\n",
            " 37.79975469 51.88965988 11.65798171 75.30653562 52.41000132 34.32620302\n",
            " 26.42814247  8.57949647 47.34674116 42.42949205 25.0987211  18.21381045\n",
            " 41.21828985 32.91084006 27.30571433  9.10972232 37.06039167 23.24683943\n",
            " 43.17599149 14.86123237 37.3482922  51.02007633 31.23104501 22.77541548\n",
            " 32.97673285 15.30597222 33.27326915 23.38335543 12.49020357 27.85462471\n",
            "  9.48802288 39.85792829 27.0816892  10.90891339 49.23358392 51.55047307\n",
            " 54.14169658 12.46328742 34.91880568 41.88862041 37.42136216 37.95721916\n",
            " 40.9916984  33.9399045  33.78640088 38.20101434 24.16351897 21.03303548\n",
            " 32.93340892 69.25941602 10.47579942 51.07784758 38.53770283 48.32382313\n",
            " 24.07485251 34.11776943 22.9602548  33.44050827 32.2207486  39.29207833\n",
            " 39.96267079 24.06247429 69.29402125  8.47998359 54.12266279 32.56466671\n",
            " 36.65297745 59.42206222 35.20258554 48.76276933 24.01411405 40.02361033\n",
            " 38.6807531  58.98702839 17.02423716 35.81593116 58.37969696 38.53770283\n",
            " 22.63138365 30.84135357 49.9457493  36.62943769 21.31607805 44.50918891\n",
            " 52.5995295  49.62779107 41.73145069 38.05577182  9.51364564 36.46106514\n",
            " 22.94698875 72.23352564  9.67755261 40.88108628 31.44759346 41.13324917\n",
            " 23.14696818 31.64705021 29.87310052 34.87032813 16.42154254 34.94258228\n",
            " 46.21153428 40.1054726  28.73616113 15.55362947  8.95177859 16.27616826\n",
            " 43.23399884 17.98739655 39.4036906  22.69242098 43.42496266 38.67967595\n",
            " 32.3188284  72.05179406 45.47830899 41.08845874 13.87150199 58.87154063\n",
            " 34.25857917 50.63901961 33.57097687 60.67022418 43.77033012 23.38335543\n",
            " 42.86198535 19.2160037  45.00617354 13.71816831 22.94074149 38.05703604\n",
            " 31.91712063  8.92000764 30.68228681 47.85326197 40.68453542 38.17546377\n",
            " 31.47888786 31.17763933 59.42206222 38.24107761 41.93326282 49.23358392\n",
            " 25.21725625 33.41883195 29.17613316 16.75463098 27.07242039 40.41231132\n",
            " 42.14060431 48.13518207 31.77205731 30.3309292  51.06647221 17.98739655\n",
            " 20.19615209 28.56748953 44.46159289 58.04675302 25.21211076 45.75345729\n",
            " 65.05755305 37.2191414 ]\n",
            "Gradient Boosting Regression MSE: 30.388351338536868\n"
          ]
        }
      ]
    },
    {
      "cell_type": "markdown",
      "source": [
        "**Support Vector Regression**"
      ],
      "metadata": {
        "id": "Ls56QRyyFp1U"
      }
    },
    {
      "cell_type": "code",
      "source": [
        "scaler = StandardScaler()\n",
        "X_train_scaled = scaler.fit_transform(X_train)\n",
        "X_test_scaled = scaler.transform(X_test)\n",
        "svr_reg = SVR()\n",
        "svr_reg.fit(X_train_scaled, y_train)\n",
        "svr_reg_predictions = svr_reg.predict(X_test_scaled)\n",
        "svr_reg_mse = mean_squared_error(y_test, svr_reg_predictions)\n",
        "print(\"Support Vector Regression Predictions:\", svr_reg_predictions)\n",
        "print(\"Support Vector Regression MSE:\", svr_reg_mse)"
      ],
      "metadata": {
        "colab": {
          "base_uri": "https://localhost:8080/"
        },
        "id": "R99OSmd1F08F",
        "outputId": "558d7402-69d4-48b6-b0a3-70ed2664fb02"
      },
      "execution_count": 41,
      "outputs": [
        {
          "output_type": "stream",
          "name": "stdout",
          "text": [
            "Support Vector Regression Predictions: [42.03139548 53.0686222  55.41209704 52.24747062 27.15705267 41.22530176\n",
            " 26.95661374 47.39965278 31.320643   43.2880413  34.64045111 20.65307646\n",
            " 46.85035782 44.68282126 26.77508431 34.53817218 32.0039248  25.8362313\n",
            " 33.89445217 27.82583391 32.08121165 37.41921703 41.37440553 26.32420111\n",
            " 31.75030464 35.14651652 16.71268529 45.70264808 44.52699398 22.79416313\n",
            " 37.58637062 33.16311887 39.86714291 46.98753962 25.63578668 35.14050366\n",
            " 30.45314456 41.2170668  21.01705402 41.86836866 19.44799367 19.65667477\n",
            " 33.41536477 47.22131072 19.47422321 61.19770959 42.83778649 39.02253424\n",
            " 22.33182812 21.63955798 42.86583148 40.47238901 30.83265194 28.16329678\n",
            " 42.07347495 51.34693701 28.703185   17.85177742 34.86065419 21.08621996\n",
            " 40.98687286 26.55513858 40.03659755 55.32099557 23.88654698 26.87749746\n",
            " 34.53465832 22.45636655 28.90353798 24.31425759 20.93526186 20.11337601\n",
            " 15.28760712 34.59190132 28.76695961 18.48732332 42.45892694 48.173001\n",
            " 42.4966478  19.90029627 42.30627231 48.0477294  37.14186453 32.8485122\n",
            " 41.43469015 52.24747062 32.83443866 33.67038594 25.30458805 21.53880192\n",
            " 28.19228273 62.81973378 23.98082374 44.60139684 36.59394357 42.68994906\n",
            " 27.54301807 27.54708104 30.12227743 36.09160723 30.36182974 39.91623922\n",
            " 41.91444573 28.8766717  48.71656995 17.36959712 44.57582404 34.0382262\n",
            " 31.91668049 48.53559855 39.34719809 42.45986229 33.38061299 41.38539346\n",
            " 39.03310573 55.17828333 23.9040568  34.98251059 41.80422672 36.66066504\n",
            " 28.00309415 29.89824856 37.55360064 32.9156734  27.86771728 35.14362312\n",
            " 44.02001638 52.90163284 40.62835554 34.34677782 17.71723396 33.77118822\n",
            " 19.78152745 58.08048355 21.99199769 42.66541904 23.76045357 41.90365317\n",
            " 30.04142864 36.58879664 29.22778263 35.56011891 24.82960713 32.44907904\n",
            " 43.45266029 36.87939543 31.03318768 24.39593659 20.54838049 20.09449253\n",
            " 36.65527005 28.55565044 42.59879931 26.94280131 44.79957891 39.94028329\n",
            " 31.49932966 48.94898728 53.0686222  45.79176846 16.41654017 46.74659564\n",
            " 31.92453446 43.81209943 52.34906321 48.02553974 41.93715406 24.0300054\n",
            " 47.00149386 32.20520753 35.59981896 24.84120077 24.14328131 35.29161987\n",
            " 35.71049893 17.79228207 21.58496282 42.13778594 46.34418084 45.90910755\n",
            " 32.4203214  25.70285232 48.547939   45.66823697 35.84519268 44.30418592\n",
            " 22.96794811 32.32952508 46.72135265 18.45222035 41.82425973 41.21518003\n",
            " 43.67281382 41.88059923 37.72904162 27.96178212 40.63561634 28.62090129\n",
            " 26.06650641 24.45316451 39.93148903 55.17776802 24.14910242 46.93154868\n",
            " 47.45114924 39.05152509]\n",
            "Support Vector Regression MSE: 88.97832686422466\n"
          ]
        }
      ]
    },
    {
      "cell_type": "markdown",
      "source": [
        "**Gradient Descent**"
      ],
      "metadata": {
        "id": "bFZYGibmF2Nj"
      }
    },
    {
      "cell_type": "code",
      "source": [
        "gd_reg = make_pipeline(StandardScaler(), SGDRegressor())\n",
        "gd_reg.fit(X_train, y_train)\n",
        "gd_reg_predictions = gd_reg.predict(X_test)\n",
        "gd_reg_mse = mean_squared_error(y_test, gd_reg_predictions)\n",
        "print(\"Gradient Descent Regression Predictions:\", gd_reg_predictions)\n",
        "print(\"Gradient Descent Regression MSE:\", gd_reg_mse)"
      ],
      "metadata": {
        "colab": {
          "base_uri": "https://localhost:8080/"
        },
        "id": "Nf5IaSTCF40s",
        "outputId": "135b468a-b2fc-4f4f-8bf9-e81e90cf204c"
      },
      "execution_count": 42,
      "outputs": [
        {
          "output_type": "stream",
          "name": "stdout",
          "text": [
            "Gradient Descent Regression Predictions: [59.81865181 51.78705538 63.65163348 51.32448022 17.43007311 40.27089221\n",
            " 26.98654115 44.65916305 29.1953155  38.50880513 28.32242921 20.84447622\n",
            " 67.20899396 51.79105331 29.84247329 44.0270154  29.29722924 26.71626478\n",
            " 32.09866299 31.78451792 36.64751915 31.4312096  37.68242711 25.24693013\n",
            " 33.67440122 33.71356274 14.27107093 40.86628026 41.85731932 21.83756302\n",
            " 35.77664289 31.33889012 43.82732323 45.65669569 30.51070082 29.95344195\n",
            " 28.72628833 39.35573987 20.58042125 38.20233339 21.19614558 16.14378337\n",
            " 30.90048706 50.06697353 19.80365149 57.22218139 51.26301803 61.30032729\n",
            " 20.06272161 19.39451052 40.62992142 36.46708615 30.02652036 33.15049165\n",
            " 45.77601223 51.09306049 27.57630244 15.9383296  29.59074441 18.30017288\n",
            " 39.14300311 21.84052889 31.02109917 55.52083994 23.14086535 22.10305274\n",
            " 32.46081562 17.33286303 24.79626357 25.13830438 18.23095233 18.7592449\n",
            " 13.35165656 28.27242202 29.18170495 19.39950919 60.26533278 44.93703688\n",
            " 53.85257983 22.52263232 42.52900808 48.4192002  32.58561736 27.93405002\n",
            " 68.92539935 51.32448022 35.24056196 33.66652423 26.5129019  21.07573319\n",
            " 27.1362791  60.79162764 23.81607459 42.21590114 39.82455798 47.93912977\n",
            " 27.85830668 27.66599407 28.16217053 29.4982849  30.51107295 40.09400132\n",
            " 46.41459569 29.10787533 77.38564752 14.41364328 41.39870226 29.97735686\n",
            " 33.5309664  51.45755909 63.34489037 38.91676105 27.52492235 33.65642788\n",
            " 46.80089398 56.12509748 22.36795236 41.54883588 42.93296649 39.88270715\n",
            " 34.21899955 23.41266633 37.68735301 28.03449809 26.32353355 31.36994111\n",
            " 48.23090824 54.91182103 36.65162226 32.318265   15.75711448 34.05972185\n",
            " 14.38072347 59.73064148 14.95242016 57.93923925 25.49879907 32.74475541\n",
            " 31.89145319 34.08965735 29.17802359 33.3077719  28.57039159 27.08367532\n",
            " 47.65597644 37.22777349 28.05036815 19.38474313 20.11784609 20.1779346\n",
            " 35.67873491 25.9384048  46.84204752 27.55901053 38.11494976 33.08311778\n",
            " 27.77312084 67.42777746 51.78705538 40.69023611 21.30205244 58.74570572\n",
            " 32.82538791 50.17253462 54.44924587 52.46743972 38.24005938 24.96197824\n",
            " 50.45855175 33.44171537 36.14833445 26.06246038 22.79810386 34.65090696\n",
            " 40.53617474 20.26976211 23.66929719 39.8487101  40.89399066 42.30651394\n",
            " 36.35288116 26.92337125 51.34256442 42.37432812 37.33034278 49.27917268\n",
            " 21.34534107 31.20412594 46.23821717 20.83141929 46.37947236 37.50437651\n",
            " 35.62976515 49.16825453 55.21470872 31.45333628 40.56836891 26.06230804\n",
            " 22.59588355 23.27299582 37.87628802 56.13391379 17.84351492 49.08416117\n",
            " 54.83480027 31.89857279]\n",
            "Gradient Descent Regression MSE: 96.13760013867262\n"
          ]
        }
      ]
    },
    {
      "cell_type": "markdown",
      "source": [
        "**Performance** (A lower MSE indicates better performance)"
      ],
      "metadata": {
        "id": "jIQoIT1LF8VO"
      }
    },
    {
      "cell_type": "code",
      "source": [
        "print(\"Linear Regression MSE:\", linear_reg_mse)\n",
        "print(\"Polynomial Regression MSE:\", poly_reg_mse)\n",
        "print(\"Ridge Regression MSE:\", ridge_reg_mse)\n",
        "print(\"Lasso Regression MSE:\", lasso_reg_mse)\n",
        "print(\"Decision Tree Regression MSE:\", dt_reg_mse)\n",
        "print(\"Random Forest Regression MSE:\", rf_reg_mse)\n",
        "print(\"Gradient Boosting Regression MSE:\", gb_reg_mse)\n",
        "print(\"Support Vector Regression MSE:\", svr_reg_mse)\n",
        "print(\"Gradient Descent Regression MSE:\", gd_reg_mse)"
      ],
      "metadata": {
        "colab": {
          "base_uri": "https://localhost:8080/"
        },
        "id": "eK0eAeKgF9WF",
        "outputId": "3b513105-01c5-4e2a-f82a-b0f11d5eb761"
      },
      "execution_count": 43,
      "outputs": [
        {
          "output_type": "stream",
          "name": "stdout",
          "text": [
            "Linear Regression MSE: 95.97548435337708\n",
            "Polynomial Regression MSE: 55.589926374568996\n",
            "Ridge Regression MSE: 95.97546281139233\n",
            "Lasso Regression MSE: 95.95809284240904\n",
            "Decision Tree Regression MSE: 47.229535823041076\n",
            "Random Forest Regression MSE: 32.6430545262479\n",
            "Gradient Boosting Regression MSE: 30.388351338536868\n",
            "Support Vector Regression MSE: 88.97832686422466\n",
            "Gradient Descent Regression MSE: 96.13760013867262\n"
          ]
        }
      ]
    },
    {
      "cell_type": "code",
      "source": [
        "# Initialize the best MSE variable\n",
        "best_mse = float('inf') # It should be an initial value that is higher than the maximum possible MSE to ensure that the first model's MSE is assigned correctly.\n",
        "best_model = None\n",
        "\n",
        "# Compare the MSE values and find the best model\n",
        "if linear_reg_mse < best_mse:\n",
        "    best_mse = linear_reg_mse\n",
        "    best_model = \"Linear Regression\"\n",
        "\n",
        "if poly_reg_mse < best_mse:\n",
        "    best_mse = poly_reg_mse\n",
        "    best_model = \"Polynomial Regression\"\n",
        "\n",
        "if ridge_reg_mse < best_mse:\n",
        "    best_mse = ridge_reg_mse\n",
        "    best_model = \"Ridge Regression\"\n",
        "\n",
        "if lasso_reg_mse < best_mse:\n",
        "    best_mse = lasso_reg_mse\n",
        "    best_model = \"Lasso Regression\"\n",
        "\n",
        "if dt_reg_mse < best_mse:\n",
        "    best_mse = dt_reg_mse\n",
        "    best_model = \"Decision Tree Regression\"\n",
        "\n",
        "if rf_reg_mse < best_mse:\n",
        "    best_mse = rf_reg_mse\n",
        "    best_model = \"Random Forest Regression\"\n",
        "\n",
        "if gb_reg_mse < best_mse:\n",
        "    best_mse = gb_reg_mse\n",
        "    best_model = \"Gradient Boosting Regression\"\n",
        "\n",
        "if svr_reg_mse < best_mse:\n",
        "    best_mse = svr_reg_mse\n",
        "    best_model = \"Support Vector Regression\"\n",
        "\n",
        "if gd_reg_mse < best_mse:\n",
        "    best_mse = gd_reg_mse\n",
        "    best_model = \"Gradient Descent Regression\"\n",
        "\n",
        "print(\"The best model is:\", best_model)\n"
      ],
      "metadata": {
        "colab": {
          "base_uri": "https://localhost:8080/"
        },
        "id": "jPYZ6i7tF-nz",
        "outputId": "4f05f918-3a15-4859-a02c-4d42fa492d6c"
      },
      "execution_count": 44,
      "outputs": [
        {
          "output_type": "stream",
          "name": "stdout",
          "text": [
            "The best model is: Gradient Boosting Regression\n"
          ]
        }
      ]
    }
  ]
}