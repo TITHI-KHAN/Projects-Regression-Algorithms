{
  "nbformat": 4,
  "nbformat_minor": 0,
  "metadata": {
    "colab": {
      "provenance": []
    },
    "kernelspec": {
      "name": "python3",
      "display_name": "Python 3"
    },
    "language_info": {
      "name": "python"
    }
  },
  "cells": [
    {
      "cell_type": "code",
      "execution_count": 101,
      "metadata": {
        "id": "AwtZc7mtL4TE"
      },
      "outputs": [],
      "source": [
        "import pandas as pd\n",
        "from sklearn.model_selection import train_test_split\n",
        "from sklearn.linear_model import LinearRegression, LogisticRegression, Ridge, Lasso\n",
        "from sklearn.preprocessing import PolynomialFeatures, StandardScaler\n",
        "from sklearn.tree import DecisionTreeRegressor\n",
        "from sklearn.ensemble import RandomForestRegressor, GradientBoostingRegressor\n",
        "from sklearn.svm import SVR\n",
        "from sklearn.metrics import mean_squared_error\n",
        "from sklearn.pipeline import make_pipeline\n",
        "from sklearn.linear_model import SGDRegressor"
      ]
    },
    {
      "cell_type": "code",
      "source": [
        "# Load the data into a pandas DataFrame\n",
        "data1 = pd.read_csv('student-mat.csv', delimiter=';')\n",
        "data2 = pd.read_csv('student-por.csv', delimiter=';')"
      ],
      "metadata": {
        "id": "kqsoUXOdL46K"
      },
      "execution_count": 102,
      "outputs": []
    },
    {
      "cell_type": "code",
      "source": [
        "data1.head()"
      ],
      "metadata": {
        "colab": {
          "base_uri": "https://localhost:8080/",
          "height": 299
        },
        "id": "IrqCvC6sMHC6",
        "outputId": "93c24b63-5a15-4579-d509-e7f26782aed0"
      },
      "execution_count": 103,
      "outputs": [
        {
          "output_type": "execute_result",
          "data": {
            "text/plain": [
              "  school sex  age address famsize Pstatus  Medu  Fedu     Mjob      Fjob  ...  \\\n",
              "0     GP   F   18       U     GT3       A     4     4  at_home   teacher  ...   \n",
              "1     GP   F   17       U     GT3       T     1     1  at_home     other  ...   \n",
              "2     GP   F   15       U     LE3       T     1     1  at_home     other  ...   \n",
              "3     GP   F   15       U     GT3       T     4     2   health  services  ...   \n",
              "4     GP   F   16       U     GT3       T     3     3    other     other  ...   \n",
              "\n",
              "  famrel freetime  goout  Dalc  Walc health absences  G1  G2  G3  \n",
              "0      4        3      4     1     1      3        6   5   6   6  \n",
              "1      5        3      3     1     1      3        4   5   5   6  \n",
              "2      4        3      2     2     3      3       10   7   8  10  \n",
              "3      3        2      2     1     1      5        2  15  14  15  \n",
              "4      4        3      2     1     2      5        4   6  10  10  \n",
              "\n",
              "[5 rows x 33 columns]"
            ],
            "text/html": [
              "\n",
              "\n",
              "  <div id=\"df-a26bf518-9022-4403-8af7-a1e8df96d3bc\">\n",
              "    <div class=\"colab-df-container\">\n",
              "      <div>\n",
              "<style scoped>\n",
              "    .dataframe tbody tr th:only-of-type {\n",
              "        vertical-align: middle;\n",
              "    }\n",
              "\n",
              "    .dataframe tbody tr th {\n",
              "        vertical-align: top;\n",
              "    }\n",
              "\n",
              "    .dataframe thead th {\n",
              "        text-align: right;\n",
              "    }\n",
              "</style>\n",
              "<table border=\"1\" class=\"dataframe\">\n",
              "  <thead>\n",
              "    <tr style=\"text-align: right;\">\n",
              "      <th></th>\n",
              "      <th>school</th>\n",
              "      <th>sex</th>\n",
              "      <th>age</th>\n",
              "      <th>address</th>\n",
              "      <th>famsize</th>\n",
              "      <th>Pstatus</th>\n",
              "      <th>Medu</th>\n",
              "      <th>Fedu</th>\n",
              "      <th>Mjob</th>\n",
              "      <th>Fjob</th>\n",
              "      <th>...</th>\n",
              "      <th>famrel</th>\n",
              "      <th>freetime</th>\n",
              "      <th>goout</th>\n",
              "      <th>Dalc</th>\n",
              "      <th>Walc</th>\n",
              "      <th>health</th>\n",
              "      <th>absences</th>\n",
              "      <th>G1</th>\n",
              "      <th>G2</th>\n",
              "      <th>G3</th>\n",
              "    </tr>\n",
              "  </thead>\n",
              "  <tbody>\n",
              "    <tr>\n",
              "      <th>0</th>\n",
              "      <td>GP</td>\n",
              "      <td>F</td>\n",
              "      <td>18</td>\n",
              "      <td>U</td>\n",
              "      <td>GT3</td>\n",
              "      <td>A</td>\n",
              "      <td>4</td>\n",
              "      <td>4</td>\n",
              "      <td>at_home</td>\n",
              "      <td>teacher</td>\n",
              "      <td>...</td>\n",
              "      <td>4</td>\n",
              "      <td>3</td>\n",
              "      <td>4</td>\n",
              "      <td>1</td>\n",
              "      <td>1</td>\n",
              "      <td>3</td>\n",
              "      <td>6</td>\n",
              "      <td>5</td>\n",
              "      <td>6</td>\n",
              "      <td>6</td>\n",
              "    </tr>\n",
              "    <tr>\n",
              "      <th>1</th>\n",
              "      <td>GP</td>\n",
              "      <td>F</td>\n",
              "      <td>17</td>\n",
              "      <td>U</td>\n",
              "      <td>GT3</td>\n",
              "      <td>T</td>\n",
              "      <td>1</td>\n",
              "      <td>1</td>\n",
              "      <td>at_home</td>\n",
              "      <td>other</td>\n",
              "      <td>...</td>\n",
              "      <td>5</td>\n",
              "      <td>3</td>\n",
              "      <td>3</td>\n",
              "      <td>1</td>\n",
              "      <td>1</td>\n",
              "      <td>3</td>\n",
              "      <td>4</td>\n",
              "      <td>5</td>\n",
              "      <td>5</td>\n",
              "      <td>6</td>\n",
              "    </tr>\n",
              "    <tr>\n",
              "      <th>2</th>\n",
              "      <td>GP</td>\n",
              "      <td>F</td>\n",
              "      <td>15</td>\n",
              "      <td>U</td>\n",
              "      <td>LE3</td>\n",
              "      <td>T</td>\n",
              "      <td>1</td>\n",
              "      <td>1</td>\n",
              "      <td>at_home</td>\n",
              "      <td>other</td>\n",
              "      <td>...</td>\n",
              "      <td>4</td>\n",
              "      <td>3</td>\n",
              "      <td>2</td>\n",
              "      <td>2</td>\n",
              "      <td>3</td>\n",
              "      <td>3</td>\n",
              "      <td>10</td>\n",
              "      <td>7</td>\n",
              "      <td>8</td>\n",
              "      <td>10</td>\n",
              "    </tr>\n",
              "    <tr>\n",
              "      <th>3</th>\n",
              "      <td>GP</td>\n",
              "      <td>F</td>\n",
              "      <td>15</td>\n",
              "      <td>U</td>\n",
              "      <td>GT3</td>\n",
              "      <td>T</td>\n",
              "      <td>4</td>\n",
              "      <td>2</td>\n",
              "      <td>health</td>\n",
              "      <td>services</td>\n",
              "      <td>...</td>\n",
              "      <td>3</td>\n",
              "      <td>2</td>\n",
              "      <td>2</td>\n",
              "      <td>1</td>\n",
              "      <td>1</td>\n",
              "      <td>5</td>\n",
              "      <td>2</td>\n",
              "      <td>15</td>\n",
              "      <td>14</td>\n",
              "      <td>15</td>\n",
              "    </tr>\n",
              "    <tr>\n",
              "      <th>4</th>\n",
              "      <td>GP</td>\n",
              "      <td>F</td>\n",
              "      <td>16</td>\n",
              "      <td>U</td>\n",
              "      <td>GT3</td>\n",
              "      <td>T</td>\n",
              "      <td>3</td>\n",
              "      <td>3</td>\n",
              "      <td>other</td>\n",
              "      <td>other</td>\n",
              "      <td>...</td>\n",
              "      <td>4</td>\n",
              "      <td>3</td>\n",
              "      <td>2</td>\n",
              "      <td>1</td>\n",
              "      <td>2</td>\n",
              "      <td>5</td>\n",
              "      <td>4</td>\n",
              "      <td>6</td>\n",
              "      <td>10</td>\n",
              "      <td>10</td>\n",
              "    </tr>\n",
              "  </tbody>\n",
              "</table>\n",
              "<p>5 rows × 33 columns</p>\n",
              "</div>\n",
              "      <button class=\"colab-df-convert\" onclick=\"convertToInteractive('df-a26bf518-9022-4403-8af7-a1e8df96d3bc')\"\n",
              "              title=\"Convert this dataframe to an interactive table.\"\n",
              "              style=\"display:none;\">\n",
              "\n",
              "  <svg xmlns=\"http://www.w3.org/2000/svg\" height=\"24px\"viewBox=\"0 0 24 24\"\n",
              "       width=\"24px\">\n",
              "    <path d=\"M0 0h24v24H0V0z\" fill=\"none\"/>\n",
              "    <path d=\"M18.56 5.44l.94 2.06.94-2.06 2.06-.94-2.06-.94-.94-2.06-.94 2.06-2.06.94zm-11 1L8.5 8.5l.94-2.06 2.06-.94-2.06-.94L8.5 2.5l-.94 2.06-2.06.94zm10 10l.94 2.06.94-2.06 2.06-.94-2.06-.94-.94-2.06-.94 2.06-2.06.94z\"/><path d=\"M17.41 7.96l-1.37-1.37c-.4-.4-.92-.59-1.43-.59-.52 0-1.04.2-1.43.59L10.3 9.45l-7.72 7.72c-.78.78-.78 2.05 0 2.83L4 21.41c.39.39.9.59 1.41.59.51 0 1.02-.2 1.41-.59l7.78-7.78 2.81-2.81c.8-.78.8-2.07 0-2.86zM5.41 20L4 18.59l7.72-7.72 1.47 1.35L5.41 20z\"/>\n",
              "  </svg>\n",
              "      </button>\n",
              "\n",
              "\n",
              "\n",
              "    <div id=\"df-880c7564-7061-495f-8028-08b1cdbc0d05\">\n",
              "      <button class=\"colab-df-quickchart\" onclick=\"quickchart('df-880c7564-7061-495f-8028-08b1cdbc0d05')\"\n",
              "              title=\"Suggest charts.\"\n",
              "              style=\"display:none;\">\n",
              "\n",
              "<svg xmlns=\"http://www.w3.org/2000/svg\" height=\"24px\"viewBox=\"0 0 24 24\"\n",
              "     width=\"24px\">\n",
              "    <g>\n",
              "        <path d=\"M19 3H5c-1.1 0-2 .9-2 2v14c0 1.1.9 2 2 2h14c1.1 0 2-.9 2-2V5c0-1.1-.9-2-2-2zM9 17H7v-7h2v7zm4 0h-2V7h2v10zm4 0h-2v-4h2v4z\"/>\n",
              "    </g>\n",
              "</svg>\n",
              "      </button>\n",
              "    </div>\n",
              "\n",
              "<style>\n",
              "  .colab-df-quickchart {\n",
              "    background-color: #E8F0FE;\n",
              "    border: none;\n",
              "    border-radius: 50%;\n",
              "    cursor: pointer;\n",
              "    display: none;\n",
              "    fill: #1967D2;\n",
              "    height: 32px;\n",
              "    padding: 0 0 0 0;\n",
              "    width: 32px;\n",
              "  }\n",
              "\n",
              "  .colab-df-quickchart:hover {\n",
              "    background-color: #E2EBFA;\n",
              "    box-shadow: 0px 1px 2px rgba(60, 64, 67, 0.3), 0px 1px 3px 1px rgba(60, 64, 67, 0.15);\n",
              "    fill: #174EA6;\n",
              "  }\n",
              "\n",
              "  [theme=dark] .colab-df-quickchart {\n",
              "    background-color: #3B4455;\n",
              "    fill: #D2E3FC;\n",
              "  }\n",
              "\n",
              "  [theme=dark] .colab-df-quickchart:hover {\n",
              "    background-color: #434B5C;\n",
              "    box-shadow: 0px 1px 3px 1px rgba(0, 0, 0, 0.15);\n",
              "    filter: drop-shadow(0px 1px 2px rgba(0, 0, 0, 0.3));\n",
              "    fill: #FFFFFF;\n",
              "  }\n",
              "</style>\n",
              "\n",
              "    <script>\n",
              "      async function quickchart(key) {\n",
              "        const containerElement = document.querySelector('#' + key);\n",
              "        const charts = await google.colab.kernel.invokeFunction(\n",
              "            'suggestCharts', [key], {});\n",
              "      }\n",
              "    </script>\n",
              "\n",
              "      <script>\n",
              "\n",
              "function displayQuickchartButton(domScope) {\n",
              "  let quickchartButtonEl =\n",
              "    domScope.querySelector('#df-880c7564-7061-495f-8028-08b1cdbc0d05 button.colab-df-quickchart');\n",
              "  quickchartButtonEl.style.display =\n",
              "    google.colab.kernel.accessAllowed ? 'block' : 'none';\n",
              "}\n",
              "\n",
              "        displayQuickchartButton(document);\n",
              "      </script>\n",
              "      <style>\n",
              "    .colab-df-container {\n",
              "      display:flex;\n",
              "      flex-wrap:wrap;\n",
              "      gap: 12px;\n",
              "    }\n",
              "\n",
              "    .colab-df-convert {\n",
              "      background-color: #E8F0FE;\n",
              "      border: none;\n",
              "      border-radius: 50%;\n",
              "      cursor: pointer;\n",
              "      display: none;\n",
              "      fill: #1967D2;\n",
              "      height: 32px;\n",
              "      padding: 0 0 0 0;\n",
              "      width: 32px;\n",
              "    }\n",
              "\n",
              "    .colab-df-convert:hover {\n",
              "      background-color: #E2EBFA;\n",
              "      box-shadow: 0px 1px 2px rgba(60, 64, 67, 0.3), 0px 1px 3px 1px rgba(60, 64, 67, 0.15);\n",
              "      fill: #174EA6;\n",
              "    }\n",
              "\n",
              "    [theme=dark] .colab-df-convert {\n",
              "      background-color: #3B4455;\n",
              "      fill: #D2E3FC;\n",
              "    }\n",
              "\n",
              "    [theme=dark] .colab-df-convert:hover {\n",
              "      background-color: #434B5C;\n",
              "      box-shadow: 0px 1px 3px 1px rgba(0, 0, 0, 0.15);\n",
              "      filter: drop-shadow(0px 1px 2px rgba(0, 0, 0, 0.3));\n",
              "      fill: #FFFFFF;\n",
              "    }\n",
              "  </style>\n",
              "\n",
              "      <script>\n",
              "        const buttonEl =\n",
              "          document.querySelector('#df-a26bf518-9022-4403-8af7-a1e8df96d3bc button.colab-df-convert');\n",
              "        buttonEl.style.display =\n",
              "          google.colab.kernel.accessAllowed ? 'block' : 'none';\n",
              "\n",
              "        async function convertToInteractive(key) {\n",
              "          const element = document.querySelector('#df-a26bf518-9022-4403-8af7-a1e8df96d3bc');\n",
              "          const dataTable =\n",
              "            await google.colab.kernel.invokeFunction('convertToInteractive',\n",
              "                                                     [key], {});\n",
              "          if (!dataTable) return;\n",
              "\n",
              "          const docLinkHtml = 'Like what you see? Visit the ' +\n",
              "            '<a target=\"_blank\" href=https://colab.research.google.com/notebooks/data_table.ipynb>data table notebook</a>'\n",
              "            + ' to learn more about interactive tables.';\n",
              "          element.innerHTML = '';\n",
              "          dataTable['output_type'] = 'display_data';\n",
              "          await google.colab.output.renderOutput(dataTable, element);\n",
              "          const docLink = document.createElement('div');\n",
              "          docLink.innerHTML = docLinkHtml;\n",
              "          element.appendChild(docLink);\n",
              "        }\n",
              "      </script>\n",
              "    </div>\n",
              "  </div>\n"
            ]
          },
          "metadata": {},
          "execution_count": 103
        }
      ]
    },
    {
      "cell_type": "code",
      "source": [
        "data2.head()"
      ],
      "metadata": {
        "colab": {
          "base_uri": "https://localhost:8080/",
          "height": 299
        },
        "id": "pfZtH-tQMIzU",
        "outputId": "0ea3d472-9a5c-47d8-81c0-cf12a1ef85d0"
      },
      "execution_count": 104,
      "outputs": [
        {
          "output_type": "execute_result",
          "data": {
            "text/plain": [
              "  school sex  age address famsize Pstatus  Medu  Fedu     Mjob      Fjob  ...  \\\n",
              "0     GP   F   18       U     GT3       A     4     4  at_home   teacher  ...   \n",
              "1     GP   F   17       U     GT3       T     1     1  at_home     other  ...   \n",
              "2     GP   F   15       U     LE3       T     1     1  at_home     other  ...   \n",
              "3     GP   F   15       U     GT3       T     4     2   health  services  ...   \n",
              "4     GP   F   16       U     GT3       T     3     3    other     other  ...   \n",
              "\n",
              "  famrel freetime  goout  Dalc  Walc health absences  G1  G2  G3  \n",
              "0      4        3      4     1     1      3        4   0  11  11  \n",
              "1      5        3      3     1     1      3        2   9  11  11  \n",
              "2      4        3      2     2     3      3        6  12  13  12  \n",
              "3      3        2      2     1     1      5        0  14  14  14  \n",
              "4      4        3      2     1     2      5        0  11  13  13  \n",
              "\n",
              "[5 rows x 33 columns]"
            ],
            "text/html": [
              "\n",
              "\n",
              "  <div id=\"df-4fe84e3a-3d8f-4974-9660-0d4c2ab6280d\">\n",
              "    <div class=\"colab-df-container\">\n",
              "      <div>\n",
              "<style scoped>\n",
              "    .dataframe tbody tr th:only-of-type {\n",
              "        vertical-align: middle;\n",
              "    }\n",
              "\n",
              "    .dataframe tbody tr th {\n",
              "        vertical-align: top;\n",
              "    }\n",
              "\n",
              "    .dataframe thead th {\n",
              "        text-align: right;\n",
              "    }\n",
              "</style>\n",
              "<table border=\"1\" class=\"dataframe\">\n",
              "  <thead>\n",
              "    <tr style=\"text-align: right;\">\n",
              "      <th></th>\n",
              "      <th>school</th>\n",
              "      <th>sex</th>\n",
              "      <th>age</th>\n",
              "      <th>address</th>\n",
              "      <th>famsize</th>\n",
              "      <th>Pstatus</th>\n",
              "      <th>Medu</th>\n",
              "      <th>Fedu</th>\n",
              "      <th>Mjob</th>\n",
              "      <th>Fjob</th>\n",
              "      <th>...</th>\n",
              "      <th>famrel</th>\n",
              "      <th>freetime</th>\n",
              "      <th>goout</th>\n",
              "      <th>Dalc</th>\n",
              "      <th>Walc</th>\n",
              "      <th>health</th>\n",
              "      <th>absences</th>\n",
              "      <th>G1</th>\n",
              "      <th>G2</th>\n",
              "      <th>G3</th>\n",
              "    </tr>\n",
              "  </thead>\n",
              "  <tbody>\n",
              "    <tr>\n",
              "      <th>0</th>\n",
              "      <td>GP</td>\n",
              "      <td>F</td>\n",
              "      <td>18</td>\n",
              "      <td>U</td>\n",
              "      <td>GT3</td>\n",
              "      <td>A</td>\n",
              "      <td>4</td>\n",
              "      <td>4</td>\n",
              "      <td>at_home</td>\n",
              "      <td>teacher</td>\n",
              "      <td>...</td>\n",
              "      <td>4</td>\n",
              "      <td>3</td>\n",
              "      <td>4</td>\n",
              "      <td>1</td>\n",
              "      <td>1</td>\n",
              "      <td>3</td>\n",
              "      <td>4</td>\n",
              "      <td>0</td>\n",
              "      <td>11</td>\n",
              "      <td>11</td>\n",
              "    </tr>\n",
              "    <tr>\n",
              "      <th>1</th>\n",
              "      <td>GP</td>\n",
              "      <td>F</td>\n",
              "      <td>17</td>\n",
              "      <td>U</td>\n",
              "      <td>GT3</td>\n",
              "      <td>T</td>\n",
              "      <td>1</td>\n",
              "      <td>1</td>\n",
              "      <td>at_home</td>\n",
              "      <td>other</td>\n",
              "      <td>...</td>\n",
              "      <td>5</td>\n",
              "      <td>3</td>\n",
              "      <td>3</td>\n",
              "      <td>1</td>\n",
              "      <td>1</td>\n",
              "      <td>3</td>\n",
              "      <td>2</td>\n",
              "      <td>9</td>\n",
              "      <td>11</td>\n",
              "      <td>11</td>\n",
              "    </tr>\n",
              "    <tr>\n",
              "      <th>2</th>\n",
              "      <td>GP</td>\n",
              "      <td>F</td>\n",
              "      <td>15</td>\n",
              "      <td>U</td>\n",
              "      <td>LE3</td>\n",
              "      <td>T</td>\n",
              "      <td>1</td>\n",
              "      <td>1</td>\n",
              "      <td>at_home</td>\n",
              "      <td>other</td>\n",
              "      <td>...</td>\n",
              "      <td>4</td>\n",
              "      <td>3</td>\n",
              "      <td>2</td>\n",
              "      <td>2</td>\n",
              "      <td>3</td>\n",
              "      <td>3</td>\n",
              "      <td>6</td>\n",
              "      <td>12</td>\n",
              "      <td>13</td>\n",
              "      <td>12</td>\n",
              "    </tr>\n",
              "    <tr>\n",
              "      <th>3</th>\n",
              "      <td>GP</td>\n",
              "      <td>F</td>\n",
              "      <td>15</td>\n",
              "      <td>U</td>\n",
              "      <td>GT3</td>\n",
              "      <td>T</td>\n",
              "      <td>4</td>\n",
              "      <td>2</td>\n",
              "      <td>health</td>\n",
              "      <td>services</td>\n",
              "      <td>...</td>\n",
              "      <td>3</td>\n",
              "      <td>2</td>\n",
              "      <td>2</td>\n",
              "      <td>1</td>\n",
              "      <td>1</td>\n",
              "      <td>5</td>\n",
              "      <td>0</td>\n",
              "      <td>14</td>\n",
              "      <td>14</td>\n",
              "      <td>14</td>\n",
              "    </tr>\n",
              "    <tr>\n",
              "      <th>4</th>\n",
              "      <td>GP</td>\n",
              "      <td>F</td>\n",
              "      <td>16</td>\n",
              "      <td>U</td>\n",
              "      <td>GT3</td>\n",
              "      <td>T</td>\n",
              "      <td>3</td>\n",
              "      <td>3</td>\n",
              "      <td>other</td>\n",
              "      <td>other</td>\n",
              "      <td>...</td>\n",
              "      <td>4</td>\n",
              "      <td>3</td>\n",
              "      <td>2</td>\n",
              "      <td>1</td>\n",
              "      <td>2</td>\n",
              "      <td>5</td>\n",
              "      <td>0</td>\n",
              "      <td>11</td>\n",
              "      <td>13</td>\n",
              "      <td>13</td>\n",
              "    </tr>\n",
              "  </tbody>\n",
              "</table>\n",
              "<p>5 rows × 33 columns</p>\n",
              "</div>\n",
              "      <button class=\"colab-df-convert\" onclick=\"convertToInteractive('df-4fe84e3a-3d8f-4974-9660-0d4c2ab6280d')\"\n",
              "              title=\"Convert this dataframe to an interactive table.\"\n",
              "              style=\"display:none;\">\n",
              "\n",
              "  <svg xmlns=\"http://www.w3.org/2000/svg\" height=\"24px\"viewBox=\"0 0 24 24\"\n",
              "       width=\"24px\">\n",
              "    <path d=\"M0 0h24v24H0V0z\" fill=\"none\"/>\n",
              "    <path d=\"M18.56 5.44l.94 2.06.94-2.06 2.06-.94-2.06-.94-.94-2.06-.94 2.06-2.06.94zm-11 1L8.5 8.5l.94-2.06 2.06-.94-2.06-.94L8.5 2.5l-.94 2.06-2.06.94zm10 10l.94 2.06.94-2.06 2.06-.94-2.06-.94-.94-2.06-.94 2.06-2.06.94z\"/><path d=\"M17.41 7.96l-1.37-1.37c-.4-.4-.92-.59-1.43-.59-.52 0-1.04.2-1.43.59L10.3 9.45l-7.72 7.72c-.78.78-.78 2.05 0 2.83L4 21.41c.39.39.9.59 1.41.59.51 0 1.02-.2 1.41-.59l7.78-7.78 2.81-2.81c.8-.78.8-2.07 0-2.86zM5.41 20L4 18.59l7.72-7.72 1.47 1.35L5.41 20z\"/>\n",
              "  </svg>\n",
              "      </button>\n",
              "\n",
              "\n",
              "\n",
              "    <div id=\"df-91ba9759-f1ed-4e69-815c-cfb8e4df7cfb\">\n",
              "      <button class=\"colab-df-quickchart\" onclick=\"quickchart('df-91ba9759-f1ed-4e69-815c-cfb8e4df7cfb')\"\n",
              "              title=\"Suggest charts.\"\n",
              "              style=\"display:none;\">\n",
              "\n",
              "<svg xmlns=\"http://www.w3.org/2000/svg\" height=\"24px\"viewBox=\"0 0 24 24\"\n",
              "     width=\"24px\">\n",
              "    <g>\n",
              "        <path d=\"M19 3H5c-1.1 0-2 .9-2 2v14c0 1.1.9 2 2 2h14c1.1 0 2-.9 2-2V5c0-1.1-.9-2-2-2zM9 17H7v-7h2v7zm4 0h-2V7h2v10zm4 0h-2v-4h2v4z\"/>\n",
              "    </g>\n",
              "</svg>\n",
              "      </button>\n",
              "    </div>\n",
              "\n",
              "<style>\n",
              "  .colab-df-quickchart {\n",
              "    background-color: #E8F0FE;\n",
              "    border: none;\n",
              "    border-radius: 50%;\n",
              "    cursor: pointer;\n",
              "    display: none;\n",
              "    fill: #1967D2;\n",
              "    height: 32px;\n",
              "    padding: 0 0 0 0;\n",
              "    width: 32px;\n",
              "  }\n",
              "\n",
              "  .colab-df-quickchart:hover {\n",
              "    background-color: #E2EBFA;\n",
              "    box-shadow: 0px 1px 2px rgba(60, 64, 67, 0.3), 0px 1px 3px 1px rgba(60, 64, 67, 0.15);\n",
              "    fill: #174EA6;\n",
              "  }\n",
              "\n",
              "  [theme=dark] .colab-df-quickchart {\n",
              "    background-color: #3B4455;\n",
              "    fill: #D2E3FC;\n",
              "  }\n",
              "\n",
              "  [theme=dark] .colab-df-quickchart:hover {\n",
              "    background-color: #434B5C;\n",
              "    box-shadow: 0px 1px 3px 1px rgba(0, 0, 0, 0.15);\n",
              "    filter: drop-shadow(0px 1px 2px rgba(0, 0, 0, 0.3));\n",
              "    fill: #FFFFFF;\n",
              "  }\n",
              "</style>\n",
              "\n",
              "    <script>\n",
              "      async function quickchart(key) {\n",
              "        const containerElement = document.querySelector('#' + key);\n",
              "        const charts = await google.colab.kernel.invokeFunction(\n",
              "            'suggestCharts', [key], {});\n",
              "      }\n",
              "    </script>\n",
              "\n",
              "      <script>\n",
              "\n",
              "function displayQuickchartButton(domScope) {\n",
              "  let quickchartButtonEl =\n",
              "    domScope.querySelector('#df-91ba9759-f1ed-4e69-815c-cfb8e4df7cfb button.colab-df-quickchart');\n",
              "  quickchartButtonEl.style.display =\n",
              "    google.colab.kernel.accessAllowed ? 'block' : 'none';\n",
              "}\n",
              "\n",
              "        displayQuickchartButton(document);\n",
              "      </script>\n",
              "      <style>\n",
              "    .colab-df-container {\n",
              "      display:flex;\n",
              "      flex-wrap:wrap;\n",
              "      gap: 12px;\n",
              "    }\n",
              "\n",
              "    .colab-df-convert {\n",
              "      background-color: #E8F0FE;\n",
              "      border: none;\n",
              "      border-radius: 50%;\n",
              "      cursor: pointer;\n",
              "      display: none;\n",
              "      fill: #1967D2;\n",
              "      height: 32px;\n",
              "      padding: 0 0 0 0;\n",
              "      width: 32px;\n",
              "    }\n",
              "\n",
              "    .colab-df-convert:hover {\n",
              "      background-color: #E2EBFA;\n",
              "      box-shadow: 0px 1px 2px rgba(60, 64, 67, 0.3), 0px 1px 3px 1px rgba(60, 64, 67, 0.15);\n",
              "      fill: #174EA6;\n",
              "    }\n",
              "\n",
              "    [theme=dark] .colab-df-convert {\n",
              "      background-color: #3B4455;\n",
              "      fill: #D2E3FC;\n",
              "    }\n",
              "\n",
              "    [theme=dark] .colab-df-convert:hover {\n",
              "      background-color: #434B5C;\n",
              "      box-shadow: 0px 1px 3px 1px rgba(0, 0, 0, 0.15);\n",
              "      filter: drop-shadow(0px 1px 2px rgba(0, 0, 0, 0.3));\n",
              "      fill: #FFFFFF;\n",
              "    }\n",
              "  </style>\n",
              "\n",
              "      <script>\n",
              "        const buttonEl =\n",
              "          document.querySelector('#df-4fe84e3a-3d8f-4974-9660-0d4c2ab6280d button.colab-df-convert');\n",
              "        buttonEl.style.display =\n",
              "          google.colab.kernel.accessAllowed ? 'block' : 'none';\n",
              "\n",
              "        async function convertToInteractive(key) {\n",
              "          const element = document.querySelector('#df-4fe84e3a-3d8f-4974-9660-0d4c2ab6280d');\n",
              "          const dataTable =\n",
              "            await google.colab.kernel.invokeFunction('convertToInteractive',\n",
              "                                                     [key], {});\n",
              "          if (!dataTable) return;\n",
              "\n",
              "          const docLinkHtml = 'Like what you see? Visit the ' +\n",
              "            '<a target=\"_blank\" href=https://colab.research.google.com/notebooks/data_table.ipynb>data table notebook</a>'\n",
              "            + ' to learn more about interactive tables.';\n",
              "          element.innerHTML = '';\n",
              "          dataTable['output_type'] = 'display_data';\n",
              "          await google.colab.output.renderOutput(dataTable, element);\n",
              "          const docLink = document.createElement('div');\n",
              "          docLink.innerHTML = docLinkHtml;\n",
              "          element.appendChild(docLink);\n",
              "        }\n",
              "      </script>\n",
              "    </div>\n",
              "  </div>\n"
            ]
          },
          "metadata": {},
          "execution_count": 104
        }
      ]
    },
    {
      "cell_type": "code",
      "source": [
        "data1.columns"
      ],
      "metadata": {
        "colab": {
          "base_uri": "https://localhost:8080/"
        },
        "id": "CYbC20W0MO7c",
        "outputId": "96f34b93-71b0-47c6-ef14-73cc85999a3a"
      },
      "execution_count": 105,
      "outputs": [
        {
          "output_type": "execute_result",
          "data": {
            "text/plain": [
              "Index(['school', 'sex', 'age', 'address', 'famsize', 'Pstatus', 'Medu', 'Fedu',\n",
              "       'Mjob', 'Fjob', 'reason', 'guardian', 'traveltime', 'studytime',\n",
              "       'failures', 'schoolsup', 'famsup', 'paid', 'activities', 'nursery',\n",
              "       'higher', 'internet', 'romantic', 'famrel', 'freetime', 'goout', 'Dalc',\n",
              "       'Walc', 'health', 'absences', 'G1', 'G2', 'G3'],\n",
              "      dtype='object')"
            ]
          },
          "metadata": {},
          "execution_count": 105
        }
      ]
    },
    {
      "cell_type": "code",
      "source": [
        "data2.columns"
      ],
      "metadata": {
        "colab": {
          "base_uri": "https://localhost:8080/"
        },
        "id": "x2ok6bGFMYEK",
        "outputId": "8905a240-4aab-4ee0-a0de-3805ecd3a2b2"
      },
      "execution_count": 106,
      "outputs": [
        {
          "output_type": "execute_result",
          "data": {
            "text/plain": [
              "Index(['school', 'sex', 'age', 'address', 'famsize', 'Pstatus', 'Medu', 'Fedu',\n",
              "       'Mjob', 'Fjob', 'reason', 'guardian', 'traveltime', 'studytime',\n",
              "       'failures', 'schoolsup', 'famsup', 'paid', 'activities', 'nursery',\n",
              "       'higher', 'internet', 'romantic', 'famrel', 'freetime', 'goout', 'Dalc',\n",
              "       'Walc', 'health', 'absences', 'G1', 'G2', 'G3'],\n",
              "      dtype='object')"
            ]
          },
          "metadata": {},
          "execution_count": 106
        }
      ]
    },
    {
      "cell_type": "code",
      "source": [
        "# Concatenate the datasets vertically\n",
        "combined_data = pd.concat([data1, data2], axis=0)\n",
        "\n",
        "# Verify the column names in the combined dataset\n",
        "print(combined_data.columns)"
      ],
      "metadata": {
        "colab": {
          "base_uri": "https://localhost:8080/"
        },
        "id": "Qt5ZngZSMskB",
        "outputId": "5a5d6e44-028c-44cc-b901-39cdf2cec89e"
      },
      "execution_count": 107,
      "outputs": [
        {
          "output_type": "stream",
          "name": "stdout",
          "text": [
            "Index(['school', 'sex', 'age', 'address', 'famsize', 'Pstatus', 'Medu', 'Fedu',\n",
            "       'Mjob', 'Fjob', 'reason', 'guardian', 'traveltime', 'studytime',\n",
            "       'failures', 'schoolsup', 'famsup', 'paid', 'activities', 'nursery',\n",
            "       'higher', 'internet', 'romantic', 'famrel', 'freetime', 'goout', 'Dalc',\n",
            "       'Walc', 'health', 'absences', 'G1', 'G2', 'G3'],\n",
            "      dtype='object')\n"
          ]
        }
      ]
    },
    {
      "cell_type": "code",
      "source": [
        "X = combined_data.drop('G3', axis=1)  # Drop the target variable 'G3'\n",
        "y = combined_data['G3']\n"
      ],
      "metadata": {
        "id": "fVyKFs0RMu5B"
      },
      "execution_count": 108,
      "outputs": []
    },
    {
      "cell_type": "code",
      "source": [
        "X_train, X_test, y_train, y_test = train_test_split(X, y, test_size=0.2, random_state=42)\n"
      ],
      "metadata": {
        "id": "lHMsLxzuM60w"
      },
      "execution_count": 109,
      "outputs": []
    },
    {
      "cell_type": "code",
      "source": [
        "# Apply one-hot encoding to the categorical variables in the training dataset\n",
        "X_train_encoded = pd.get_dummies(X_train)\n",
        "\n",
        "# Apply the same one-hot encoding to the categorical variables in the test dataset\n",
        "X_test_encoded = pd.get_dummies(X_test)\n",
        "\n",
        "# Make sure the test dataset has the same columns as the training dataset\n",
        "X_test_encoded = X_test_encoded.reindex(columns=X_train_encoded.columns, fill_value=0)\n"
      ],
      "metadata": {
        "id": "Yy7ZqnTvOs6-"
      },
      "execution_count": 110,
      "outputs": []
    },
    {
      "cell_type": "markdown",
      "source": [
        "**Linear Regression**"
      ],
      "metadata": {
        "id": "oxPEUVAnNBoy"
      }
    },
    {
      "cell_type": "code",
      "source": [
        "linear_reg = LinearRegression()\n",
        "linear_reg.fit(X_train_encoded, y_train)\n",
        "linear_reg_predictions = linear_reg.predict(X_test_encoded)\n",
        "linear_reg_mse = mean_squared_error(y_test, linear_reg_predictions)\n",
        "print(\"Linear Regression Predictions:\", linear_reg_predictions)\n",
        "print(\"Linear Regression MSE:\", linear_reg_mse)"
      ],
      "metadata": {
        "colab": {
          "base_uri": "https://localhost:8080/"
        },
        "id": "8Q7EFOi7NDj9",
        "outputId": "c4c7709d-ac97-4c3b-f49c-ea5493a282cc"
      },
      "execution_count": 111,
      "outputs": [
        {
          "output_type": "stream",
          "name": "stdout",
          "text": [
            "Linear Regression Predictions: [10.49462891  8.13037109 14.25244141 11.0012207  12.06787109 12.17724609\n",
            "  5.48291016 10.43652344 14.45263672 13.27148438 15.3203125   6.85449219\n",
            "  6.9934082  11.23632812  7.72314453 11.77880859  8.59863281 16.96679688\n",
            " 11.20239258 11.94580078  8.89453125 16.59716797 11.17578125  0.52539062\n",
            " 16.2890625  11.29858398 17.85009766 16.47192383 11.48974609  9.16748047\n",
            " 10.30053711  9.30712891 18.95068359 10.82128906 15.40429688 13.84960938\n",
            " 15.17724609 18.63256836  9.59423828 13.1784668  15.87890625 16.70849609\n",
            " 11.49267578  8.47387695 14.60229492  9.74414062 10.92529297 16.91064453\n",
            " 12.86523438 11.17578125 11.16967773 14.70507812 10.07763672 10.1875\n",
            "  6.23046875 10.48779297 10.89282227 13.6105957  17.45141602  7.15917969\n",
            " 10.28491211  8.10058594  7.58837891 12.71728516  6.52172852  9.29833984\n",
            "  8.57250977  6.15136719  9.57910156 19.26708984 11.74121094 14.78173828\n",
            "  8.31860352  8.60424805  8.28491211  9.3828125   6.18847656  7.91357422\n",
            "  7.38183594 13.0480957  13.42871094 12.72363281  9.68310547  9.27539062\n",
            " 15.67944336 14.98852539  7.75854492  6.54589844  6.47998047 10.67871094\n",
            " 15.77905273 -0.65527344  9.29589844 14.10791016 12.30249023 12.53637695\n",
            " 10.28198242  8.05981445 13.12353516 10.66894531 14.87939453 14.08422852\n",
            " 13.04345703 13.57885742 10.81958008 15.12280273 18.31445312 10.81835938\n",
            "  8.89453125 11.48510742 13.85888672  8.78125    19.90722656 15.46337891\n",
            "  8.97949219 13.515625   12.67822266 10.17211914 12.03808594  9.27685547\n",
            " 10.08349609  8.27148438 12.98828125  9.77197266 16.71484375  8.78759766\n",
            " 10.55883789 12.44799805 11.38183594  6.78271484  7.30126953  7.81152344\n",
            " 12.65478516 11.82641602  0.9519043   8.41699219  4.51513672 17.70874023\n",
            " 14.5078125  13.14111328 10.77758789  6.70263672  7.94189453  7.11328125\n",
            " 13.27026367 14.53588867  8.99975586 13.46191406  7.62670898  6.84130859\n",
            " 10.43554688 15.70849609 11.11962891  8.56445312 13.31469727 13.2199707\n",
            "  8.84765625 13.03808594 11.94726562  9.75317383  6.37792969 11.12866211\n",
            " 12.47460938 10.75708008 12.61816406 11.19140625  9.32543945 14.32495117\n",
            "  9.22607422 15.52832031 11.02392578 13.79345703 10.82739258 16.70117188\n",
            " 13.421875   15.72875977 15.05126953 13.31420898 10.0300293   9.70825195\n",
            "  8.85229492  8.02905273  6.11621094  8.93823242  7.77392578  9.62402344\n",
            "  8.41943359 15.89160156  9.94946289  7.77075195  5.59741211 10.80761719\n",
            " 10.18579102 12.26416016  9.35571289 13.15136719 -0.12768555  8.85742188\n",
            " 12.26635742 14.83691406  7.62158203 14.84643555  0.32861328 12.45214844\n",
            " 10.83618164  7.50537109 13.48779297 13.49291992 11.44921875]\n",
            "Linear Regression MSE: 3.2036108508634795\n"
          ]
        }
      ]
    },
    {
      "cell_type": "markdown",
      "source": [
        "**Polynomial Regression**"
      ],
      "metadata": {
        "id": "zPHmVV-qNvhi"
      }
    },
    {
      "cell_type": "code",
      "source": [
        "poly_features = PolynomialFeatures(degree=2)\n",
        "X_poly = poly_features.fit_transform(X_train_encoded)\n",
        "poly_reg = LinearRegression()\n",
        "poly_reg.fit(X_poly, y_train)\n",
        "X_test_poly = poly_features.transform(X_test_encoded)\n",
        "poly_reg_predictions = poly_reg.predict(X_test_poly)\n",
        "poly_reg_mse = mean_squared_error(y_test, poly_reg_predictions)\n",
        "print(\"Polynomial Regression Predictions:\", poly_reg_predictions)\n",
        "print(\"Polynomial Regression MSE:\", poly_reg_mse)"
      ],
      "metadata": {
        "colab": {
          "base_uri": "https://localhost:8080/"
        },
        "id": "wMVdjsssNxr9",
        "outputId": "340a7c68-3fc5-4063-bda7-3db16e3c89ab"
      },
      "execution_count": 112,
      "outputs": [
        {
          "output_type": "stream",
          "name": "stdout",
          "text": [
            "Polynomial Regression Predictions: [-1.45804281e+00  1.52488913e+00 -6.25086342e+01  9.06101222e+01\n",
            "  8.59636775e+00 -3.60199766e+01 -3.78863640e+01  1.18476004e+01\n",
            "  4.85838625e+01  1.36864882e+01  2.07268672e+01  9.83284170e+00\n",
            " -5.11628184e+01  1.58031532e+01  6.87073588e+00 -2.08791689e+01\n",
            "  5.26864907e+00  4.88150185e+01  1.12427694e+02  1.88852969e+01\n",
            "  4.17240808e+01  1.71869425e+01  2.05748796e+01 -2.97495923e-01\n",
            "  5.47805021e+00 -2.07251721e+01  1.11913186e+01  1.88914303e+01\n",
            "  3.63025001e+00  9.47718209e+00  3.34746915e+01 -3.52213242e+01\n",
            "  1.48273984e+01  9.74968263e+01  1.57769187e+01  2.42756664e+01\n",
            "  9.69315836e+01  7.23786950e+00  9.12779667e-01 -2.75831130e+01\n",
            "  1.17040566e+01  1.73109635e+01 -7.69289246e+00  6.09651006e+00\n",
            "  1.29587235e+01 -4.20976640e+00  1.00174040e+01  1.29607984e+01\n",
            "  6.01538046e+01  1.73426838e+01  1.60259181e+01  7.74730311e+00\n",
            "  2.54693260e+01  7.01173284e+01  9.05836645e+00  9.95064693e+00\n",
            "  4.48963906e+00  1.13432762e+01  1.80535350e+01  4.21433441e+01\n",
            " -5.31110933e+01  2.67637214e+01  3.06656955e+01  9.62441084e+00\n",
            " -6.50293728e+00 -1.35634574e+02  5.70600132e+00  8.79807741e+00\n",
            " -2.52127412e+00  2.16033793e+01  1.71802124e+01  3.29008900e+01\n",
            "  5.75924683e-01  1.43485405e+02  8.06738782e+00  5.08185502e+01\n",
            "  2.23094962e+00  1.37878235e-01  6.84909410e+00  1.53192981e+01\n",
            "  2.31144289e+01  1.19365954e+01 -1.94640131e+01 -1.90042299e-01\n",
            "  1.75028781e+01  2.39320632e+01  1.37116935e+01  3.43621975e+00\n",
            "  6.09540391e+00  1.06803209e+01  7.97576571e+01 -5.84596215e+01\n",
            "  1.81056390e+01  1.38515298e+01  1.21930504e+01  1.09367397e+01\n",
            "  1.57399402e+01  1.00979213e+01  6.68941539e+00  1.05286032e+01\n",
            " -9.11827173e+00  1.32905288e+01  2.03398708e+01  1.54057516e+01\n",
            "  6.99151566e+00  9.27661796e+00  1.60010497e+01  2.70102371e+01\n",
            "  9.36350889e+00  2.62674763e+01  1.18245189e+01  6.61723963e+01\n",
            "  1.92166192e+01 -6.84526355e+00 -1.55154981e+01  1.43947573e+01\n",
            "  4.94674324e+00  4.30241741e+00  2.47102789e+01  8.16041924e+00\n",
            "  1.05918946e+01 -8.64752067e+01  1.04554053e+01 -1.27071605e+01\n",
            "  1.38577142e+01  3.45809767e+01  2.36639790e+01  1.05722067e+01\n",
            "  2.19543821e+01 -1.38717340e+02  9.15776945e+01  2.08693235e+01\n",
            "  1.58846800e+01  2.55381098e+01  8.06797883e+00  1.47504878e+02\n",
            " -7.35191651e-01  1.67442820e+01  1.41526388e+01  1.13856047e+01\n",
            "  2.03694333e+01  7.27920628e+01 -3.03525770e+01  9.54437556e+01\n",
            " -9.18916662e+00  1.63106189e+01  4.16432773e+01 -2.84232086e+01\n",
            " -2.39303122e+01  4.09843831e+00 -5.98601620e-01  1.49448939e+01\n",
            "  1.57734633e+01 -2.52404568e+01 -1.00923147e+01  1.22035532e+01\n",
            "  1.50789949e+01 -1.38137131e+01  9.04755413e+00  4.99847634e+01\n",
            "  2.80941173e+01 -1.58718667e+01  9.13545413e+00 -4.63954544e+01\n",
            "  5.12014662e+01 -1.19034594e+01  7.70338162e+01  1.62572892e+01\n",
            " -1.90188857e+00  1.58817992e+01  8.98138407e+00  8.55076350e+00\n",
            "  8.44988981e+00  1.88769975e+01  1.56142301e+01  4.80785320e+00\n",
            "  1.42581001e+01  4.17981220e+01  7.05203116e+00 -7.76847402e+00\n",
            "  9.91237276e+00  9.29395024e+00  3.77014079e+01 -3.48286409e+01\n",
            "  8.12644111e+00  7.32471187e+00  8.23947228e+00  1.31578703e+01\n",
            "  1.23250748e+01  3.71323270e+01  6.56961757e+01  1.13380159e+02\n",
            " -1.78019962e+01  4.98384977e+01  1.02162132e+02  1.28119461e+01\n",
            " -5.21524994e+00  9.81872198e+00 -1.53822446e+01  1.57734508e+01\n",
            "  3.74172267e+00  4.49913723e-02 -2.93400231e+01  1.76416287e+01\n",
            "  1.98559879e+01  8.23561897e+00 -1.05010265e+01  4.04795697e+01\n",
            "  4.29851019e+01]\n",
            "Polynomial Regression MSE: 1192.909886384272\n"
          ]
        }
      ]
    },
    {
      "cell_type": "markdown",
      "source": [
        "**Ridge Regression**"
      ],
      "metadata": {
        "id": "HnVsVGdSPD98"
      }
    },
    {
      "cell_type": "code",
      "source": [
        "ridge_reg = Ridge(alpha=0.5)\n",
        "ridge_reg.fit(X_train_encoded, y_train)\n",
        "ridge_reg_predictions = ridge_reg.predict(X_test_encoded)\n",
        "ridge_reg_mse = mean_squared_error(y_test, ridge_reg_predictions)\n",
        "print(\"Ridge Regression Predictions:\", ridge_reg_predictions)\n",
        "print(\"Ridge Regression MSE:\", ridge_reg_mse)"
      ],
      "metadata": {
        "colab": {
          "base_uri": "https://localhost:8080/"
        },
        "id": "LjH-EvrxPG8q",
        "outputId": "85f2003e-ee30-4b6f-e18d-e56c2c2a6004"
      },
      "execution_count": 113,
      "outputs": [
        {
          "output_type": "stream",
          "name": "stdout",
          "text": [
            "Ridge Regression Predictions: [10.49234764  8.13295045 14.25133845 11.00162501 12.06864439 12.1777405\n",
            "  5.48485521 10.43981796 14.45344391 13.26995529 15.31900984  6.85404911\n",
            "  6.99347984 11.23397215  7.722157   11.78152305  8.60066471 16.96603653\n",
            " 11.1998913  11.94580564  8.89434598 16.59593525 11.17661778  0.52293948\n",
            " 16.28755254 11.29940699 17.85019294 16.47290348 11.48727918  9.16719753\n",
            " 10.29676959  9.31006659 18.94890845 10.82029979 15.40487858 13.85182856\n",
            " 15.17490925 18.63334226  9.59333676 13.17977716 15.87719813 16.71279853\n",
            " 11.4915074   8.47363747 14.60447895  9.74362787 10.9261497  16.90857716\n",
            " 12.86575385 11.17563955 11.17018042 14.70753087 10.08030913 10.18159293\n",
            "  6.23581008 10.48759089 10.89352321 13.60973848 17.45219625  7.16210731\n",
            " 10.28407169  8.09732396  7.58504444 12.71513322  6.52438839  9.29886438\n",
            "  8.57545626  6.15358697  9.57835523 19.268011   11.74034213 14.77710488\n",
            "  8.32187685  8.59975288  8.28768901  9.38222539  6.18879693  7.91298109\n",
            "  7.38203128 13.05197134 13.43040118 12.72228834  9.68667324  9.27224397\n",
            " 15.68004013 14.98682485  7.75583365  6.54801009  6.48519301 10.67752534\n",
            " 15.77487709 -0.65372888  9.29850531 14.10832183 12.3005366  12.53107405\n",
            " 10.28194081  8.06028977 13.12587577 10.66775981 14.88029157 14.08264639\n",
            " 13.04538898 13.57888079 10.82244297 15.12181163 18.31496319 10.82050537\n",
            "  8.89363673 11.48648961 13.85852963  8.78209387 19.90680157 15.46199455\n",
            "  8.98108708 13.51549741 12.67712059 10.17439787 12.0333604   9.27137487\n",
            " 10.08144718  8.27068288 12.98756352  9.77213531 16.71314854  8.78568359\n",
            " 10.5580848  12.44963921 11.38488052  6.78427446  7.3015438   7.814404\n",
            " 12.65752614 11.82498642  0.95112616  8.4206509   4.51426082 17.71126612\n",
            " 14.50589715 13.14059687 10.77700767  6.70335837  7.94606894  7.11542908\n",
            " 13.26645814 14.53535929  8.99778418 13.45925149  7.63015295  6.8441872\n",
            " 10.43681578 15.70769783 11.11856419  8.56264654 13.31466874 13.21921048\n",
            "  8.84854818 13.03801004 11.94914279  9.75553265  6.38541939 11.12892544\n",
            " 12.47616204 10.75692091 12.61719232 11.19405928  9.32461614 14.3237108\n",
            "  9.22328174 15.52778988 11.02338651 13.78915052 10.82810104 16.69693826\n",
            " 13.41969135 15.72801139 15.05287572 13.30904902 10.02797341  9.70923367\n",
            "  8.85226297  8.02564174  6.12032325  8.93453283  7.77503101  9.62662319\n",
            "  8.4236371  15.89067629  9.94959377  7.77231345  5.59938839 10.80684468\n",
            " 10.18626431 12.26208219  9.35317286 13.15301344 -0.12815195  8.85664135\n",
            " 12.26557033 14.83689524  7.62239376 14.84509359  0.33002191 12.44810279\n",
            " 10.83501646  7.50604037 13.4876671  13.48953686 11.4473144 ]\n",
            "Ridge Regression MSE: 3.2017082760194695\n"
          ]
        }
      ]
    },
    {
      "cell_type": "markdown",
      "source": [
        "**Lasso Regression**"
      ],
      "metadata": {
        "id": "SmS-6Ts9PITr"
      }
    },
    {
      "cell_type": "code",
      "source": [
        "lasso_reg = Lasso(alpha=0.5)\n",
        "lasso_reg.fit(X_train_encoded, y_train)\n",
        "lasso_reg_predictions = lasso_reg.predict(X_test_encoded)\n",
        "lasso_reg_mse = mean_squared_error(y_test, lasso_reg_predictions)\n",
        "print(\"Lasso Regression Predictions:\", lasso_reg_predictions)\n",
        "print(\"Lasso Regression MSE:\", lasso_reg_mse)"
      ],
      "metadata": {
        "colab": {
          "base_uri": "https://localhost:8080/"
        },
        "id": "CnZzbwk0PP2C",
        "outputId": "2916bd46-1c49-4ebb-b92e-02ec4f642325"
      },
      "execution_count": 114,
      "outputs": [
        {
          "output_type": "stream",
          "name": "stdout",
          "text": [
            "Lasso Regression Predictions: [ 9.97815366  8.18025262 13.26429755 11.00026423 12.11027863 12.0223748\n",
            "  6.03021019 11.09696896 14.34801446 13.17639373 15.44053226  6.76220657\n",
            "  7.0964305  10.13635951  7.9338273  12.23338608  9.17575005 16.40983741\n",
            " 11.29917933 11.93447098  9.14065165 16.40983741 10.95625971  0.26665866\n",
            " 15.48443157 11.2024746  17.46725682 16.30433177 10.96506061  9.07024441\n",
            "  9.94295004 10.01325206 18.31345452 10.9035595  15.25581849 14.05790026\n",
            " 14.85139775 18.4806717   9.90774642 13.05328628 15.15031285 17.24733942\n",
            " 10.97386152  8.7537275  15.04480721  9.90774642 10.99146333 16.21642795\n",
            " 12.39169714 11.13217258 11.16727098 15.40532865 10.1275586   9.80224079\n",
            "  6.88531401 10.99146333 10.95625971 13.17639373 17.24733942  7.72281603\n",
            " 11.79376172  8.12723676  7.09632529 12.21578427  7.03482417  9.07034963\n",
            "  9.90774642  6.89422014  9.08784622 18.61258005 11.2024746  14.22490701\n",
            "  9.03514601  8.09213836  8.96473878  9.07024441  6.92051763  7.91633071\n",
            "  7.00842146 13.44901133 13.05328628 12.11027863 10.22436855  9.07024441\n",
            " 15.30862391 14.26891153  8.00423453  6.89411492  7.9338273  10.97386152\n",
            " 15.04480721  0.26665866  9.90785164 14.10179957 12.004773   12.39169714\n",
            " 10.15396132  8.21524581 13.33470479 10.85075407 15.15031285 13.26429755\n",
            " 12.89508043 13.15879192 10.99146333 15.18551647 18.20794888 10.95625971\n",
            "  9.15835867 10.97386152 14.33041265  8.85923314 19.43237504 15.22072009\n",
            "  9.0175442  13.26429755 12.12788044 10.97386152 11.02666695  9.07024441\n",
            "  9.76714239  7.9338273  13.17639373  9.92534823 16.30433177  9.08784622\n",
            " 10.1187577  12.23338608 11.39588406  6.99092487  6.92051763  8.77132931\n",
            " 13.15879192 11.02666695  0.58317557  9.15825346  4.84109287 17.56385633\n",
            " 14.2073052  13.19399553 10.86835588  6.90291582  8.98234058  7.83712257\n",
            " 13.17639373 14.31281084  8.90323766 13.49301585  8.03933294  7.84602869\n",
            " 10.27706876 15.29102211 11.07936716  8.80653293 13.26429755 13.15879192\n",
            "  8.98234058 13.17649894 12.12788044 10.06605749  7.8987289  11.07947237\n",
            " 12.39180236 11.07936716 12.25098789 12.42679554  9.07024441 14.24250882\n",
            "  8.99994239 15.45813407 11.06176535 13.07088809 11.09696896 16.30433177\n",
            " 13.24680096 15.02731062 15.22072009 13.36990841 10.01325206  9.90774642\n",
            "  9.13185074  7.91622549  6.94692035  8.96473878  7.88112709 10.01325206\n",
            "  8.92964037 15.37892593 10.04845568  8.77143453  6.047812   10.38267961\n",
            " 10.13646472 12.21588948  9.19366751 13.28189936  0.26665866  9.0175442\n",
            " 11.16727098 15.18551647  7.91622549 15.15031285  0.26665866 12.03997661\n",
            " 11.09696896  8.12723676 13.07088809 13.26429755 11.06176535]\n",
            "Lasso Regression MSE: 2.98522561693667\n"
          ]
        }
      ]
    },
    {
      "cell_type": "markdown",
      "source": [
        "**Decision Tree Regression**"
      ],
      "metadata": {
        "id": "leYmt4hYPQB4"
      }
    },
    {
      "cell_type": "code",
      "source": [
        "dt_reg = DecisionTreeRegressor()\n",
        "dt_reg.fit(X_train_encoded, y_train)\n",
        "dt_reg_predictions = dt_reg.predict(X_test_encoded)\n",
        "dt_reg_mse = mean_squared_error(y_test, dt_reg_predictions)\n",
        "print(\"Decision Tree Regression Predictions:\", dt_reg_predictions)\n",
        "print(\"Decision Tree Regression MSE:\", dt_reg_mse)"
      ],
      "metadata": {
        "colab": {
          "base_uri": "https://localhost:8080/"
        },
        "id": "5rTaIfnuPZEN",
        "outputId": "32fb0ac4-a245-4ea8-a5db-463810695066"
      },
      "execution_count": 115,
      "outputs": [
        {
          "output_type": "stream",
          "name": "stdout",
          "text": [
            "Decision Tree Regression Predictions: [11.  7. 14. 11. 13. 11.  7. 11. 15. 14. 16.  8.  8. 10.  9. 12. 10. 15.\n",
            " 11. 12. 11. 15. 14.  0. 14. 12. 18. 16. 11. 10. 11. 10. 18. 11. 15. 14.\n",
            " 15. 19. 12. 12. 15. 15. 11.  7. 17. 12. 11. 16. 12. 12. 11. 16. 10. 10.\n",
            "  8. 10. 11. 14. 18.  8. 11. 10.  7. 14.  8.  9. 10.  7.  9. 17. 11. 14.\n",
            "  9.  9.  0. 10.  8. 10.  8. 14. 12. 11. 11.  0. 17. 15.  8.  9.  9. 11.\n",
            " 15.  0. 10. 13. 11. 12. 11.  8. 12. 11. 15. 14. 12. 13. 11. 14. 19. 10.\n",
            " 10. 12. 14.  9. 19. 15. 10. 14. 14. 11. 11.  0. 10. 10. 12. 10. 15. 11.\n",
            " 10. 14. 13.  8.  8.  8. 13. 11.  0.  9.  8. 18. 16. 13. 11.  8.  9.  9.\n",
            " 13. 14. 11. 14.  9.  5. 11. 15. 12.  8. 12. 12. 10. 13. 11. 10. 10. 10.\n",
            " 12. 12. 12. 12. 10. 15. 11. 15. 12. 13. 11. 16. 14. 15. 17. 13. 11.  9.\n",
            "  8.  0.  8.  9.  8. 10. 10. 15. 10.  8.  8. 11. 10. 12. 10. 12.  0. 10.\n",
            " 12. 14.  0. 15.  0. 12. 11.  0. 14. 13. 10.]\n",
            "Decision Tree Regression MSE: 4.899521531100478\n"
          ]
        }
      ]
    },
    {
      "cell_type": "markdown",
      "source": [
        "**Random Forest Regression**"
      ],
      "metadata": {
        "id": "LANmfxL3PZSD"
      }
    },
    {
      "cell_type": "code",
      "source": [
        "rf_reg = RandomForestRegressor()\n",
        "rf_reg.fit(X_train_encoded, y_train)\n",
        "rf_reg_predictions = rf_reg.predict(X_test_encoded)\n",
        "rf_reg_mse = mean_squared_error(y_test, rf_reg_predictions)\n",
        "print(\"Random Forest Regression Predictions:\", rf_reg_predictions)\n",
        "print(\"Random Forest Regression MSE:\", rf_reg_mse)"
      ],
      "metadata": {
        "colab": {
          "base_uri": "https://localhost:8080/"
        },
        "id": "v-y5gC5sPfbh",
        "outputId": "8034da7b-da3f-4917-a3e7-3f44a145443f"
      },
      "execution_count": 116,
      "outputs": [
        {
          "output_type": "stream",
          "name": "stdout",
          "text": [
            "Random Forest Regression Predictions: [10.6         7.44       13.08       11.12       12.95       12.08\n",
            "  2.75       10.96       14.69       13.49       15.71833333  5.4\n",
            "  7.79       11.01        7.76       12.29        9.55       15.66\n",
            " 11.21       12.59       10.02       16.18       11.19        1.28\n",
            " 15.465      11.31       17.67       16.51       10.96        9.62\n",
            "  9.93       10.02       17.96       11.         15.25       14.6\n",
            " 15.41       18.28       10.18       13.31       15.14       16.69\n",
            " 10.93        8.48       16.04       10.54       10.93       16.25\n",
            " 12.13       11.03       11.34       15.4325     10.24       10.06\n",
            "  7.47       10.83       11.01       12.96       17.73        8.22\n",
            " 11.9         5.07        7.68       12.33        8.          9.11\n",
            "  6.66        6.68       10.2        18.15       11.24       14.32\n",
            "  9.4         8.39        8.95        9.74        7.33        7.65\n",
            "  7.28       13.69       13.09       12.66       10.6         9.2\n",
            " 16.13       14.59        7.2         7.61        8.58       11.15\n",
            " 15.4         0.08       10.08       14.29       11.59       12.19\n",
            " 10.16        7.77       12.55       11.04       15.255      13.3\n",
            " 12.94       13.19       10.99       14.6175     17.95       10.85\n",
            "  8.89       11.34       14.5         9.32       18.83       15.27\n",
            "  9.79       13.22       13.43       10.9        11.08        8.12\n",
            "  9.89        8.42       13.14        9.99       15.95        9.19\n",
            " 10.58       12.46       11.74        6.87        7.19        8.64\n",
            " 12.7        11.28        0.24        9.9         5.91       17.88\n",
            " 14.75       13.21       10.86        6.86        9.74        8.31\n",
            " 13.03       14.68       10.         13.31        8.69        6.06\n",
            " 10.97       15.51333333 11.87        8.71       12.06       13.\n",
            "  9.71       13.25       12.1         9.9         7.81       10.67\n",
            " 12.44       11.23       12.85       12.59        6.31       14.87\n",
            "  9.92       15.32       11.54       13.01       11.19       15.92\n",
            " 13.47       15.33       15.435      13.21        8.76        9.79\n",
            "  9.11        5.46        7.76        9.3         6.85        9.99\n",
            "  9.57       15.485      10.1         8.03        7.1        10.9\n",
            " 10.01       12.6         8.61       12.88        0.16        9.86\n",
            " 11.64       15.45333333  4.83       15.35        0.33       12.51\n",
            " 11.37        5.86       12.91       12.91       10.98      ]\n",
            "Random Forest Regression MSE: 2.891993879585327\n"
          ]
        }
      ]
    },
    {
      "cell_type": "markdown",
      "source": [
        "**Gradient Boosting Regression**"
      ],
      "metadata": {
        "id": "zMRtmG8PPfnj"
      }
    },
    {
      "cell_type": "code",
      "source": [
        "gb_reg = GradientBoostingRegressor()\n",
        "gb_reg.fit(X_train_encoded, y_train)\n",
        "gb_reg_predictions = gb_reg.predict(X_test_encoded)\n",
        "gb_reg_mse = mean_squared_error(y_test, gb_reg_predictions)\n",
        "print(\"Gradient Boosting Regression Predictions:\", gb_reg_predictions)\n",
        "print(\"Gradient Boosting Regression MSE:\", gb_reg_mse)"
      ],
      "metadata": {
        "colab": {
          "base_uri": "https://localhost:8080/"
        },
        "id": "WRpLI2_ZPnpM",
        "outputId": "d3c6fc8d-0332-4399-b9cd-7664fcf9d6e8"
      },
      "execution_count": 117,
      "outputs": [
        {
          "output_type": "stream",
          "name": "stdout",
          "text": [
            "Gradient Boosting Regression Predictions: [10.50870021  7.27435314 14.11357026 11.19306692 12.59864872 12.30090615\n",
            "  2.98202669 10.88455636 14.62258798 13.2464778  15.92306159  4.28154516\n",
            "  7.68016373 11.19206458  8.40011676 12.78160153  9.32457177 16.06573295\n",
            " 11.29319526 12.36104183  9.92024263 16.24699759 10.81100885 -0.26115789\n",
            " 15.66718553 11.40380525 17.1208449  16.2547722  11.29601782  9.0259701\n",
            " 10.26316334  9.81098258 17.88751403 10.61525614 15.47573011 14.42689238\n",
            " 14.97019118 17.94964325  9.95535722 13.23782759 15.41031898 17.25287526\n",
            " 11.10001761  7.72259684 15.13782945 10.22254651 10.94284885 16.41694486\n",
            " 12.86993319 11.27097186 11.48487218 15.15432572 10.34292173  9.57312278\n",
            "  7.17909644 10.98083095 11.03078573 13.27267011 17.24755897  7.88215378\n",
            " 10.52879653  7.16189941  7.78146704 12.43904369  7.9045633   9.3507848\n",
            "  8.57645471  5.92052705 10.46962538 17.67053958 11.66818078 14.63222285\n",
            "  9.1527157   8.61429288  7.78181549  8.75116389  7.5675279   7.68200971\n",
            "  8.16466612 13.38579467 13.17596879 12.77231329 10.40326459  8.33327663\n",
            " 15.47631529 14.78843236  8.20781003  7.00655599  9.56415169 11.15888425\n",
            " 15.35968001 -1.64793725 10.23031874 14.2015073  12.53421972 12.11921105\n",
            " 10.76609534  8.60945153 12.39499874 10.368579   15.41728027 13.33267394\n",
            " 12.71860097 13.12672842 10.83716974 15.17029742 18.02277211 10.91885087\n",
            "  9.08990165 11.60631284 14.57190858  9.08283056 18.79563595 15.4966012\n",
            "  9.27640305 13.39067308 12.71662391 10.72628796 11.21174837  7.94951194\n",
            "  9.82791068  8.75959769 12.92633956  9.89373273 16.57882259  8.91940411\n",
            " 10.73199941 12.50414275 11.42050239  5.99305099  7.93498916  9.24714354\n",
            " 13.04768058 11.52440341  0.761178    9.81718844  5.90079532 17.68968236\n",
            " 14.62676548 13.44052861 10.87078037  7.52509229  9.71571801  8.06294664\n",
            " 12.52219475 14.84073919  9.75158557 14.12899091  8.3445888   5.56562385\n",
            " 10.80890092 15.64254729 11.18721167  9.41924703 12.96610718 13.31535827\n",
            "  9.63475459 12.88306565 12.0951504  10.48104984  7.75038641 10.55744796\n",
            " 12.26206518 10.78487429 12.99222243 12.36649805  7.0901013  14.94091183\n",
            "  9.72446624 15.38177907 11.497724   13.24370404 11.15876252 16.38369428\n",
            " 13.35498124 15.2112728  15.1422309  12.89729637 10.00239942  9.39722505\n",
            "  9.63203244  5.59129555  7.28092741  7.55555174  7.86825088  9.8984175\n",
            "  9.19352867 15.70005659 10.180863    9.01120796  7.6402051  10.86816371\n",
            "  9.92707162 12.2813867   8.08346859 13.21173055  0.2797386   9.91998208\n",
            " 12.17478305 15.39721493  5.3324432  15.01158239 -0.22703596 12.42686623\n",
            " 11.34014843  6.81202355 13.03229368 12.58172567 11.36386721]\n",
            "Gradient Boosting Regression MSE: 2.5608459088329867\n"
          ]
        }
      ]
    },
    {
      "cell_type": "markdown",
      "source": [
        "**Support Vector Regression**"
      ],
      "metadata": {
        "id": "07PEvD_EPrSv"
      }
    },
    {
      "cell_type": "code",
      "source": [
        "scaler = StandardScaler()\n",
        "X_train_scaled = scaler.fit_transform(X_train_encoded)\n",
        "X_test_scaled = scaler.transform(X_test_encoded)\n",
        "svr_reg = SVR()\n",
        "svr_reg.fit(X_train_scaled, y_train)\n",
        "svr_reg_predictions = svr_reg.predict(X_test_scaled)\n",
        "svr_reg_mse = mean_squared_error(y_test, svr_reg_predictions)\n",
        "print(\"Support Vector Regression Predictions:\", svr_reg_predictions)\n",
        "print(\"Support Vector Regression MSE:\", svr_reg_mse)"
      ],
      "metadata": {
        "colab": {
          "base_uri": "https://localhost:8080/"
        },
        "id": "ljKhfqLePuAw",
        "outputId": "7f27f83d-629b-4cd3-d29c-15b0340d34c7"
      },
      "execution_count": 118,
      "outputs": [
        {
          "output_type": "stream",
          "name": "stdout",
          "text": [
            "Support Vector Regression Predictions: [10.92569081  8.97324779 13.56625423 11.42417261 12.5734841  11.6319503\n",
            "  8.16496279 11.40799627 14.64188952 13.97841916 16.0889915   8.37960379\n",
            "  8.49544458 10.71015711  9.18019196 10.74988321  8.85358859 14.78871005\n",
            " 11.51788307 11.82919265  9.84192996 16.60342085 10.99501642  6.98093383\n",
            " 14.6182564  12.04632518 15.48243407 16.46411877 11.49169384  9.89065073\n",
            " 10.1236309  10.01114923 17.56598684 10.3310695  14.97555143 13.44142747\n",
            " 12.55618723 15.49732448  9.85745212 13.38959389 14.49676417 16.22323859\n",
            " 11.5931361   9.61179686 14.02450821  9.66221734 10.89233626 16.93715775\n",
            " 12.62326245 11.07322191 11.88597934 14.49171788 11.35669702 10.60798368\n",
            "  9.157707   10.45622169 10.99556178 12.92649218 16.77308416  8.03902779\n",
            " 10.59329398 10.51557446  8.87256252 12.73896038  7.91836505  9.89702181\n",
            "  9.75394958  6.14710914 10.22501528 15.87726763 12.0697478  14.46011875\n",
            "  8.91272328  9.88550171 10.25821514  9.90809235  7.7268466  10.05375187\n",
            "  7.77786693 14.05152621 12.44453975 13.11866247 10.19136336 10.45875719\n",
            " 14.91871509 13.80913914  8.96764976  8.21749571  9.48891424 10.51183746\n",
            " 13.68213557  5.78184244  9.8815364  14.09680023 11.41255757 12.04424367\n",
            " 11.22964804 10.40219261 11.85504732 10.82617973 14.40624261 14.37930387\n",
            " 12.20239205 13.65449983 10.77621316 13.54692287 17.09658437 11.22187422\n",
            "  9.37659375 11.26386935 14.11437958  9.32556124 17.91623638 14.81391851\n",
            "  9.38726416 14.1297827  13.08205886 11.46435103 11.13557755 10.42048067\n",
            "  9.69800392  9.35086306 12.39276376 10.22064705 17.59020864 10.19019806\n",
            " 11.33480437 12.7519731  11.32439591  9.27142205  8.75429736  8.14358533\n",
            " 13.29314958 10.9372179   6.60886226  8.56293533  8.2804729  16.40683515\n",
            " 13.97306059 12.45773374 10.83061548  8.20147846  8.56945896  7.45194696\n",
            " 12.47861103 15.21922561  9.65134792 11.92851493  8.62490196  8.20358248\n",
            " 11.15320686 15.75647499 11.62859407  9.3603352  12.30644417 13.09712223\n",
            "  9.19695952 12.38972803 12.04408844  9.88493033  8.87209431 10.46875332\n",
            " 12.1277627  11.61248016 12.94075868 12.82315208  9.89970234 15.34587643\n",
            " 10.04928215 15.84536052 11.85937555 12.17580509 11.58509633 15.55531269\n",
            " 14.11191034 14.57713107 15.02711082 11.63350774 10.98101269  9.66630758\n",
            "  9.74990166  9.53727492  7.37419192  9.95043844  8.70318573 10.29336861\n",
            "  9.55140989 15.03465177  9.66411836  8.65616688  7.96920495 10.6697499\n",
            " 10.14137364 12.04811691  9.56172464 12.66079505  5.15392885 10.10208381\n",
            " 11.9516771  15.24839214  8.60519838 12.49912055  6.79377666 12.06152427\n",
            " 11.41906646  8.61443502 12.86179388 12.45032112 11.23345774]\n",
            "Support Vector Regression MSE: 4.964273428122541\n"
          ]
        }
      ]
    },
    {
      "cell_type": "markdown",
      "source": [
        "**Gradient Descent**"
      ],
      "metadata": {
        "id": "U4PylWZFPz8m"
      }
    },
    {
      "cell_type": "code",
      "source": [
        "gd_reg = make_pipeline(StandardScaler(), SGDRegressor())\n",
        "gd_reg.fit(X_train_encoded, y_train)\n",
        "gd_reg_predictions = gd_reg.predict(X_test_encoded)\n",
        "gd_reg_mse = mean_squared_error(y_test, gd_reg_predictions)\n",
        "print(\"Gradient Descent Regression Predictions:\", gd_reg_predictions)\n",
        "print(\"Gradient Descent Regression MSE:\", gd_reg_mse)"
      ],
      "metadata": {
        "colab": {
          "base_uri": "https://localhost:8080/"
        },
        "id": "PhVCBxmLP2Tk",
        "outputId": "e5e6a257-7364-4386-ca62-40c7b9967c08"
      },
      "execution_count": 119,
      "outputs": [
        {
          "output_type": "stream",
          "name": "stdout",
          "text": [
            "Gradient Descent Regression Predictions: [10.67485836  8.27899454 14.20890901 11.00566263 12.10562729 12.15555233\n",
            "  5.59907571 10.385965   14.49292536 13.08984225 15.32655463  6.80484418\n",
            "  6.91327302 11.34947788  7.61050018 11.93768294  8.67563471 17.01299545\n",
            " 11.2874188  11.88510273  8.91250051 16.53327245 11.18077465  0.61881111\n",
            " 16.35769265 11.25146806 17.95582258 16.36214926 11.4390537   9.13436636\n",
            " 10.35986106  9.31514797 19.00504956 10.71504538 15.46638793 13.80245742\n",
            " 15.06434027 18.67365233  9.52081172 13.23278846 15.8923308  16.69587261\n",
            " 11.5198245   8.31249298 14.48800909  9.739249   10.83713615 16.80578258\n",
            " 12.9236752  11.06455112 11.23446248 14.73506825 10.1012861  10.08288409\n",
            "  6.08641846 10.53940926 10.85513916 13.65914909 17.48396334  7.06681261\n",
            " 10.16170924  7.93212569  7.6804002  12.79615757  6.57931493  9.32309664\n",
            "  8.54846393  6.16900372  9.60348475 19.32043703 11.66017443 14.62843059\n",
            "  8.20735219  8.64443871  8.12044453  9.45631111  6.10105276  8.04873234\n",
            "  7.27685454 13.00758376 13.47405398 12.59338643  9.67482951  9.37613432\n",
            " 15.69203437 14.94694612  7.70955389  6.50105103  6.36087803 10.66558288\n",
            " 15.60743907 -0.54562475  9.17155183 14.10637818 12.21962656 12.5365407\n",
            " 10.24172606  8.1183954  13.01644179 10.60672905 14.91882679 14.05051024\n",
            " 13.05442399 13.60301542 10.67642426 15.02508776 18.26248194 10.73303588\n",
            "  8.89286565 11.52931272 13.7885442   8.77453063 19.81531661 15.40213226\n",
            "  8.97289001 13.50096682 12.64791707 10.09064864 12.06035253  9.21188967\n",
            " 10.14754565  8.29704339 12.9330802   9.66456793 16.67250136  8.67178039\n",
            " 10.57944825 12.51298682 11.37079084  6.78714093  7.29368275  7.80323868\n",
            " 12.56866091 11.98741154  1.08826858  8.41779054  4.49643444 17.74911973\n",
            " 14.55970369 13.27621898 10.7673106   6.52389884  8.03360062  7.15135536\n",
            " 13.25120096 14.46736533  9.06074888 13.56835182  7.55926111  7.0047561\n",
            " 10.46622195 15.66807261 11.04471562  8.53753047 13.26094456 13.25002273\n",
            "  8.82258923 12.96255745 11.86079832  9.7503434   6.23337717 11.02988058\n",
            " 12.58117586 10.66727829 12.66143709 11.26890957  9.18211863 14.28210077\n",
            "  9.21419979 15.65601647 11.09082686 13.65896662 10.78511172 16.59983522\n",
            " 13.33909485 15.727389   15.00683128 13.39915271  9.91666236  9.75719912\n",
            "  8.73779773  8.10446045  6.17517171  9.01040025  7.55869459  9.63546112\n",
            "  8.45040295 15.90307415  9.99831151  7.68263662  5.61050291 10.84190627\n",
            " 10.09911576 12.302781    9.29652339 13.32917232 -0.08022724  8.90559499\n",
            " 12.33728293 14.80047527  7.64239169 14.82242504  0.56300382 12.53439952\n",
            " 10.79263364  7.4453954  13.49263942 13.41017478 11.39759485]\n",
            "Gradient Descent Regression MSE: 3.2465311840200615\n"
          ]
        }
      ]
    },
    {
      "cell_type": "markdown",
      "source": [
        "**Performance** (A lower MSE indicates better performance)"
      ],
      "metadata": {
        "id": "20G7w2aaP3lD"
      }
    },
    {
      "cell_type": "code",
      "source": [
        "print(\"Linear Regression MSE:\", linear_reg_mse)\n",
        "print(\"Polynomial Regression MSE:\", poly_reg_mse)\n",
        "print(\"Ridge Regression MSE:\", ridge_reg_mse)\n",
        "print(\"Lasso Regression MSE:\", lasso_reg_mse)\n",
        "print(\"Decision Tree Regression MSE:\", dt_reg_mse)\n",
        "print(\"Random Forest Regression MSE:\", rf_reg_mse)\n",
        "print(\"Gradient Boosting Regression MSE:\", gb_reg_mse)\n",
        "print(\"Support Vector Regression MSE:\", svr_reg_mse)\n",
        "print(\"Gradient Descent Regression MSE:\", gd_reg_mse)"
      ],
      "metadata": {
        "colab": {
          "base_uri": "https://localhost:8080/"
        },
        "id": "4HA5tYo3P97E",
        "outputId": "e4d0eb11-6b19-431c-81ec-d403304df63a"
      },
      "execution_count": 120,
      "outputs": [
        {
          "output_type": "stream",
          "name": "stdout",
          "text": [
            "Linear Regression MSE: 3.2036108508634795\n",
            "Polynomial Regression MSE: 1192.909886384272\n",
            "Ridge Regression MSE: 3.2017082760194695\n",
            "Lasso Regression MSE: 2.98522561693667\n",
            "Decision Tree Regression MSE: 4.899521531100478\n",
            "Random Forest Regression MSE: 2.891993879585327\n",
            "Gradient Boosting Regression MSE: 2.5608459088329867\n",
            "Support Vector Regression MSE: 4.964273428122541\n",
            "Gradient Descent Regression MSE: 3.2465311840200615\n"
          ]
        }
      ]
    },
    {
      "cell_type": "code",
      "source": [
        "# Initialize the best MSE variable\n",
        "best_mse = float('inf') # It should be an initial value that is higher than the maximum possible MSE to ensure that the first model's MSE is assigned correctly.\n",
        "best_model = None\n",
        "\n",
        "# Compare the MSE values and find the best model\n",
        "if linear_reg_mse < best_mse:\n",
        "    best_mse = linear_reg_mse\n",
        "    best_model = \"Linear Regression\"\n",
        "\n",
        "if poly_reg_mse < best_mse:\n",
        "    best_mse = poly_reg_mse\n",
        "    best_model = \"Polynomial Regression\"\n",
        "\n",
        "if ridge_reg_mse < best_mse:\n",
        "    best_mse = ridge_reg_mse\n",
        "    best_model = \"Ridge Regression\"\n",
        "\n",
        "if lasso_reg_mse < best_mse:\n",
        "    best_mse = lasso_reg_mse\n",
        "    best_model = \"Lasso Regression\"\n",
        "\n",
        "if dt_reg_mse < best_mse:\n",
        "    best_mse = dt_reg_mse\n",
        "    best_model = \"Decision Tree Regression\"\n",
        "\n",
        "if rf_reg_mse < best_mse:\n",
        "    best_mse = rf_reg_mse\n",
        "    best_model = \"Random Forest Regression\"\n",
        "\n",
        "if gb_reg_mse < best_mse:\n",
        "    best_mse = gb_reg_mse\n",
        "    best_model = \"Gradient Boosting Regression\"\n",
        "\n",
        "if svr_reg_mse < best_mse:\n",
        "    best_mse = svr_reg_mse\n",
        "    best_model = \"Support Vector Regression\"\n",
        "\n",
        "if gd_reg_mse < best_mse:\n",
        "    best_mse = gd_reg_mse\n",
        "    best_model = \"Gradient Descent Regression\"\n",
        "\n",
        "print(\"The best model is:\", best_model)\n"
      ],
      "metadata": {
        "colab": {
          "base_uri": "https://localhost:8080/"
        },
        "id": "ZHvi09-aP_Q9",
        "outputId": "1bde9ad0-df9f-47a0-d038-a5c509a5f026"
      },
      "execution_count": 121,
      "outputs": [
        {
          "output_type": "stream",
          "name": "stdout",
          "text": [
            "The best model is: Gradient Boosting Regression\n"
          ]
        }
      ]
    }
  ]
}