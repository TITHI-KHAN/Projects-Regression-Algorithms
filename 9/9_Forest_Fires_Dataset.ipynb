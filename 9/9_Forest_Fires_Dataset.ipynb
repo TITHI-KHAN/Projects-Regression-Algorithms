{
  "nbformat": 4,
  "nbformat_minor": 0,
  "metadata": {
    "colab": {
      "provenance": []
    },
    "kernelspec": {
      "name": "python3",
      "display_name": "Python 3"
    },
    "language_info": {
      "name": "python"
    }
  },
  "cells": [
    {
      "cell_type": "code",
      "execution_count": 32,
      "metadata": {
        "id": "htM5mGNIGYGu"
      },
      "outputs": [],
      "source": [
        "import pandas as pd\n",
        "from sklearn.model_selection import train_test_split\n",
        "from sklearn.linear_model import LinearRegression, LogisticRegression, Ridge, Lasso\n",
        "from sklearn.preprocessing import PolynomialFeatures, StandardScaler\n",
        "from sklearn.tree import DecisionTreeRegressor\n",
        "from sklearn.ensemble import RandomForestRegressor, GradientBoostingRegressor\n",
        "from sklearn.svm import SVR\n",
        "from sklearn.metrics import mean_squared_error\n",
        "from sklearn.pipeline import make_pipeline\n",
        "from sklearn.linear_model import SGDRegressor"
      ]
    },
    {
      "cell_type": "code",
      "source": [
        "# Load the data into a pandas DataFrame\n",
        "data = pd.read_csv('forestfires.csv', delimiter=',')"
      ],
      "metadata": {
        "id": "auPuRAGBGjIx"
      },
      "execution_count": 33,
      "outputs": []
    },
    {
      "cell_type": "code",
      "source": [
        "data.head()"
      ],
      "metadata": {
        "colab": {
          "base_uri": "https://localhost:8080/",
          "height": 206
        },
        "id": "wIW_KZdsGuir",
        "outputId": "74227859-40bf-4f3b-fd95-1ef4f3d1c2c2"
      },
      "execution_count": 34,
      "outputs": [
        {
          "output_type": "execute_result",
          "data": {
            "text/plain": [
              "   X  Y month  day  FFMC   DMC     DC  ISI  temp  RH  wind  rain  area\n",
              "0  7  5   mar  fri  86.2  26.2   94.3  5.1   8.2  51   6.7   0.0   0.0\n",
              "1  7  4   oct  tue  90.6  35.4  669.1  6.7  18.0  33   0.9   0.0   0.0\n",
              "2  7  4   oct  sat  90.6  43.7  686.9  6.7  14.6  33   1.3   0.0   0.0\n",
              "3  8  6   mar  fri  91.7  33.3   77.5  9.0   8.3  97   4.0   0.2   0.0\n",
              "4  8  6   mar  sun  89.3  51.3  102.2  9.6  11.4  99   1.8   0.0   0.0"
            ],
            "text/html": [
              "\n",
              "\n",
              "  <div id=\"df-e7f8245d-d121-4dcd-a44e-33b124a0b314\">\n",
              "    <div class=\"colab-df-container\">\n",
              "      <div>\n",
              "<style scoped>\n",
              "    .dataframe tbody tr th:only-of-type {\n",
              "        vertical-align: middle;\n",
              "    }\n",
              "\n",
              "    .dataframe tbody tr th {\n",
              "        vertical-align: top;\n",
              "    }\n",
              "\n",
              "    .dataframe thead th {\n",
              "        text-align: right;\n",
              "    }\n",
              "</style>\n",
              "<table border=\"1\" class=\"dataframe\">\n",
              "  <thead>\n",
              "    <tr style=\"text-align: right;\">\n",
              "      <th></th>\n",
              "      <th>X</th>\n",
              "      <th>Y</th>\n",
              "      <th>month</th>\n",
              "      <th>day</th>\n",
              "      <th>FFMC</th>\n",
              "      <th>DMC</th>\n",
              "      <th>DC</th>\n",
              "      <th>ISI</th>\n",
              "      <th>temp</th>\n",
              "      <th>RH</th>\n",
              "      <th>wind</th>\n",
              "      <th>rain</th>\n",
              "      <th>area</th>\n",
              "    </tr>\n",
              "  </thead>\n",
              "  <tbody>\n",
              "    <tr>\n",
              "      <th>0</th>\n",
              "      <td>7</td>\n",
              "      <td>5</td>\n",
              "      <td>mar</td>\n",
              "      <td>fri</td>\n",
              "      <td>86.2</td>\n",
              "      <td>26.2</td>\n",
              "      <td>94.3</td>\n",
              "      <td>5.1</td>\n",
              "      <td>8.2</td>\n",
              "      <td>51</td>\n",
              "      <td>6.7</td>\n",
              "      <td>0.0</td>\n",
              "      <td>0.0</td>\n",
              "    </tr>\n",
              "    <tr>\n",
              "      <th>1</th>\n",
              "      <td>7</td>\n",
              "      <td>4</td>\n",
              "      <td>oct</td>\n",
              "      <td>tue</td>\n",
              "      <td>90.6</td>\n",
              "      <td>35.4</td>\n",
              "      <td>669.1</td>\n",
              "      <td>6.7</td>\n",
              "      <td>18.0</td>\n",
              "      <td>33</td>\n",
              "      <td>0.9</td>\n",
              "      <td>0.0</td>\n",
              "      <td>0.0</td>\n",
              "    </tr>\n",
              "    <tr>\n",
              "      <th>2</th>\n",
              "      <td>7</td>\n",
              "      <td>4</td>\n",
              "      <td>oct</td>\n",
              "      <td>sat</td>\n",
              "      <td>90.6</td>\n",
              "      <td>43.7</td>\n",
              "      <td>686.9</td>\n",
              "      <td>6.7</td>\n",
              "      <td>14.6</td>\n",
              "      <td>33</td>\n",
              "      <td>1.3</td>\n",
              "      <td>0.0</td>\n",
              "      <td>0.0</td>\n",
              "    </tr>\n",
              "    <tr>\n",
              "      <th>3</th>\n",
              "      <td>8</td>\n",
              "      <td>6</td>\n",
              "      <td>mar</td>\n",
              "      <td>fri</td>\n",
              "      <td>91.7</td>\n",
              "      <td>33.3</td>\n",
              "      <td>77.5</td>\n",
              "      <td>9.0</td>\n",
              "      <td>8.3</td>\n",
              "      <td>97</td>\n",
              "      <td>4.0</td>\n",
              "      <td>0.2</td>\n",
              "      <td>0.0</td>\n",
              "    </tr>\n",
              "    <tr>\n",
              "      <th>4</th>\n",
              "      <td>8</td>\n",
              "      <td>6</td>\n",
              "      <td>mar</td>\n",
              "      <td>sun</td>\n",
              "      <td>89.3</td>\n",
              "      <td>51.3</td>\n",
              "      <td>102.2</td>\n",
              "      <td>9.6</td>\n",
              "      <td>11.4</td>\n",
              "      <td>99</td>\n",
              "      <td>1.8</td>\n",
              "      <td>0.0</td>\n",
              "      <td>0.0</td>\n",
              "    </tr>\n",
              "  </tbody>\n",
              "</table>\n",
              "</div>\n",
              "      <button class=\"colab-df-convert\" onclick=\"convertToInteractive('df-e7f8245d-d121-4dcd-a44e-33b124a0b314')\"\n",
              "              title=\"Convert this dataframe to an interactive table.\"\n",
              "              style=\"display:none;\">\n",
              "\n",
              "  <svg xmlns=\"http://www.w3.org/2000/svg\" height=\"24px\"viewBox=\"0 0 24 24\"\n",
              "       width=\"24px\">\n",
              "    <path d=\"M0 0h24v24H0V0z\" fill=\"none\"/>\n",
              "    <path d=\"M18.56 5.44l.94 2.06.94-2.06 2.06-.94-2.06-.94-.94-2.06-.94 2.06-2.06.94zm-11 1L8.5 8.5l.94-2.06 2.06-.94-2.06-.94L8.5 2.5l-.94 2.06-2.06.94zm10 10l.94 2.06.94-2.06 2.06-.94-2.06-.94-.94-2.06-.94 2.06-2.06.94z\"/><path d=\"M17.41 7.96l-1.37-1.37c-.4-.4-.92-.59-1.43-.59-.52 0-1.04.2-1.43.59L10.3 9.45l-7.72 7.72c-.78.78-.78 2.05 0 2.83L4 21.41c.39.39.9.59 1.41.59.51 0 1.02-.2 1.41-.59l7.78-7.78 2.81-2.81c.8-.78.8-2.07 0-2.86zM5.41 20L4 18.59l7.72-7.72 1.47 1.35L5.41 20z\"/>\n",
              "  </svg>\n",
              "      </button>\n",
              "\n",
              "\n",
              "\n",
              "    <div id=\"df-778f1d38-586f-499a-9f67-3f32dad6b84f\">\n",
              "      <button class=\"colab-df-quickchart\" onclick=\"quickchart('df-778f1d38-586f-499a-9f67-3f32dad6b84f')\"\n",
              "              title=\"Suggest charts.\"\n",
              "              style=\"display:none;\">\n",
              "\n",
              "<svg xmlns=\"http://www.w3.org/2000/svg\" height=\"24px\"viewBox=\"0 0 24 24\"\n",
              "     width=\"24px\">\n",
              "    <g>\n",
              "        <path d=\"M19 3H5c-1.1 0-2 .9-2 2v14c0 1.1.9 2 2 2h14c1.1 0 2-.9 2-2V5c0-1.1-.9-2-2-2zM9 17H7v-7h2v7zm4 0h-2V7h2v10zm4 0h-2v-4h2v4z\"/>\n",
              "    </g>\n",
              "</svg>\n",
              "      </button>\n",
              "    </div>\n",
              "\n",
              "<style>\n",
              "  .colab-df-quickchart {\n",
              "    background-color: #E8F0FE;\n",
              "    border: none;\n",
              "    border-radius: 50%;\n",
              "    cursor: pointer;\n",
              "    display: none;\n",
              "    fill: #1967D2;\n",
              "    height: 32px;\n",
              "    padding: 0 0 0 0;\n",
              "    width: 32px;\n",
              "  }\n",
              "\n",
              "  .colab-df-quickchart:hover {\n",
              "    background-color: #E2EBFA;\n",
              "    box-shadow: 0px 1px 2px rgba(60, 64, 67, 0.3), 0px 1px 3px 1px rgba(60, 64, 67, 0.15);\n",
              "    fill: #174EA6;\n",
              "  }\n",
              "\n",
              "  [theme=dark] .colab-df-quickchart {\n",
              "    background-color: #3B4455;\n",
              "    fill: #D2E3FC;\n",
              "  }\n",
              "\n",
              "  [theme=dark] .colab-df-quickchart:hover {\n",
              "    background-color: #434B5C;\n",
              "    box-shadow: 0px 1px 3px 1px rgba(0, 0, 0, 0.15);\n",
              "    filter: drop-shadow(0px 1px 2px rgba(0, 0, 0, 0.3));\n",
              "    fill: #FFFFFF;\n",
              "  }\n",
              "</style>\n",
              "\n",
              "    <script>\n",
              "      async function quickchart(key) {\n",
              "        const containerElement = document.querySelector('#' + key);\n",
              "        const charts = await google.colab.kernel.invokeFunction(\n",
              "            'suggestCharts', [key], {});\n",
              "      }\n",
              "    </script>\n",
              "\n",
              "      <script>\n",
              "\n",
              "function displayQuickchartButton(domScope) {\n",
              "  let quickchartButtonEl =\n",
              "    domScope.querySelector('#df-778f1d38-586f-499a-9f67-3f32dad6b84f button.colab-df-quickchart');\n",
              "  quickchartButtonEl.style.display =\n",
              "    google.colab.kernel.accessAllowed ? 'block' : 'none';\n",
              "}\n",
              "\n",
              "        displayQuickchartButton(document);\n",
              "      </script>\n",
              "      <style>\n",
              "    .colab-df-container {\n",
              "      display:flex;\n",
              "      flex-wrap:wrap;\n",
              "      gap: 12px;\n",
              "    }\n",
              "\n",
              "    .colab-df-convert {\n",
              "      background-color: #E8F0FE;\n",
              "      border: none;\n",
              "      border-radius: 50%;\n",
              "      cursor: pointer;\n",
              "      display: none;\n",
              "      fill: #1967D2;\n",
              "      height: 32px;\n",
              "      padding: 0 0 0 0;\n",
              "      width: 32px;\n",
              "    }\n",
              "\n",
              "    .colab-df-convert:hover {\n",
              "      background-color: #E2EBFA;\n",
              "      box-shadow: 0px 1px 2px rgba(60, 64, 67, 0.3), 0px 1px 3px 1px rgba(60, 64, 67, 0.15);\n",
              "      fill: #174EA6;\n",
              "    }\n",
              "\n",
              "    [theme=dark] .colab-df-convert {\n",
              "      background-color: #3B4455;\n",
              "      fill: #D2E3FC;\n",
              "    }\n",
              "\n",
              "    [theme=dark] .colab-df-convert:hover {\n",
              "      background-color: #434B5C;\n",
              "      box-shadow: 0px 1px 3px 1px rgba(0, 0, 0, 0.15);\n",
              "      filter: drop-shadow(0px 1px 2px rgba(0, 0, 0, 0.3));\n",
              "      fill: #FFFFFF;\n",
              "    }\n",
              "  </style>\n",
              "\n",
              "      <script>\n",
              "        const buttonEl =\n",
              "          document.querySelector('#df-e7f8245d-d121-4dcd-a44e-33b124a0b314 button.colab-df-convert');\n",
              "        buttonEl.style.display =\n",
              "          google.colab.kernel.accessAllowed ? 'block' : 'none';\n",
              "\n",
              "        async function convertToInteractive(key) {\n",
              "          const element = document.querySelector('#df-e7f8245d-d121-4dcd-a44e-33b124a0b314');\n",
              "          const dataTable =\n",
              "            await google.colab.kernel.invokeFunction('convertToInteractive',\n",
              "                                                     [key], {});\n",
              "          if (!dataTable) return;\n",
              "\n",
              "          const docLinkHtml = 'Like what you see? Visit the ' +\n",
              "            '<a target=\"_blank\" href=https://colab.research.google.com/notebooks/data_table.ipynb>data table notebook</a>'\n",
              "            + ' to learn more about interactive tables.';\n",
              "          element.innerHTML = '';\n",
              "          dataTable['output_type'] = 'display_data';\n",
              "          await google.colab.output.renderOutput(dataTable, element);\n",
              "          const docLink = document.createElement('div');\n",
              "          docLink.innerHTML = docLinkHtml;\n",
              "          element.appendChild(docLink);\n",
              "        }\n",
              "      </script>\n",
              "    </div>\n",
              "  </div>\n"
            ]
          },
          "metadata": {},
          "execution_count": 34
        }
      ]
    },
    {
      "cell_type": "code",
      "source": [
        "# Split the data into features (X) and target variable (Y)\n",
        "X = data.drop(['Y'], axis=1)\n",
        "Y = data['Y']"
      ],
      "metadata": {
        "id": "OMwV_03OHCse"
      },
      "execution_count": 35,
      "outputs": []
    },
    {
      "cell_type": "code",
      "source": [
        "# Split the data into training and testing sets\n",
        "X_train, X_test, y_train, y_test = train_test_split(X, Y, test_size=0.2, random_state=0)"
      ],
      "metadata": {
        "id": "HNQv4imjHDQl"
      },
      "execution_count": 36,
      "outputs": []
    },
    {
      "cell_type": "code",
      "source": [
        "# Concatenate the training and testing data\n",
        "combined_data = pd.concat([X_train, X_test])\n",
        "\n",
        "# Perform one-hot encoding on the combined data\n",
        "combined_data_encoded = pd.get_dummies(combined_data, columns=['month', 'day'])"
      ],
      "metadata": {
        "id": "pDlUzPzOHd08"
      },
      "execution_count": 37,
      "outputs": []
    },
    {
      "cell_type": "code",
      "source": [
        "# Split the combined data back into training and testing sets\n",
        "X_train_encoded = combined_data_encoded[:len(X_train)]\n",
        "X_test_encoded = combined_data_encoded[len(X_train):]"
      ],
      "metadata": {
        "id": "MENzlv8wH2vE"
      },
      "execution_count": 38,
      "outputs": []
    },
    {
      "cell_type": "markdown",
      "source": [
        "**Linear Regression**"
      ],
      "metadata": {
        "id": "01kgyqXeHK5V"
      }
    },
    {
      "cell_type": "code",
      "source": [
        "linear_reg = LinearRegression()\n",
        "linear_reg.fit(X_train_encoded, y_train)\n",
        "linear_reg_predictions = linear_reg.predict(X_test_encoded)\n",
        "linear_reg_mse = mean_squared_error(y_test, linear_reg_predictions)\n",
        "print(\"Linear Regression Predictions:\", linear_reg_predictions)\n",
        "print(\"Linear Regression MSE:\", linear_reg_mse)"
      ],
      "metadata": {
        "colab": {
          "base_uri": "https://localhost:8080/"
        },
        "id": "nZ-cwxyQHL0B",
        "outputId": "bda00ad2-8981-4c25-a54b-11e65f3ea8dd"
      },
      "execution_count": 39,
      "outputs": [
        {
          "output_type": "stream",
          "name": "stdout",
          "text": [
            "Linear Regression Predictions: [5.12566012 3.89221585 4.90418179 4.29774826 5.36678989 4.64026414\n",
            " 4.62812646 4.37014564 5.58892324 3.33678084 4.045781   4.80091814\n",
            " 4.3633906  3.94634091 4.95053532 3.46751406 4.71240876 3.30050185\n",
            " 3.45603752 4.32987585 4.72617487 3.77270561 4.23598214 3.24977412\n",
            " 3.56124877 3.80863522 4.34068669 4.83328447 4.56202659 4.11174851\n",
            " 4.42296934 4.06383202 4.44981434 4.56462392 5.54091391 5.3047592\n",
            " 4.05312501 4.75271396 5.09158499 5.22460361 3.41473081 3.16620537\n",
            " 4.7573643  3.90384766 3.36712304 4.88536004 5.27284487 3.53701615\n",
            " 3.53891078 4.77858088 5.18778777 3.80267034 4.29155258 4.39303505\n",
            " 4.33637372 4.74781414 5.18113912 4.79407152 3.8177406  5.16714375\n",
            " 4.37154208 3.71352384 5.61905667 4.09570014 4.90978592 3.6232232\n",
            " 4.00045611 3.75907635 5.06012172 3.92245326 3.14511229 3.34164072\n",
            " 4.59767946 5.27137007 4.62980938 4.96449943 4.67520016 3.45611812\n",
            " 4.83067541 4.20216144 3.34274577 3.97756782 3.71081754 3.40080901\n",
            " 4.28855944 4.7607562  5.18629486 3.53154812 3.67662401 3.8743848\n",
            " 4.65591039 5.5260903  4.72189492 3.85021106 3.44792342 5.11482105\n",
            " 3.47968132 4.04285174 5.38895768 3.24814341 4.2686278  3.81759143\n",
            " 4.17920245 5.36643271]\n",
            "Linear Regression MSE: 1.1687054659355256\n"
          ]
        }
      ]
    },
    {
      "cell_type": "markdown",
      "source": [
        "**Polynomial Regression**"
      ],
      "metadata": {
        "id": "PYqbze-bIEmk"
      }
    },
    {
      "cell_type": "code",
      "source": [
        "# Create polynomial features\n",
        "poly_features = PolynomialFeatures(degree=2)\n",
        "X_train_poly = poly_features.fit_transform(X_train_encoded)\n",
        "X_test_poly = poly_features.transform(X_test_encoded)\n",
        "\n",
        "# Create and fit the Polynomial Regression model\n",
        "poly_reg = LinearRegression()\n",
        "poly_reg.fit(X_train_poly, y_train)\n",
        "\n",
        "# Make predictions on the testing data\n",
        "poly_reg_predictions = poly_reg.predict(X_test_poly)\n",
        "\n",
        "# Evaluate the model's performance\n",
        "poly_reg_mse = mean_squared_error(y_test, poly_reg_predictions)\n",
        "\n",
        "print(\"Polynomial Regression Predictions:\", poly_reg_predictions)\n",
        "print(\"Polynomial Regression MSE:\", poly_reg_mse)"
      ],
      "metadata": {
        "colab": {
          "base_uri": "https://localhost:8080/"
        },
        "id": "iOfghiSEIHk2",
        "outputId": "1465e859-5cda-45e7-9bdb-a2fd93d0fa1d"
      },
      "execution_count": 40,
      "outputs": [
        {
          "output_type": "stream",
          "name": "stdout",
          "text": [
            "Polynomial Regression Predictions: [ 4.37782076e+00  1.03681144e+00  3.63827154e+00  5.93589604e+00\n",
            "  5.39299762e+00  4.37865421e+00  5.10053775e+00  2.85564435e+00\n",
            "  5.37345573e+00 -2.37179165e+04  2.41302788e+00  4.01391780e+00\n",
            " -6.95986734e+05  2.41569355e+00  3.60712072e+00  3.74229774e+00\n",
            "  4.92507216e+00  7.31387851e+00 -8.13124156e+04  7.05359265e+00\n",
            "  2.83166747e+05  3.79500517e+00  5.21594738e+04  3.39441726e+00\n",
            "  2.61294290e+00  4.14403138e+00  5.49609077e+00  3.19181888e+05\n",
            "  5.28354442e+00  4.60069212e+00  4.00480625e+00  4.54139945e+00\n",
            "  4.31775019e+00  6.15215155e+00  5.07796633e+00  1.28519292e+01\n",
            "  3.71553949e+00  6.50922975e+00 -3.06382243e+01  7.21557423e+00\n",
            "  6.07733855e+00  2.77990815e+00  3.96194813e+00  4.83039841e+00\n",
            "  2.41130885e+00  3.75861582e+00  2.34463903e+00  4.33796892e+00\n",
            "  2.95895731e+00  4.50957689e+00  5.55755517e+00  4.66247436e+00\n",
            "  3.70434543e+00  6.52776250e+00  2.66700861e+00  2.58541039e+00\n",
            " -3.48874764e+03  5.82856378e+00  3.72512540e+00  6.24406204e+00\n",
            "  4.89353773e+00  3.21424532e+00 -4.70944324e+04  5.29617378e+00\n",
            "  5.08779991e+00 -1.89576140e+00  2.75331125e+00  3.81667373e+00\n",
            " -1.25876282e+05  3.32993957e+00  2.29591724e+00  4.23741958e+00\n",
            "  5.12932941e+00  5.06359336e+00  4.16707969e+00  5.12048733e+00\n",
            "  4.60952112e+00  2.83214554e+00  4.66110739e+00  4.39070341e+00\n",
            "  3.77631137e+00 -3.27833891e-01 -2.89891988e+06  4.49854498e+05\n",
            " -4.98620439e+00  7.78982756e+00  7.86146066e+00  3.60862920e+00\n",
            "  3.62997004e+00  4.28152177e+00  5.40853378e+00  2.63236731e-01\n",
            "  3.40098843e+00  3.46951935e+00  7.61921436e-01  4.16183347e+05\n",
            "  3.98397981e+04  3.88625488e+00  2.71076742e+05  3.37005851e+00\n",
            "  4.00666031e+00  3.41423413e+00  4.24381039e+00  5.30515349e+00]\n",
            "Polynomial Regression MSE: 91815629753.16556\n"
          ]
        }
      ]
    },
    {
      "cell_type": "markdown",
      "source": [
        "**Ridge Regression**"
      ],
      "metadata": {
        "id": "kUkfqFh5IUAq"
      }
    },
    {
      "cell_type": "code",
      "source": [
        "# Create and fit the Ridge Regression model\n",
        "ridge_reg = Ridge(alpha=0.5)  # Adjust the regularization strength (alpha) as needed\n",
        "ridge_reg.fit(X_train_encoded, y_train)\n",
        "\n",
        "# Make predictions on the testing data\n",
        "ridge_reg_predictions = ridge_reg.predict(X_test_encoded)\n",
        "\n",
        "# Evaluate the model's performance\n",
        "ridge_reg_mse = mean_squared_error(y_test, ridge_reg_predictions)\n",
        "\n",
        "print(\"Ridge Regression Predictions:\", ridge_reg_predictions)\n",
        "print(\"Ridge Regression MSE:\", ridge_reg_mse)"
      ],
      "metadata": {
        "colab": {
          "base_uri": "https://localhost:8080/"
        },
        "id": "Agikpy0QIV76",
        "outputId": "dc2e85c1-e0bc-4965-c986-63734abbf3cd"
      },
      "execution_count": 41,
      "outputs": [
        {
          "output_type": "stream",
          "name": "stdout",
          "text": [
            "Ridge Regression Predictions: [5.13904108 3.84146505 4.95681482 4.2697445  5.35549484 4.61895508\n",
            " 4.6447805  4.3516241  5.55548181 3.35614473 4.05137392 4.73747305\n",
            " 4.36562236 3.95853621 4.9393968  3.40660551 4.69596298 3.29279815\n",
            " 3.47621489 4.33062724 4.69880401 3.79446797 4.27995048 3.30236943\n",
            " 3.55476001 3.78471845 4.33651023 4.83915371 4.59070785 4.13374773\n",
            " 4.39328659 4.03281026 4.48313868 4.56509641 5.53771995 5.30344445\n",
            " 4.03413094 4.79505124 5.10148704 5.21285309 3.46468133 3.20029994\n",
            " 4.76945328 3.89467298 3.39913867 4.84606008 5.41887193 3.56040815\n",
            " 3.56280627 4.78994514 5.16320803 3.84044672 4.31298607 4.43502676\n",
            " 4.39214205 4.70326332 5.20320792 4.78927881 3.83962867 5.187211\n",
            " 4.38807607 3.6602611  5.6388327  4.09344625 4.92370718 3.59159186\n",
            " 4.01985765 3.72920869 5.08436599 3.92025889 3.17944061 3.37730514\n",
            " 4.5976407  5.27455992 4.59297588 4.94419466 4.66058735 3.48272538\n",
            " 4.83967156 4.21861605 3.37208419 3.90332404 3.75073654 3.64854856\n",
            " 4.22169869 4.80903368 5.18839055 3.55136767 3.67385116 3.84426192\n",
            " 4.65737237 5.48423751 4.74298122 3.8722236  3.41736648 5.12022377\n",
            " 3.5208894  4.06709263 5.38814784 3.22357933 4.2821363  3.80862376\n",
            " 4.1768586  5.37364718]\n",
            "Ridge Regression MSE: 1.1687607684573598\n"
          ]
        }
      ]
    },
    {
      "cell_type": "markdown",
      "source": [
        "**Lasso Regression**"
      ],
      "metadata": {
        "id": "0STG76XOIhqN"
      }
    },
    {
      "cell_type": "code",
      "source": [
        "# Create and fit the Lasso Regression model\n",
        "lasso_reg = Lasso(alpha=0.1)  # Adjust the regularization strength (alpha) as needed\n",
        "lasso_reg.fit(X_train_encoded, y_train)\n",
        "\n",
        "# Make predictions on the testing data\n",
        "lasso_reg_predictions = lasso_reg.predict(X_test_encoded)\n",
        "\n",
        "# Evaluate the model's performance\n",
        "lasso_reg_mse = mean_squared_error(y_test, lasso_reg_predictions)\n",
        "\n",
        "print(\"Lasso Regression Predictions:\", lasso_reg_predictions)\n",
        "print(\"Lasso Regression MSE:\", lasso_reg_mse)"
      ],
      "metadata": {
        "colab": {
          "base_uri": "https://localhost:8080/"
        },
        "id": "wzA4gp-vIj5r",
        "outputId": "1b5faf03-1cf6-4083-b679-aa9498993a89"
      },
      "execution_count": 42,
      "outputs": [
        {
          "output_type": "stream",
          "name": "stdout",
          "text": [
            "Lasso Regression Predictions: [5.04614232 3.62816116 5.06571473 4.122518   5.12019705 4.59622607\n",
            " 4.74654578 4.1150871  5.3003814  3.9514756  3.87248256 4.08763967\n",
            " 4.21155285 3.94963894 4.8716452  3.33295328 4.66060219 3.37766877\n",
            " 3.93720358 4.14109271 4.68774309 3.98444076 4.97956444 3.49699926\n",
            " 3.57658417 3.91750405 4.21929935 4.94809439 4.51773117 4.20968529\n",
            " 4.33829115 3.96616547 4.52431913 4.67078316 5.28253873 5.31132505\n",
            " 3.94388485 4.81252362 5.22808058 5.1535184  3.5070633  3.50254439\n",
            " 4.76678449 3.97938155 3.46018012 4.84059752 5.3725662  3.68606194\n",
            " 3.52887554 4.76476891 5.21858249 4.01866663 4.22914056 4.54240205\n",
            " 4.54440533 4.68037444 5.51495125 4.65814477 3.98245064 5.1193739\n",
            " 4.5722155  3.55474103 5.40969043 4.11524428 4.77170933 3.655531\n",
            " 4.05319646 3.70426526 5.50837783 4.14265384 3.50845324 3.46018012\n",
            " 4.76481658 5.31534018 4.33361159 4.71391865 4.59903114 3.53626188\n",
            " 4.76709467 4.23994726 3.47317834 3.56488034 4.22239034 4.60282823\n",
            " 4.03546361 4.79066228 4.92348772 3.72454754 3.72053135 3.81466781\n",
            " 4.71021325 5.38460572 4.69866439 3.9745363  3.35224831 5.20990607\n",
            " 4.19583868 4.05988523 5.25549736 3.29810194 4.24456275 3.88628566\n",
            " 4.22016118 5.1804843 ]\n",
            "Lasso Regression MSE: 1.1240039921687754\n"
          ]
        }
      ]
    },
    {
      "cell_type": "markdown",
      "source": [
        "**Decision Tree Regression**"
      ],
      "metadata": {
        "id": "H3clSLkwI4u9"
      }
    },
    {
      "cell_type": "code",
      "source": [
        "# Create and fit the Decision Tree Regression model\n",
        "dt_reg = DecisionTreeRegressor(random_state=0)  # Set the random_state for reproducibility\n",
        "dt_reg.fit(X_train_encoded, y_train)\n",
        "\n",
        "# Make predictions on the testing data\n",
        "dt_reg_predictions = dt_reg.predict(X_test_encoded)\n",
        "\n",
        "# Evaluate the model's performance\n",
        "dt_reg_mse = mean_squared_error(y_test, dt_reg_predictions)\n",
        "\n",
        "print(\"Decision Tree Regression Predictions:\", dt_reg_predictions)\n",
        "print(\"Decision Tree Regression MSE:\", dt_reg_mse)"
      ],
      "metadata": {
        "colab": {
          "base_uri": "https://localhost:8080/"
        },
        "id": "8K0i71BXI7C1",
        "outputId": "3962fbf3-88bb-45e8-e4d6-0ffd76ea31d1"
      },
      "execution_count": 43,
      "outputs": [
        {
          "output_type": "stream",
          "name": "stdout",
          "text": [
            "Decision Tree Regression Predictions: [5. 5. 4. 5. 6. 4. 5. 5. 6. 4. 4. 4. 6. 4. 4. 3. 4. 5. 4. 4. 5. 3. 3. 4.\n",
            " 5. 4. 3. 5. 3. 3. 4. 4. 4. 3. 6. 8. 4. 4. 5. 9. 4. 2. 4. 3. 4. 4. 4. 4.\n",
            " 4. 3. 6. 5. 5. 3. 4. 4. 9. 3. 4. 6. 4. 2. 5. 3. 5. 2. 3. 4. 9. 5. 2. 3.\n",
            " 4. 6. 5. 5. 5. 2. 4. 4. 5. 3. 5. 5. 5. 4. 6. 4. 4. 4. 4. 4. 3. 4. 2. 6.\n",
            " 4. 4. 6. 4. 5. 4. 3. 6.]\n",
            "Decision Tree Regression MSE: 1.4903846153846154\n"
          ]
        }
      ]
    },
    {
      "cell_type": "markdown",
      "source": [
        "**Random Forest Regression**"
      ],
      "metadata": {
        "id": "3fIJo0eMJMQQ"
      }
    },
    {
      "cell_type": "code",
      "source": [
        "# Create and fit the Random Forest Regression model\n",
        "rf_reg = RandomForestRegressor(random_state=0)  # Set the random_state for reproducibility\n",
        "rf_reg.fit(X_train_encoded, y_train)\n",
        "\n",
        "# Make predictions on the testing data\n",
        "rf_reg_predictions = rf_reg.predict(X_test_encoded)\n",
        "\n",
        "# Evaluate the model's performance\n",
        "rf_reg_mse = mean_squared_error(y_test, rf_reg_predictions)\n",
        "\n",
        "print(\"Random Forest Regression Predictions:\", rf_reg_predictions)\n",
        "print(\"Random Forest Regression MSE:\", rf_reg_mse)"
      ],
      "metadata": {
        "colab": {
          "base_uri": "https://localhost:8080/"
        },
        "id": "O5V6-3jUJP0a",
        "outputId": "fbbc8253-178c-4263-eee0-80c958728acc"
      },
      "execution_count": 44,
      "outputs": [
        {
          "output_type": "stream",
          "name": "stdout",
          "text": [
            "Random Forest Regression Predictions: [4.02 3.97 5.39 4.85 5.76 3.94 4.63 4.35 5.95 4.07 4.57 4.14 4.72 4.27\n",
            " 4.03 2.49 4.1  3.83 4.02 4.36 3.85 4.01 4.15 4.18 4.09 3.66 3.58 4.4\n",
            " 3.97 3.63 4.38 4.67 3.97 4.28 5.23 6.68 4.44 4.48 4.62 6.96 3.74 2.2\n",
            " 4.07 4.13 3.09 4.28 6.14 3.88 4.08 3.95 5.96 4.36 4.42 4.42 4.04 3.77\n",
            " 6.39 4.33 4.07 5.92 4.13 2.71 5.13 4.11 4.27 2.65 3.44 3.92 6.67 4.21\n",
            " 3.03 3.51 4.41 5.95 4.54 4.85 4.22 2.32 4.17 3.99 4.39 2.76 4.27 4.95\n",
            " 4.34 3.8  4.68 4.04 3.83 4.43 4.42 5.11 4.06 4.03 3.33 6.16 4.15 3.99\n",
            " 5.09 3.93 4.2  4.   3.93 5.71]\n",
            "Random Forest Regression MSE: 0.9450673076923077\n"
          ]
        }
      ]
    },
    {
      "cell_type": "markdown",
      "source": [
        "**Gradient Boosting Regression**"
      ],
      "metadata": {
        "id": "FRfSTPbTJYKw"
      }
    },
    {
      "cell_type": "code",
      "source": [
        "# Create and fit the Gradient Boosting Regression model\n",
        "gb_reg = GradientBoostingRegressor(random_state=0)  # Set the random_state for reproducibility\n",
        "gb_reg.fit(X_train_encoded, y_train)\n",
        "\n",
        "# Make predictions on the testing data\n",
        "gb_reg_predictions = gb_reg.predict(X_test_encoded)\n",
        "\n",
        "# Evaluate the model's performance\n",
        "gb_reg_mse = mean_squared_error(y_test, gb_reg_predictions)\n",
        "\n",
        "print(\"Gradient Boosting Regression Predictions:\", gb_reg_predictions)\n",
        "print(\"Gradient Boosting Regression MSE:\", gb_reg_mse)"
      ],
      "metadata": {
        "colab": {
          "base_uri": "https://localhost:8080/"
        },
        "id": "4JBDhgzeJjZl",
        "outputId": "249cc7cb-8659-455c-a975-33790a09e272"
      },
      "execution_count": 45,
      "outputs": [
        {
          "output_type": "stream",
          "name": "stdout",
          "text": [
            "Gradient Boosting Regression Predictions: [4.14322733 3.37771785 5.18670315 4.83217128 6.11913961 3.88707861\n",
            " 4.57886021 3.99917424 6.34531337 3.96074432 4.25895604 4.06589423\n",
            " 4.59659535 4.24185836 4.29712026 2.90649033 4.19250669 3.84474587\n",
            " 3.82814509 4.37105991 4.01834958 4.21407476 4.21286569 4.2963412\n",
            " 3.9408454  4.16809914 3.88440337 4.24055576 4.06584326 4.06031375\n",
            " 4.53229116 4.92181486 4.34919333 4.28660298 5.77400335 5.94138161\n",
            " 4.26872679 4.25529513 3.56057099 7.6251681  3.67260114 2.94434715\n",
            " 4.10623869 4.18575249 2.97276844 4.02989135 5.16610675 4.03595225\n",
            " 3.6891819  4.00474302 5.65697075 4.46641584 4.13802686 4.11066868\n",
            " 4.19349995 3.88599766 7.11600644 4.24226005 4.07827126 5.71214416\n",
            " 4.05824931 3.24345766 5.2824823  4.02075342 4.14090338 2.89193515\n",
            " 3.70414555 4.42372494 6.78993357 3.73121715 2.65532452 3.42269708\n",
            " 4.07306651 6.2214396  4.44429241 4.67050579 4.55038454 2.83623462\n",
            " 4.16864734 4.12058738 3.93701399 3.25198386 4.29606708 4.68013181\n",
            " 4.57584    4.19276876 4.62947942 4.28881549 4.51146884 4.57699818\n",
            " 4.69221655 5.58745931 4.25253013 4.08231921 2.91316874 5.71794476\n",
            " 4.04398844 4.20545272 4.80428431 3.30849807 4.14235717 3.91107059\n",
            " 4.05113362 5.86467574]\n",
            "Gradient Boosting Regression MSE: 0.9345229618597842\n"
          ]
        }
      ]
    },
    {
      "cell_type": "markdown",
      "source": [
        "**Support Vector Regression**"
      ],
      "metadata": {
        "id": "o9k7uQJvJzoO"
      }
    },
    {
      "cell_type": "code",
      "source": [
        "# Create and fit the SVR model\n",
        "svr = SVR()\n",
        "svr.fit(X_train_encoded, y_train)\n",
        "\n",
        "# Make predictions on the testing data\n",
        "svr_predictions = svr.predict(X_test_encoded)\n",
        "\n",
        "# Evaluate the model's performance\n",
        "svr_mse = mean_squared_error(y_test, svr_predictions)\n",
        "\n",
        "print(\"Support Vector Regression Predictions:\", svr_predictions)\n",
        "print(\"Support Vector Regression MSE:\", svr_mse)"
      ],
      "metadata": {
        "colab": {
          "base_uri": "https://localhost:8080/"
        },
        "id": "k1XiZPg9J2Z-",
        "outputId": "f677dadd-e8d5-4a05-f2a1-13a1bf78e08b"
      },
      "execution_count": 46,
      "outputs": [
        {
          "output_type": "stream",
          "name": "stdout",
          "text": [
            "Support Vector Regression Predictions: [4.21948497 4.24869232 4.09793769 4.11333206 4.09343612 4.07250583\n",
            " 4.20880475 4.10400486 4.11898739 4.13864096 4.08038705 4.19792685\n",
            " 4.27902098 4.18760651 4.12949692 4.14526738 4.09161109 4.09806028\n",
            " 4.10442593 4.21529647 4.07416722 4.07472266 4.15486651 4.09349684\n",
            " 4.15100515 4.07257384 4.06289548 4.09338089 4.0839457  4.06961977\n",
            " 4.07622575 4.11274225 4.08746222 4.09141896 4.10225296 4.2142835\n",
            " 4.17177977 4.07910981 5.00937711 4.10313251 4.09054548 4.06931995\n",
            " 4.07206042 4.06575773 4.07298327 4.07363961 4.11523769 4.06696778\n",
            " 4.07110114 4.07643167 4.11251967 4.09387373 4.23420951 4.10254656\n",
            " 4.09622753 4.06950306 4.18524017 4.08310601 4.07483725 4.09666658\n",
            " 4.08691097 4.13232855 4.25023195 4.09462896 4.09190752 4.2079545\n",
            " 4.07491852 4.10934678 4.15057619 4.1189082  4.06791714 4.07351029\n",
            " 4.06973657 4.10283735 4.07187344 4.15085256 4.12301038 4.0695113\n",
            " 4.07861798 4.07554897 4.07664668 4.16232111 4.1622007  4.24068005\n",
            " 4.09145047 4.08077504 4.25333798 4.07493483 4.09622961 4.07294778\n",
            " 4.10214395 4.12339329 4.07865737 4.07041844 4.2783111  4.0947046\n",
            " 4.16022668 4.07271141 4.30282909 4.06735271 4.23739894 4.10004899\n",
            " 4.0662712  4.08341768]\n",
            "Support Vector Regression MSE: 1.673610338926847\n"
          ]
        }
      ]
    },
    {
      "cell_type": "markdown",
      "source": [
        "**Gradient Descent**"
      ],
      "metadata": {
        "id": "DOpLmvdnKCFB"
      }
    },
    {
      "cell_type": "code",
      "source": [
        "gd_reg = make_pipeline(StandardScaler(), SGDRegressor())\n",
        "gd_reg.fit(X_train_encoded, y_train)\n",
        "gd_reg_predictions = gd_reg.predict(X_test_encoded)\n",
        "gd_reg_mse = mean_squared_error(y_test, gd_reg_predictions)\n",
        "print(\"Gradient Descent Regression Predictions:\", gd_reg_predictions)\n",
        "print(\"Gradient Descent Regression MSE:\", gd_reg_mse)"
      ],
      "metadata": {
        "colab": {
          "base_uri": "https://localhost:8080/"
        },
        "id": "MHFlYGcQKFVW",
        "outputId": "419894d9-bad2-439b-c991-956233a46f63"
      },
      "execution_count": 47,
      "outputs": [
        {
          "output_type": "stream",
          "name": "stdout",
          "text": [
            "Gradient Descent Regression Predictions: [5.08844512 3.82418363 4.9933786  4.24488824 5.38423102 4.57795498\n",
            " 4.62853385 4.37178321 5.5579461  3.21872147 4.10433987 4.67676876\n",
            " 4.46117155 3.89470836 4.87035727 3.3371641  4.70037533 3.3247822\n",
            " 3.32537213 4.37908236 4.71096858 3.83068424 4.15657002 3.33273337\n",
            " 3.50328636 3.81814437 4.34343679 4.91041369 4.63992583 4.13500745\n",
            " 4.298572   4.00133767 4.5247521  4.62081745 5.58280568 5.36045069\n",
            " 3.98915295 4.89155838 5.36522151 5.23838245 3.59382796 3.30234952\n",
            " 4.76958711 3.88417096 3.43877606 4.76813989 5.67565177 3.5588489\n",
            " 3.6368725  4.8110902  5.16329041 3.89274003 4.28658697 4.51593339\n",
            " 4.42573068 4.72465552 5.09607867 4.8157718  3.8560464  5.25586713\n",
            " 4.44620314 3.61761264 5.75956921 4.07496174 4.95420524 3.57800565\n",
            " 4.07759376 3.6955056  4.96395813 3.96994739 3.28796498 3.40726321\n",
            " 4.59103326 5.31670383 4.53745513 4.89622318 4.58947866 3.5790485\n",
            " 4.85942602 4.22814073 3.37863587 3.84233343 3.64339127 3.8356175\n",
            " 4.0814132  4.92983002 5.23428451 3.58781937 3.67749018 3.74769874\n",
            " 4.7411159  5.47299524 4.78225124 3.91414806 3.39665752 5.19247292\n",
            " 3.41743118 4.16341255 5.42188499 3.19051236 4.2204211  3.80170782\n",
            " 4.17215146 5.43774032]\n",
            "Gradient Descent Regression MSE: 1.2112240775425176\n"
          ]
        }
      ]
    },
    {
      "cell_type": "markdown",
      "source": [
        "**Performance** (A lower MSE indicates better performance)"
      ],
      "metadata": {
        "id": "XtcGGbGxKCLp"
      }
    },
    {
      "cell_type": "code",
      "source": [
        "print(\"Linear Regression MSE:\", linear_reg_mse)\n",
        "print(\"Polynomial Regression MSE:\", poly_reg_mse)\n",
        "print(\"Ridge Regression MSE:\", ridge_reg_mse)\n",
        "print(\"Lasso Regression MSE:\", lasso_reg_mse)\n",
        "print(\"Decision Tree Regression MSE:\", dt_reg_mse)\n",
        "print(\"Random Forest Regression MSE:\", rf_reg_mse)\n",
        "print(\"Gradient Boosting Regression MSE:\", gb_reg_mse)\n",
        "print(\"Support Vector Regression MSE:\", svr_mse)\n",
        "print(\"Gradient Descent Regression MSE:\", gd_reg_mse)"
      ],
      "metadata": {
        "colab": {
          "base_uri": "https://localhost:8080/"
        },
        "id": "P9zw1b-lKn1p",
        "outputId": "06858d99-98eb-42ee-b817-8e385d43f9d3"
      },
      "execution_count": 48,
      "outputs": [
        {
          "output_type": "stream",
          "name": "stdout",
          "text": [
            "Linear Regression MSE: 1.1687054659355256\n",
            "Polynomial Regression MSE: 91815629753.16556\n",
            "Ridge Regression MSE: 1.1687607684573598\n",
            "Lasso Regression MSE: 1.1240039921687754\n",
            "Decision Tree Regression MSE: 1.4903846153846154\n",
            "Random Forest Regression MSE: 0.9450673076923077\n",
            "Gradient Boosting Regression MSE: 0.9345229618597842\n",
            "Support Vector Regression MSE: 1.673610338926847\n",
            "Gradient Descent Regression MSE: 1.2112240775425176\n"
          ]
        }
      ]
    },
    {
      "cell_type": "code",
      "source": [
        "# Initialize the best MSE variable\n",
        "best_mse = float('inf') # It should be an initial value that is higher than the maximum possible MSE to ensure that the first model's MSE is assigned correctly.\n",
        "best_model = None\n",
        "\n",
        "# Compare the MSE values and find the best model\n",
        "if linear_reg_mse < best_mse:\n",
        "    best_mse = linear_reg_mse\n",
        "    best_model = \"Linear Regression\"\n",
        "\n",
        "if poly_reg_mse < best_mse:\n",
        "    best_mse = poly_reg_mse\n",
        "    best_model = \"Polynomial Regression\"\n",
        "\n",
        "if ridge_reg_mse < best_mse:\n",
        "    best_mse = ridge_reg_mse\n",
        "    best_model = \"Ridge Regression\"\n",
        "\n",
        "if lasso_reg_mse < best_mse:\n",
        "    best_mse = lasso_reg_mse\n",
        "    best_model = \"Lasso Regression\"\n",
        "\n",
        "if dt_reg_mse < best_mse:\n",
        "    best_mse = dt_reg_mse\n",
        "    best_model = \"Decision Tree Regression\"\n",
        "\n",
        "if rf_reg_mse < best_mse:\n",
        "    best_mse = rf_reg_mse\n",
        "    best_model = \"Random Forest Regression\"\n",
        "\n",
        "if gb_reg_mse < best_mse:\n",
        "    best_mse = gb_reg_mse\n",
        "    best_model = \"Gradient Boosting Regression\"\n",
        "\n",
        "if svr_mse < best_mse:\n",
        "    best_mse = svr_mse\n",
        "    best_model = \"Support Vector Regression\"\n",
        "\n",
        "if gd_reg_mse < best_mse:\n",
        "    best_mse = gd_reg_mse\n",
        "    best_model = \"Gradient Descent Regression\"\n",
        "\n",
        "print(\"The best model is:\", best_model)\n"
      ],
      "metadata": {
        "colab": {
          "base_uri": "https://localhost:8080/"
        },
        "id": "p2wB-RZLKpH5",
        "outputId": "be812565-8725-4c92-874f-b3951083a8b0"
      },
      "execution_count": 49,
      "outputs": [
        {
          "output_type": "stream",
          "name": "stdout",
          "text": [
            "The best model is: Gradient Boosting Regression\n"
          ]
        }
      ]
    }
  ]
}