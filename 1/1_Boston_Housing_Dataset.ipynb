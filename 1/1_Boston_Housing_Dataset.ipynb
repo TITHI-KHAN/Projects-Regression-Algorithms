{
  "nbformat": 4,
  "nbformat_minor": 0,
  "metadata": {
    "colab": {
      "provenance": []
    },
    "kernelspec": {
      "name": "python3",
      "display_name": "Python 3"
    },
    "language_info": {
      "name": "python"
    }
  },
  "cells": [
    {
      "cell_type": "code",
      "execution_count": 72,
      "metadata": {
        "id": "-EQB4xUApnAZ"
      },
      "outputs": [],
      "source": [
        "import pandas as pd\n",
        "from sklearn.model_selection import train_test_split\n",
        "from sklearn.linear_model import LinearRegression, LogisticRegression, Ridge, Lasso\n",
        "from sklearn.preprocessing import PolynomialFeatures, StandardScaler\n",
        "from sklearn.tree import DecisionTreeRegressor\n",
        "from sklearn.ensemble import RandomForestRegressor, GradientBoostingRegressor\n",
        "from sklearn.svm import SVR\n",
        "from sklearn.metrics import mean_squared_error\n",
        "from sklearn.pipeline import make_pipeline\n",
        "from sklearn.linear_model import SGDRegressor"
      ]
    },
    {
      "cell_type": "code",
      "source": [
        "# Load the data into a pandas DataFrame\n",
        "data = pd.read_csv('housing.csv', delimiter=',')"
      ],
      "metadata": {
        "id": "T9mLNam6unsy"
      },
      "execution_count": 73,
      "outputs": []
    },
    {
      "cell_type": "code",
      "source": [
        "data.head()"
      ],
      "metadata": {
        "colab": {
          "base_uri": "https://localhost:8080/",
          "height": 206
        },
        "id": "PKdJF-kWvfPf",
        "outputId": "6d9e9db9-0fe2-4b33-fb11-db4323668c2a"
      },
      "execution_count": 74,
      "outputs": [
        {
          "output_type": "execute_result",
          "data": {
            "text/plain": [
              "      CRIM    ZN  INDUS  CHAS    NOX     RM   AGE     DIS  RAD  TAX  PTRATIO  \\\n",
              "0  0.00632  18.0   2.31     0  0.538  6.575  65.2  4.0900    1  296     15.3   \n",
              "1  0.02731   0.0   7.07     0  0.469  6.421  78.9  4.9671    2  242     17.8   \n",
              "2  0.02729   0.0   7.07     0  0.469  7.185  61.1  4.9671    2  242     17.8   \n",
              "3  0.03237   0.0   2.18     0  0.458  6.998  45.8  6.0622    3  222     18.7   \n",
              "4  0.06905   0.0   2.18     0  0.458  7.147  54.2  6.0622    3  222     18.7   \n",
              "\n",
              "        B  LSTAT  MEDV  \n",
              "0  396.90   4.98  24.0  \n",
              "1  396.90   9.14  21.6  \n",
              "2  392.83   4.03  34.7  \n",
              "3  394.63   2.94  33.4  \n",
              "4  396.90   5.33  36.2  "
            ],
            "text/html": [
              "\n",
              "\n",
              "  <div id=\"df-84020eae-a698-4e70-8521-1382b8b74158\">\n",
              "    <div class=\"colab-df-container\">\n",
              "      <div>\n",
              "<style scoped>\n",
              "    .dataframe tbody tr th:only-of-type {\n",
              "        vertical-align: middle;\n",
              "    }\n",
              "\n",
              "    .dataframe tbody tr th {\n",
              "        vertical-align: top;\n",
              "    }\n",
              "\n",
              "    .dataframe thead th {\n",
              "        text-align: right;\n",
              "    }\n",
              "</style>\n",
              "<table border=\"1\" class=\"dataframe\">\n",
              "  <thead>\n",
              "    <tr style=\"text-align: right;\">\n",
              "      <th></th>\n",
              "      <th>CRIM</th>\n",
              "      <th>ZN</th>\n",
              "      <th>INDUS</th>\n",
              "      <th>CHAS</th>\n",
              "      <th>NOX</th>\n",
              "      <th>RM</th>\n",
              "      <th>AGE</th>\n",
              "      <th>DIS</th>\n",
              "      <th>RAD</th>\n",
              "      <th>TAX</th>\n",
              "      <th>PTRATIO</th>\n",
              "      <th>B</th>\n",
              "      <th>LSTAT</th>\n",
              "      <th>MEDV</th>\n",
              "    </tr>\n",
              "  </thead>\n",
              "  <tbody>\n",
              "    <tr>\n",
              "      <th>0</th>\n",
              "      <td>0.00632</td>\n",
              "      <td>18.0</td>\n",
              "      <td>2.31</td>\n",
              "      <td>0</td>\n",
              "      <td>0.538</td>\n",
              "      <td>6.575</td>\n",
              "      <td>65.2</td>\n",
              "      <td>4.0900</td>\n",
              "      <td>1</td>\n",
              "      <td>296</td>\n",
              "      <td>15.3</td>\n",
              "      <td>396.90</td>\n",
              "      <td>4.98</td>\n",
              "      <td>24.0</td>\n",
              "    </tr>\n",
              "    <tr>\n",
              "      <th>1</th>\n",
              "      <td>0.02731</td>\n",
              "      <td>0.0</td>\n",
              "      <td>7.07</td>\n",
              "      <td>0</td>\n",
              "      <td>0.469</td>\n",
              "      <td>6.421</td>\n",
              "      <td>78.9</td>\n",
              "      <td>4.9671</td>\n",
              "      <td>2</td>\n",
              "      <td>242</td>\n",
              "      <td>17.8</td>\n",
              "      <td>396.90</td>\n",
              "      <td>9.14</td>\n",
              "      <td>21.6</td>\n",
              "    </tr>\n",
              "    <tr>\n",
              "      <th>2</th>\n",
              "      <td>0.02729</td>\n",
              "      <td>0.0</td>\n",
              "      <td>7.07</td>\n",
              "      <td>0</td>\n",
              "      <td>0.469</td>\n",
              "      <td>7.185</td>\n",
              "      <td>61.1</td>\n",
              "      <td>4.9671</td>\n",
              "      <td>2</td>\n",
              "      <td>242</td>\n",
              "      <td>17.8</td>\n",
              "      <td>392.83</td>\n",
              "      <td>4.03</td>\n",
              "      <td>34.7</td>\n",
              "    </tr>\n",
              "    <tr>\n",
              "      <th>3</th>\n",
              "      <td>0.03237</td>\n",
              "      <td>0.0</td>\n",
              "      <td>2.18</td>\n",
              "      <td>0</td>\n",
              "      <td>0.458</td>\n",
              "      <td>6.998</td>\n",
              "      <td>45.8</td>\n",
              "      <td>6.0622</td>\n",
              "      <td>3</td>\n",
              "      <td>222</td>\n",
              "      <td>18.7</td>\n",
              "      <td>394.63</td>\n",
              "      <td>2.94</td>\n",
              "      <td>33.4</td>\n",
              "    </tr>\n",
              "    <tr>\n",
              "      <th>4</th>\n",
              "      <td>0.06905</td>\n",
              "      <td>0.0</td>\n",
              "      <td>2.18</td>\n",
              "      <td>0</td>\n",
              "      <td>0.458</td>\n",
              "      <td>7.147</td>\n",
              "      <td>54.2</td>\n",
              "      <td>6.0622</td>\n",
              "      <td>3</td>\n",
              "      <td>222</td>\n",
              "      <td>18.7</td>\n",
              "      <td>396.90</td>\n",
              "      <td>5.33</td>\n",
              "      <td>36.2</td>\n",
              "    </tr>\n",
              "  </tbody>\n",
              "</table>\n",
              "</div>\n",
              "      <button class=\"colab-df-convert\" onclick=\"convertToInteractive('df-84020eae-a698-4e70-8521-1382b8b74158')\"\n",
              "              title=\"Convert this dataframe to an interactive table.\"\n",
              "              style=\"display:none;\">\n",
              "\n",
              "  <svg xmlns=\"http://www.w3.org/2000/svg\" height=\"24px\"viewBox=\"0 0 24 24\"\n",
              "       width=\"24px\">\n",
              "    <path d=\"M0 0h24v24H0V0z\" fill=\"none\"/>\n",
              "    <path d=\"M18.56 5.44l.94 2.06.94-2.06 2.06-.94-2.06-.94-.94-2.06-.94 2.06-2.06.94zm-11 1L8.5 8.5l.94-2.06 2.06-.94-2.06-.94L8.5 2.5l-.94 2.06-2.06.94zm10 10l.94 2.06.94-2.06 2.06-.94-2.06-.94-.94-2.06-.94 2.06-2.06.94z\"/><path d=\"M17.41 7.96l-1.37-1.37c-.4-.4-.92-.59-1.43-.59-.52 0-1.04.2-1.43.59L10.3 9.45l-7.72 7.72c-.78.78-.78 2.05 0 2.83L4 21.41c.39.39.9.59 1.41.59.51 0 1.02-.2 1.41-.59l7.78-7.78 2.81-2.81c.8-.78.8-2.07 0-2.86zM5.41 20L4 18.59l7.72-7.72 1.47 1.35L5.41 20z\"/>\n",
              "  </svg>\n",
              "      </button>\n",
              "\n",
              "\n",
              "\n",
              "    <div id=\"df-3896d804-1795-4a1b-8e13-2499e1f34020\">\n",
              "      <button class=\"colab-df-quickchart\" onclick=\"quickchart('df-3896d804-1795-4a1b-8e13-2499e1f34020')\"\n",
              "              title=\"Suggest charts.\"\n",
              "              style=\"display:none;\">\n",
              "\n",
              "<svg xmlns=\"http://www.w3.org/2000/svg\" height=\"24px\"viewBox=\"0 0 24 24\"\n",
              "     width=\"24px\">\n",
              "    <g>\n",
              "        <path d=\"M19 3H5c-1.1 0-2 .9-2 2v14c0 1.1.9 2 2 2h14c1.1 0 2-.9 2-2V5c0-1.1-.9-2-2-2zM9 17H7v-7h2v7zm4 0h-2V7h2v10zm4 0h-2v-4h2v4z\"/>\n",
              "    </g>\n",
              "</svg>\n",
              "      </button>\n",
              "    </div>\n",
              "\n",
              "<style>\n",
              "  .colab-df-quickchart {\n",
              "    background-color: #E8F0FE;\n",
              "    border: none;\n",
              "    border-radius: 50%;\n",
              "    cursor: pointer;\n",
              "    display: none;\n",
              "    fill: #1967D2;\n",
              "    height: 32px;\n",
              "    padding: 0 0 0 0;\n",
              "    width: 32px;\n",
              "  }\n",
              "\n",
              "  .colab-df-quickchart:hover {\n",
              "    background-color: #E2EBFA;\n",
              "    box-shadow: 0px 1px 2px rgba(60, 64, 67, 0.3), 0px 1px 3px 1px rgba(60, 64, 67, 0.15);\n",
              "    fill: #174EA6;\n",
              "  }\n",
              "\n",
              "  [theme=dark] .colab-df-quickchart {\n",
              "    background-color: #3B4455;\n",
              "    fill: #D2E3FC;\n",
              "  }\n",
              "\n",
              "  [theme=dark] .colab-df-quickchart:hover {\n",
              "    background-color: #434B5C;\n",
              "    box-shadow: 0px 1px 3px 1px rgba(0, 0, 0, 0.15);\n",
              "    filter: drop-shadow(0px 1px 2px rgba(0, 0, 0, 0.3));\n",
              "    fill: #FFFFFF;\n",
              "  }\n",
              "</style>\n",
              "\n",
              "    <script>\n",
              "      async function quickchart(key) {\n",
              "        const containerElement = document.querySelector('#' + key);\n",
              "        const charts = await google.colab.kernel.invokeFunction(\n",
              "            'suggestCharts', [key], {});\n",
              "      }\n",
              "    </script>\n",
              "\n",
              "      <script>\n",
              "\n",
              "function displayQuickchartButton(domScope) {\n",
              "  let quickchartButtonEl =\n",
              "    domScope.querySelector('#df-3896d804-1795-4a1b-8e13-2499e1f34020 button.colab-df-quickchart');\n",
              "  quickchartButtonEl.style.display =\n",
              "    google.colab.kernel.accessAllowed ? 'block' : 'none';\n",
              "}\n",
              "\n",
              "        displayQuickchartButton(document);\n",
              "      </script>\n",
              "      <style>\n",
              "    .colab-df-container {\n",
              "      display:flex;\n",
              "      flex-wrap:wrap;\n",
              "      gap: 12px;\n",
              "    }\n",
              "\n",
              "    .colab-df-convert {\n",
              "      background-color: #E8F0FE;\n",
              "      border: none;\n",
              "      border-radius: 50%;\n",
              "      cursor: pointer;\n",
              "      display: none;\n",
              "      fill: #1967D2;\n",
              "      height: 32px;\n",
              "      padding: 0 0 0 0;\n",
              "      width: 32px;\n",
              "    }\n",
              "\n",
              "    .colab-df-convert:hover {\n",
              "      background-color: #E2EBFA;\n",
              "      box-shadow: 0px 1px 2px rgba(60, 64, 67, 0.3), 0px 1px 3px 1px rgba(60, 64, 67, 0.15);\n",
              "      fill: #174EA6;\n",
              "    }\n",
              "\n",
              "    [theme=dark] .colab-df-convert {\n",
              "      background-color: #3B4455;\n",
              "      fill: #D2E3FC;\n",
              "    }\n",
              "\n",
              "    [theme=dark] .colab-df-convert:hover {\n",
              "      background-color: #434B5C;\n",
              "      box-shadow: 0px 1px 3px 1px rgba(0, 0, 0, 0.15);\n",
              "      filter: drop-shadow(0px 1px 2px rgba(0, 0, 0, 0.3));\n",
              "      fill: #FFFFFF;\n",
              "    }\n",
              "  </style>\n",
              "\n",
              "      <script>\n",
              "        const buttonEl =\n",
              "          document.querySelector('#df-84020eae-a698-4e70-8521-1382b8b74158 button.colab-df-convert');\n",
              "        buttonEl.style.display =\n",
              "          google.colab.kernel.accessAllowed ? 'block' : 'none';\n",
              "\n",
              "        async function convertToInteractive(key) {\n",
              "          const element = document.querySelector('#df-84020eae-a698-4e70-8521-1382b8b74158');\n",
              "          const dataTable =\n",
              "            await google.colab.kernel.invokeFunction('convertToInteractive',\n",
              "                                                     [key], {});\n",
              "          if (!dataTable) return;\n",
              "\n",
              "          const docLinkHtml = 'Like what you see? Visit the ' +\n",
              "            '<a target=\"_blank\" href=https://colab.research.google.com/notebooks/data_table.ipynb>data table notebook</a>'\n",
              "            + ' to learn more about interactive tables.';\n",
              "          element.innerHTML = '';\n",
              "          dataTable['output_type'] = 'display_data';\n",
              "          await google.colab.output.renderOutput(dataTable, element);\n",
              "          const docLink = document.createElement('div');\n",
              "          docLink.innerHTML = docLinkHtml;\n",
              "          element.appendChild(docLink);\n",
              "        }\n",
              "      </script>\n",
              "    </div>\n",
              "  </div>\n"
            ]
          },
          "metadata": {},
          "execution_count": 74
        }
      ]
    },
    {
      "cell_type": "code",
      "source": [
        "data.isnull()"
      ],
      "metadata": {
        "colab": {
          "base_uri": "https://localhost:8080/",
          "height": 423
        },
        "id": "1U84qHU1xCfY",
        "outputId": "45ba1066-1933-4eb0-827b-cda3369a38f7"
      },
      "execution_count": 75,
      "outputs": [
        {
          "output_type": "execute_result",
          "data": {
            "text/plain": [
              "      CRIM     ZN  INDUS   CHAS    NOX     RM    AGE    DIS    RAD    TAX  \\\n",
              "0    False  False  False  False  False  False  False  False  False  False   \n",
              "1    False  False  False  False  False  False  False  False  False  False   \n",
              "2    False  False  False  False  False  False  False  False  False  False   \n",
              "3    False  False  False  False  False  False  False  False  False  False   \n",
              "4    False  False  False  False  False  False  False  False  False  False   \n",
              "..     ...    ...    ...    ...    ...    ...    ...    ...    ...    ...   \n",
              "501  False  False  False  False  False  False  False  False  False  False   \n",
              "502  False  False  False  False  False  False  False  False  False  False   \n",
              "503  False  False  False  False  False  False  False  False  False  False   \n",
              "504  False  False  False  False  False  False  False  False  False  False   \n",
              "505  False  False  False  False  False  False  False  False  False  False   \n",
              "\n",
              "     PTRATIO      B  LSTAT   MEDV  \n",
              "0      False  False  False  False  \n",
              "1      False  False  False  False  \n",
              "2      False  False  False  False  \n",
              "3      False  False  False  False  \n",
              "4      False  False  False  False  \n",
              "..       ...    ...    ...    ...  \n",
              "501    False  False  False  False  \n",
              "502    False  False  False  False  \n",
              "503    False  False  False  False  \n",
              "504    False  False  False  False  \n",
              "505    False  False  False  False  \n",
              "\n",
              "[506 rows x 14 columns]"
            ],
            "text/html": [
              "\n",
              "\n",
              "  <div id=\"df-3f8bb3e1-2744-4bb8-8b06-d5173c6edeff\">\n",
              "    <div class=\"colab-df-container\">\n",
              "      <div>\n",
              "<style scoped>\n",
              "    .dataframe tbody tr th:only-of-type {\n",
              "        vertical-align: middle;\n",
              "    }\n",
              "\n",
              "    .dataframe tbody tr th {\n",
              "        vertical-align: top;\n",
              "    }\n",
              "\n",
              "    .dataframe thead th {\n",
              "        text-align: right;\n",
              "    }\n",
              "</style>\n",
              "<table border=\"1\" class=\"dataframe\">\n",
              "  <thead>\n",
              "    <tr style=\"text-align: right;\">\n",
              "      <th></th>\n",
              "      <th>CRIM</th>\n",
              "      <th>ZN</th>\n",
              "      <th>INDUS</th>\n",
              "      <th>CHAS</th>\n",
              "      <th>NOX</th>\n",
              "      <th>RM</th>\n",
              "      <th>AGE</th>\n",
              "      <th>DIS</th>\n",
              "      <th>RAD</th>\n",
              "      <th>TAX</th>\n",
              "      <th>PTRATIO</th>\n",
              "      <th>B</th>\n",
              "      <th>LSTAT</th>\n",
              "      <th>MEDV</th>\n",
              "    </tr>\n",
              "  </thead>\n",
              "  <tbody>\n",
              "    <tr>\n",
              "      <th>0</th>\n",
              "      <td>False</td>\n",
              "      <td>False</td>\n",
              "      <td>False</td>\n",
              "      <td>False</td>\n",
              "      <td>False</td>\n",
              "      <td>False</td>\n",
              "      <td>False</td>\n",
              "      <td>False</td>\n",
              "      <td>False</td>\n",
              "      <td>False</td>\n",
              "      <td>False</td>\n",
              "      <td>False</td>\n",
              "      <td>False</td>\n",
              "      <td>False</td>\n",
              "    </tr>\n",
              "    <tr>\n",
              "      <th>1</th>\n",
              "      <td>False</td>\n",
              "      <td>False</td>\n",
              "      <td>False</td>\n",
              "      <td>False</td>\n",
              "      <td>False</td>\n",
              "      <td>False</td>\n",
              "      <td>False</td>\n",
              "      <td>False</td>\n",
              "      <td>False</td>\n",
              "      <td>False</td>\n",
              "      <td>False</td>\n",
              "      <td>False</td>\n",
              "      <td>False</td>\n",
              "      <td>False</td>\n",
              "    </tr>\n",
              "    <tr>\n",
              "      <th>2</th>\n",
              "      <td>False</td>\n",
              "      <td>False</td>\n",
              "      <td>False</td>\n",
              "      <td>False</td>\n",
              "      <td>False</td>\n",
              "      <td>False</td>\n",
              "      <td>False</td>\n",
              "      <td>False</td>\n",
              "      <td>False</td>\n",
              "      <td>False</td>\n",
              "      <td>False</td>\n",
              "      <td>False</td>\n",
              "      <td>False</td>\n",
              "      <td>False</td>\n",
              "    </tr>\n",
              "    <tr>\n",
              "      <th>3</th>\n",
              "      <td>False</td>\n",
              "      <td>False</td>\n",
              "      <td>False</td>\n",
              "      <td>False</td>\n",
              "      <td>False</td>\n",
              "      <td>False</td>\n",
              "      <td>False</td>\n",
              "      <td>False</td>\n",
              "      <td>False</td>\n",
              "      <td>False</td>\n",
              "      <td>False</td>\n",
              "      <td>False</td>\n",
              "      <td>False</td>\n",
              "      <td>False</td>\n",
              "    </tr>\n",
              "    <tr>\n",
              "      <th>4</th>\n",
              "      <td>False</td>\n",
              "      <td>False</td>\n",
              "      <td>False</td>\n",
              "      <td>False</td>\n",
              "      <td>False</td>\n",
              "      <td>False</td>\n",
              "      <td>False</td>\n",
              "      <td>False</td>\n",
              "      <td>False</td>\n",
              "      <td>False</td>\n",
              "      <td>False</td>\n",
              "      <td>False</td>\n",
              "      <td>False</td>\n",
              "      <td>False</td>\n",
              "    </tr>\n",
              "    <tr>\n",
              "      <th>...</th>\n",
              "      <td>...</td>\n",
              "      <td>...</td>\n",
              "      <td>...</td>\n",
              "      <td>...</td>\n",
              "      <td>...</td>\n",
              "      <td>...</td>\n",
              "      <td>...</td>\n",
              "      <td>...</td>\n",
              "      <td>...</td>\n",
              "      <td>...</td>\n",
              "      <td>...</td>\n",
              "      <td>...</td>\n",
              "      <td>...</td>\n",
              "      <td>...</td>\n",
              "    </tr>\n",
              "    <tr>\n",
              "      <th>501</th>\n",
              "      <td>False</td>\n",
              "      <td>False</td>\n",
              "      <td>False</td>\n",
              "      <td>False</td>\n",
              "      <td>False</td>\n",
              "      <td>False</td>\n",
              "      <td>False</td>\n",
              "      <td>False</td>\n",
              "      <td>False</td>\n",
              "      <td>False</td>\n",
              "      <td>False</td>\n",
              "      <td>False</td>\n",
              "      <td>False</td>\n",
              "      <td>False</td>\n",
              "    </tr>\n",
              "    <tr>\n",
              "      <th>502</th>\n",
              "      <td>False</td>\n",
              "      <td>False</td>\n",
              "      <td>False</td>\n",
              "      <td>False</td>\n",
              "      <td>False</td>\n",
              "      <td>False</td>\n",
              "      <td>False</td>\n",
              "      <td>False</td>\n",
              "      <td>False</td>\n",
              "      <td>False</td>\n",
              "      <td>False</td>\n",
              "      <td>False</td>\n",
              "      <td>False</td>\n",
              "      <td>False</td>\n",
              "    </tr>\n",
              "    <tr>\n",
              "      <th>503</th>\n",
              "      <td>False</td>\n",
              "      <td>False</td>\n",
              "      <td>False</td>\n",
              "      <td>False</td>\n",
              "      <td>False</td>\n",
              "      <td>False</td>\n",
              "      <td>False</td>\n",
              "      <td>False</td>\n",
              "      <td>False</td>\n",
              "      <td>False</td>\n",
              "      <td>False</td>\n",
              "      <td>False</td>\n",
              "      <td>False</td>\n",
              "      <td>False</td>\n",
              "    </tr>\n",
              "    <tr>\n",
              "      <th>504</th>\n",
              "      <td>False</td>\n",
              "      <td>False</td>\n",
              "      <td>False</td>\n",
              "      <td>False</td>\n",
              "      <td>False</td>\n",
              "      <td>False</td>\n",
              "      <td>False</td>\n",
              "      <td>False</td>\n",
              "      <td>False</td>\n",
              "      <td>False</td>\n",
              "      <td>False</td>\n",
              "      <td>False</td>\n",
              "      <td>False</td>\n",
              "      <td>False</td>\n",
              "    </tr>\n",
              "    <tr>\n",
              "      <th>505</th>\n",
              "      <td>False</td>\n",
              "      <td>False</td>\n",
              "      <td>False</td>\n",
              "      <td>False</td>\n",
              "      <td>False</td>\n",
              "      <td>False</td>\n",
              "      <td>False</td>\n",
              "      <td>False</td>\n",
              "      <td>False</td>\n",
              "      <td>False</td>\n",
              "      <td>False</td>\n",
              "      <td>False</td>\n",
              "      <td>False</td>\n",
              "      <td>False</td>\n",
              "    </tr>\n",
              "  </tbody>\n",
              "</table>\n",
              "<p>506 rows × 14 columns</p>\n",
              "</div>\n",
              "      <button class=\"colab-df-convert\" onclick=\"convertToInteractive('df-3f8bb3e1-2744-4bb8-8b06-d5173c6edeff')\"\n",
              "              title=\"Convert this dataframe to an interactive table.\"\n",
              "              style=\"display:none;\">\n",
              "\n",
              "  <svg xmlns=\"http://www.w3.org/2000/svg\" height=\"24px\"viewBox=\"0 0 24 24\"\n",
              "       width=\"24px\">\n",
              "    <path d=\"M0 0h24v24H0V0z\" fill=\"none\"/>\n",
              "    <path d=\"M18.56 5.44l.94 2.06.94-2.06 2.06-.94-2.06-.94-.94-2.06-.94 2.06-2.06.94zm-11 1L8.5 8.5l.94-2.06 2.06-.94-2.06-.94L8.5 2.5l-.94 2.06-2.06.94zm10 10l.94 2.06.94-2.06 2.06-.94-2.06-.94-.94-2.06-.94 2.06-2.06.94z\"/><path d=\"M17.41 7.96l-1.37-1.37c-.4-.4-.92-.59-1.43-.59-.52 0-1.04.2-1.43.59L10.3 9.45l-7.72 7.72c-.78.78-.78 2.05 0 2.83L4 21.41c.39.39.9.59 1.41.59.51 0 1.02-.2 1.41-.59l7.78-7.78 2.81-2.81c.8-.78.8-2.07 0-2.86zM5.41 20L4 18.59l7.72-7.72 1.47 1.35L5.41 20z\"/>\n",
              "  </svg>\n",
              "      </button>\n",
              "\n",
              "\n",
              "\n",
              "    <div id=\"df-25576057-a4b0-45b3-9266-54cdb9bae811\">\n",
              "      <button class=\"colab-df-quickchart\" onclick=\"quickchart('df-25576057-a4b0-45b3-9266-54cdb9bae811')\"\n",
              "              title=\"Suggest charts.\"\n",
              "              style=\"display:none;\">\n",
              "\n",
              "<svg xmlns=\"http://www.w3.org/2000/svg\" height=\"24px\"viewBox=\"0 0 24 24\"\n",
              "     width=\"24px\">\n",
              "    <g>\n",
              "        <path d=\"M19 3H5c-1.1 0-2 .9-2 2v14c0 1.1.9 2 2 2h14c1.1 0 2-.9 2-2V5c0-1.1-.9-2-2-2zM9 17H7v-7h2v7zm4 0h-2V7h2v10zm4 0h-2v-4h2v4z\"/>\n",
              "    </g>\n",
              "</svg>\n",
              "      </button>\n",
              "    </div>\n",
              "\n",
              "<style>\n",
              "  .colab-df-quickchart {\n",
              "    background-color: #E8F0FE;\n",
              "    border: none;\n",
              "    border-radius: 50%;\n",
              "    cursor: pointer;\n",
              "    display: none;\n",
              "    fill: #1967D2;\n",
              "    height: 32px;\n",
              "    padding: 0 0 0 0;\n",
              "    width: 32px;\n",
              "  }\n",
              "\n",
              "  .colab-df-quickchart:hover {\n",
              "    background-color: #E2EBFA;\n",
              "    box-shadow: 0px 1px 2px rgba(60, 64, 67, 0.3), 0px 1px 3px 1px rgba(60, 64, 67, 0.15);\n",
              "    fill: #174EA6;\n",
              "  }\n",
              "\n",
              "  [theme=dark] .colab-df-quickchart {\n",
              "    background-color: #3B4455;\n",
              "    fill: #D2E3FC;\n",
              "  }\n",
              "\n",
              "  [theme=dark] .colab-df-quickchart:hover {\n",
              "    background-color: #434B5C;\n",
              "    box-shadow: 0px 1px 3px 1px rgba(0, 0, 0, 0.15);\n",
              "    filter: drop-shadow(0px 1px 2px rgba(0, 0, 0, 0.3));\n",
              "    fill: #FFFFFF;\n",
              "  }\n",
              "</style>\n",
              "\n",
              "    <script>\n",
              "      async function quickchart(key) {\n",
              "        const containerElement = document.querySelector('#' + key);\n",
              "        const charts = await google.colab.kernel.invokeFunction(\n",
              "            'suggestCharts', [key], {});\n",
              "      }\n",
              "    </script>\n",
              "\n",
              "      <script>\n",
              "\n",
              "function displayQuickchartButton(domScope) {\n",
              "  let quickchartButtonEl =\n",
              "    domScope.querySelector('#df-25576057-a4b0-45b3-9266-54cdb9bae811 button.colab-df-quickchart');\n",
              "  quickchartButtonEl.style.display =\n",
              "    google.colab.kernel.accessAllowed ? 'block' : 'none';\n",
              "}\n",
              "\n",
              "        displayQuickchartButton(document);\n",
              "      </script>\n",
              "      <style>\n",
              "    .colab-df-container {\n",
              "      display:flex;\n",
              "      flex-wrap:wrap;\n",
              "      gap: 12px;\n",
              "    }\n",
              "\n",
              "    .colab-df-convert {\n",
              "      background-color: #E8F0FE;\n",
              "      border: none;\n",
              "      border-radius: 50%;\n",
              "      cursor: pointer;\n",
              "      display: none;\n",
              "      fill: #1967D2;\n",
              "      height: 32px;\n",
              "      padding: 0 0 0 0;\n",
              "      width: 32px;\n",
              "    }\n",
              "\n",
              "    .colab-df-convert:hover {\n",
              "      background-color: #E2EBFA;\n",
              "      box-shadow: 0px 1px 2px rgba(60, 64, 67, 0.3), 0px 1px 3px 1px rgba(60, 64, 67, 0.15);\n",
              "      fill: #174EA6;\n",
              "    }\n",
              "\n",
              "    [theme=dark] .colab-df-convert {\n",
              "      background-color: #3B4455;\n",
              "      fill: #D2E3FC;\n",
              "    }\n",
              "\n",
              "    [theme=dark] .colab-df-convert:hover {\n",
              "      background-color: #434B5C;\n",
              "      box-shadow: 0px 1px 3px 1px rgba(0, 0, 0, 0.15);\n",
              "      filter: drop-shadow(0px 1px 2px rgba(0, 0, 0, 0.3));\n",
              "      fill: #FFFFFF;\n",
              "    }\n",
              "  </style>\n",
              "\n",
              "      <script>\n",
              "        const buttonEl =\n",
              "          document.querySelector('#df-3f8bb3e1-2744-4bb8-8b06-d5173c6edeff button.colab-df-convert');\n",
              "        buttonEl.style.display =\n",
              "          google.colab.kernel.accessAllowed ? 'block' : 'none';\n",
              "\n",
              "        async function convertToInteractive(key) {\n",
              "          const element = document.querySelector('#df-3f8bb3e1-2744-4bb8-8b06-d5173c6edeff');\n",
              "          const dataTable =\n",
              "            await google.colab.kernel.invokeFunction('convertToInteractive',\n",
              "                                                     [key], {});\n",
              "          if (!dataTable) return;\n",
              "\n",
              "          const docLinkHtml = 'Like what you see? Visit the ' +\n",
              "            '<a target=\"_blank\" href=https://colab.research.google.com/notebooks/data_table.ipynb>data table notebook</a>'\n",
              "            + ' to learn more about interactive tables.';\n",
              "          element.innerHTML = '';\n",
              "          dataTable['output_type'] = 'display_data';\n",
              "          await google.colab.output.renderOutput(dataTable, element);\n",
              "          const docLink = document.createElement('div');\n",
              "          docLink.innerHTML = docLinkHtml;\n",
              "          element.appendChild(docLink);\n",
              "        }\n",
              "      </script>\n",
              "    </div>\n",
              "  </div>\n"
            ]
          },
          "metadata": {},
          "execution_count": 75
        }
      ]
    },
    {
      "cell_type": "code",
      "source": [
        "# Split the data into features (X) and target variable (y)\n",
        "X = data.drop('MEDV', axis=1)\n",
        "y = data['MEDV']"
      ],
      "metadata": {
        "id": "w9mBxwNluuMU"
      },
      "execution_count": 76,
      "outputs": []
    },
    {
      "cell_type": "code",
      "source": [
        "# Split the data into training and testing sets\n",
        "X_train, X_test, y_train, y_test = train_test_split(X, y, test_size=0.2, random_state=42)"
      ],
      "metadata": {
        "id": "FgFKGKKSuvgx"
      },
      "execution_count": 77,
      "outputs": []
    },
    {
      "cell_type": "markdown",
      "source": [
        "**Linear Regression**"
      ],
      "metadata": {
        "id": "T_HfdlItu078"
      }
    },
    {
      "cell_type": "code",
      "source": [
        "linear_reg = LinearRegression()\n",
        "linear_reg.fit(X_train, y_train)\n",
        "linear_reg_predictions = linear_reg.predict(X_test)\n",
        "linear_reg_mse = mean_squared_error(y_test, linear_reg_predictions)\n",
        "print(\"Linear Regression Predictions:\", linear_reg_predictions)\n",
        "print(\"Linear Regression MSE:\", linear_reg_mse)"
      ],
      "metadata": {
        "colab": {
          "base_uri": "https://localhost:8080/"
        },
        "id": "eKYqwWpLuxK4",
        "outputId": "265d6046-e013-4fba-f679-9debb578ddbf"
      },
      "execution_count": 78,
      "outputs": [
        {
          "output_type": "stream",
          "name": "stdout",
          "text": [
            "Linear Regression Predictions: [28.99672362 36.02556534 14.81694405 25.03197915 18.76987992 23.25442929\n",
            " 17.66253818 14.34119    23.01320703 20.63245597 24.90850512 18.63883645\n",
            " -6.08842184 21.75834668 19.23922576 26.19319733 20.64773313  5.79472718\n",
            " 40.50033966 17.61289074 27.24909479 30.06625441 11.34179277 24.16077616\n",
            " 17.86058499 15.83609765 22.78148106 14.57704449 22.43626052 19.19631835\n",
            " 22.43383455 25.21979081 25.93909562 17.70162434 16.76911711 16.95125411\n",
            " 31.23340153 20.13246729 23.76579011 24.6322925  13.94204955 32.25576301\n",
            " 42.67251161 17.32745046 27.27618614 16.99310991 14.07009109 25.90341861\n",
            " 20.29485982 29.95339638 21.28860173 34.34451856 16.04739105 26.22562412\n",
            " 39.53939798 22.57950697 18.84531367 32.72531661 25.0673037  12.88628956\n",
            " 22.68221908 30.48287757 31.52626806 15.90148607 20.22094826 16.71089812\n",
            " 20.52384893 25.96356264 30.61607978 11.59783023 20.51232627 27.48111878\n",
            " 11.01962332 15.68096344 23.79316251  6.19929359 21.6039073  41.41377225\n",
            " 18.76548695  8.87931901 20.83076916 13.25620627 20.73963699  9.36482222\n",
            " 23.22444271 31.9155003  19.10228271 25.51579303 29.04256769 20.14358566\n",
            " 25.5859787   5.70159447 20.09474756 14.95069156 12.50395648 20.72635294\n",
            " 24.73957161 -0.164237   13.68486682 16.18359697 22.27621999 24.47902364]\n",
            "Linear Regression MSE: 24.291119474973478\n"
          ]
        }
      ]
    },
    {
      "cell_type": "markdown",
      "source": [
        "**Polynomial Regression**"
      ],
      "metadata": {
        "id": "P11vsQV_u6Zj"
      }
    },
    {
      "cell_type": "code",
      "source": [
        "poly_features = PolynomialFeatures(degree=2)\n",
        "X_poly = poly_features.fit_transform(X_train)\n",
        "poly_reg = LinearRegression()\n",
        "poly_reg.fit(X_poly, y_train)\n",
        "X_test_poly = poly_features.transform(X_test)\n",
        "poly_reg_predictions = poly_reg.predict(X_test_poly)\n",
        "poly_reg_mse = mean_squared_error(y_test, poly_reg_predictions)\n",
        "print(\"Polynomial Regression Predictions:\", poly_reg_predictions)\n",
        "print(\"Polynomial Regression MSE:\", poly_reg_mse)"
      ],
      "metadata": {
        "colab": {
          "base_uri": "https://localhost:8080/"
        },
        "id": "ygw0zGBnu_tc",
        "outputId": "1f42e7cb-3f8b-4c27-9af9-40440e4986b1"
      },
      "execution_count": 79,
      "outputs": [
        {
          "output_type": "stream",
          "name": "stdout",
          "text": [
            "Polynomial Regression Predictions: [26.90787238 33.99321145 14.60586834 20.35111618 16.48628265 16.15109301\n",
            " 16.87917262 14.10528731 22.79861605 19.1264137  18.98775983 21.46493548\n",
            " 15.41342157 16.99985677 18.66087478 25.32738423 18.82889038  9.5750885\n",
            " 49.36237282 13.443892   24.99897027 27.92221856 15.5907414  19.5574463\n",
            " 18.04737997 18.40432703 17.22273475 13.58323312 17.25221348 18.99941391\n",
            " 20.54168886 24.53950739 19.80340201 26.77886641 14.90328771 17.90461266\n",
            " 31.35604066 20.35686773 21.20637548 21.755611   16.87336898 31.94806617\n",
            " 51.88311136 15.0945335  26.38957614 17.47377324 15.49258131 23.91089153\n",
            " 19.10858554 27.58299375 22.01054311 36.47226036 17.57782024 26.42493302\n",
            " 45.72348571 24.57069391 15.71556365 32.38245469 25.46753371 16.26613021\n",
            " 24.16392857 28.69587231 30.31194788 12.29357994 25.58260709 16.22718698\n",
            " 15.58685547 24.825261   29.98003691 12.88967204 21.73140079 28.47777623\n",
            "  9.37258518 18.78880852 18.63410825  7.7575773  21.01058221 48.40419328\n",
            " 12.1368404  11.39183396 17.2353484  12.43159992 17.80452573 11.40213203\n",
            " 18.57978517 28.82407135 18.07224727 25.24619406 24.04672956 19.50337893\n",
            " 26.10050327 10.38832611 24.71899223 17.70420516 40.02680117 22.38807082\n",
            " 28.81052345 11.63635761 10.9336502  17.68170965 23.71159875 19.71624559]\n",
            "Polynomial Regression MSE: 14.183558083680547\n"
          ]
        }
      ]
    },
    {
      "cell_type": "markdown",
      "source": [
        "**Ridge Regression**"
      ],
      "metadata": {
        "id": "BKI2quqXvBjK"
      }
    },
    {
      "cell_type": "code",
      "source": [
        "ridge_reg = Ridge(alpha=0.5)\n",
        "ridge_reg.fit(X_train, y_train)\n",
        "ridge_reg_predictions = ridge_reg.predict(X_test)\n",
        "ridge_reg_mse = mean_squared_error(y_test, ridge_reg_predictions)\n",
        "print(\"Ridge Regression Predictions:\", ridge_reg_predictions)\n",
        "print(\"Ridge Regression MSE:\", ridge_reg_mse)"
      ],
      "metadata": {
        "colab": {
          "base_uri": "https://localhost:8080/"
        },
        "id": "9LHFW2N6vDcn",
        "outputId": "8463d4b5-8dbe-4cf7-afc8-9ce89f3f73b8"
      },
      "execution_count": 80,
      "outputs": [
        {
          "output_type": "stream",
          "name": "stdout",
          "text": [
            "Ridge Regression Predictions: [28.79888253 35.82437262 14.38886358 24.86701456 18.9957324  22.67722701\n",
            " 17.61478888 14.2651324  22.4415893  20.72164997 24.44407244 18.54412744\n",
            " -6.22085808 21.3265193  19.20293902 26.10032461 20.38231522  5.73466131\n",
            " 40.46061246 17.80700034 27.36441758 29.97377697 11.37287323 24.44554063\n",
            " 18.06371324 15.39049184 22.40369298 14.73889304 21.95497153 19.34532369\n",
            " 22.1443304  25.31459181 25.95741602 18.21404619 16.30468225 17.81522012\n",
            " 31.20719789 20.48329425 23.46121316 24.45624286 14.00080852 32.19188799\n",
            " 42.57710681 17.11586158 27.19843697 17.0988167  14.10565942 25.73828982\n",
            " 19.94862982 30.13342164 21.21747395 34.22076083 16.12269392 26.26265244\n",
            " 39.72055693 22.49224645 19.15523057 32.7648417  24.9929007  12.71537737\n",
            " 22.90351819 30.77256701 31.60844727 16.20508898 20.4959463  16.1322997\n",
            " 20.59466833 25.93308783 30.7575546  11.75857458 20.3790273  27.04989293\n",
            " 11.24804886 16.27725046 23.34428129  6.17520444 21.48074064 41.30110792\n",
            " 18.69559761  8.36891744 20.68046539 12.71465482 20.79078023  9.37630233\n",
            " 23.13231884 31.67693404 19.34293644 25.6804959  28.84228149 20.16284727\n",
            " 25.57459631  5.61338823 20.16790546 14.97127918 12.74355742 20.81079091\n",
            " 24.52285914 -0.82877966 13.96459143 15.67456803 22.14941795 24.07719397]\n",
            "Ridge Regression MSE: 24.377609808756354\n"
          ]
        }
      ]
    },
    {
      "cell_type": "markdown",
      "source": [
        "**Lasso Regression**"
      ],
      "metadata": {
        "id": "q4JmWUMDvE9a"
      }
    },
    {
      "cell_type": "code",
      "source": [
        "lasso_reg = Lasso(alpha=0.5)\n",
        "lasso_reg.fit(X_train, y_train)\n",
        "lasso_reg_predictions = lasso_reg.predict(X_test)\n",
        "lasso_reg_mse = mean_squared_error(y_test, lasso_reg_predictions)\n",
        "print(\"Lasso Regression Predictions:\", lasso_reg_predictions)\n",
        "print(\"Lasso Regression MSE:\", lasso_reg_mse)"
      ],
      "metadata": {
        "colab": {
          "base_uri": "https://localhost:8080/"
        },
        "id": "IJvYRxLPvGts",
        "outputId": "743c0bf6-2898-4513-ce85-a120bbb26b8b"
      },
      "execution_count": 81,
      "outputs": [
        {
          "output_type": "stream",
          "name": "stdout",
          "text": [
            "Lasso Regression Predictions: [28.45869672 32.70820858 13.68139983 24.92431114 19.44616744 21.70744012\n",
            " 17.87763271 13.28155749 21.64843398 21.04584171 21.43104965 19.436508\n",
            " -5.72822161 20.60098957 20.44656584 24.99222268 20.48771681  6.03628312\n",
            " 38.72768844 18.38568954 27.55188805 29.40586177 11.87083096 24.86078799\n",
            " 19.0237276  15.42390009 22.17134113 14.65722702 19.07267788 20.10091305\n",
            " 22.20349468 25.89221755 24.87342365 21.44203992 15.13373986 20.94526119\n",
            " 31.08975263 22.22261669 20.61948484 23.99538265 14.34470506 31.52776098\n",
            " 40.3980735  17.59704735 26.92026137 18.06777032 14.98448843 25.15769219\n",
            " 19.28226556 30.88830048 22.40676615 33.60036106 16.41404203 26.01597227\n",
            " 38.96200077 22.53096883 20.05393229 32.46765212 24.84582174 13.77597851\n",
            " 23.77944381 31.19220714 31.41250642 17.70873522 22.57500142 13.38445719\n",
            " 20.42401213 26.13602831 30.88161061 12.52888003 20.32744252 26.21755938\n",
            " 11.75135798 19.64506729 22.50790389  6.0022919  21.42548226 39.25322329\n",
            " 17.66554481  7.59267831 21.30346073 11.13426895 22.17951292 10.1227969\n",
            " 23.65551207 28.66603523 19.47536001 26.3782442  28.58882673 20.22891536\n",
            " 25.66615023  5.7847101  20.91386827 16.37956731 17.84554448 21.66571477\n",
            " 24.70173513 -1.82383965 14.50268383 13.61832827 21.88029142 23.40535478]\n",
            "Lasso Regression MSE: 24.315786841819875\n"
          ]
        }
      ]
    },
    {
      "cell_type": "markdown",
      "source": [
        "**Decision Tree Regression**"
      ],
      "metadata": {
        "id": "7c3qo07GvIB2"
      }
    },
    {
      "cell_type": "code",
      "source": [
        "dt_reg = DecisionTreeRegressor()\n",
        "dt_reg.fit(X_train, y_train)\n",
        "dt_reg_predictions = dt_reg.predict(X_test)\n",
        "dt_reg_mse = mean_squared_error(y_test, dt_reg_predictions)\n",
        "print(\"Decision Tree Regression Predictions:\", dt_reg_predictions)\n",
        "print(\"Decision Tree Regression MSE:\", dt_reg_mse)"
      ],
      "metadata": {
        "colab": {
          "base_uri": "https://localhost:8080/"
        },
        "id": "rNPkpZbAvJ06",
        "outputId": "b91b899d-347d-42c1-e216-65bea21eefee"
      },
      "execution_count": 82,
      "outputs": [
        {
          "output_type": "stream",
          "name": "stdout",
          "text": [
            "Decision Tree Regression Predictions: [28.1 33.1 15.2 21.7 23.2 18.5 16.6 16.7 23.  20.7 18.8 27.1  7.4 20.6\n",
            " 18.9 23.9 20.5 10.5 44.  13.  23.  24.4 13.6 22.8 14.5 14.6 21.  13.5\n",
            " 19.4 20.7 18.3 23.1 50.  15.  13.3 15.6 33.4 18.5 20.4 24.8 19.8 30.1\n",
            " 44.  18.2 22.  13.  14.3 23.7 17.7 32.  19.7 36.1 16.6 30.1 43.1 18.5\n",
            " 15.6 27.9 22.  22.5 26.6 33.4 29.4 16.1 28.  13.4 13.  22.9 27.9 14.1\n",
            " 21.8 28.7  8.8 18.6 21.4 10.5 19.8 50.  13.3  8.1 21.  12.  19.4 10.5\n",
            " 14.5 28.4 14.3 23.  22.9 18.  22.9  8.8 18.4 17.5 16.2 18.4 50.  12.\n",
            " 11.7 10.2 19.  26.4]\n",
            "Decision Tree Regression MSE: 22.999215686274507\n"
          ]
        }
      ]
    },
    {
      "cell_type": "markdown",
      "source": [
        "**Random Forest Regression**"
      ],
      "metadata": {
        "id": "_LvUG-22vLXr"
      }
    },
    {
      "cell_type": "code",
      "source": [
        "rf_reg = RandomForestRegressor()\n",
        "rf_reg.fit(X_train, y_train)\n",
        "rf_reg_predictions = rf_reg.predict(X_test)\n",
        "rf_reg_mse = mean_squared_error(y_test, rf_reg_predictions)\n",
        "print(\"Random Forest Regression Predictions:\", rf_reg_predictions)\n",
        "print(\"Random Forest Regression MSE:\", rf_reg_mse)"
      ],
      "metadata": {
        "colab": {
          "base_uri": "https://localhost:8080/"
        },
        "id": "efHWFrTYvNcR",
        "outputId": "b104e96f-7cfb-4490-a0a0-cd2f13c90446"
      },
      "execution_count": 83,
      "outputs": [
        {
          "output_type": "stream",
          "name": "stdout",
          "text": [
            "Random Forest Regression Predictions: [22.814 30.163 17.35  23.527 16.095 21.209 19.216 15.314 21.347 21.301\n",
            " 19.764 19.654  9.065 21.628 19.377 26.888 19.378  8.294 46.03  14.381\n",
            " 24.709 23.95  14.378 23.477 14.808 14.935 21.65  13.911 19.179 21.502\n",
            " 19.488 23.213 30.064 20.449 14.522 16.08  34.223 19.245 20.878 24.412\n",
            " 19.325 29.94  45.816 19.049 22.296 13.408 14.899 24.458 17.964 28.03\n",
            " 20.839 33.929 15.807 26.441 43.977 21.823 14.951 32.573 22.478 20.769\n",
            " 25.625 33.904 29.301 17.971 27.146 17.393 13.511 23.051 27.668 15.743\n",
            " 20.73  28.486 10.299 21.401 22.303  6.975 20.071 46.301 11.222 12.957\n",
            " 21.252 13.57  20.006  9.02  20.252 26.933 15.357 23.204 23.51  17.918\n",
            " 21.522  8.162 19.398 18.784 23.318 19.392 40.872 12.445 12.205 13.896\n",
            " 20.091 24.03 ]\n",
            "Random Forest Regression MSE: 8.321780284313725\n"
          ]
        }
      ]
    },
    {
      "cell_type": "markdown",
      "source": [
        "**Gradient Boosting Regression**"
      ],
      "metadata": {
        "id": "0OOBHissvO13"
      }
    },
    {
      "cell_type": "code",
      "source": [
        "gb_reg = GradientBoostingRegressor()\n",
        "gb_reg.fit(X_train, y_train)\n",
        "gb_reg_predictions = gb_reg.predict(X_test)\n",
        "gb_reg_mse = mean_squared_error(y_test, gb_reg_predictions)\n",
        "print(\"Gradient Boosting Regression Predictions:\", gb_reg_predictions)\n",
        "print(\"Gradient Boosting Regression MSE:\", gb_reg_mse)"
      ],
      "metadata": {
        "colab": {
          "base_uri": "https://localhost:8080/"
        },
        "id": "yfep4m5FvQhb",
        "outputId": "c8fbce12-0228-4d40-983c-79f088c60e8a"
      },
      "execution_count": 84,
      "outputs": [
        {
          "output_type": "stream",
          "name": "stdout",
          "text": [
            "Gradient Boosting Regression Predictions: [23.4497613  31.17243463 17.49155121 24.02257316 17.6811439  22.32005362\n",
            " 18.14958762 13.83045241 20.61619342 21.04285745 19.93787694 17.84771967\n",
            "  8.87847475 21.75820976 19.79454516 25.71887535 19.71027046  8.83726437\n",
            " 45.07118382 15.96280089 24.1976327  25.26461031 12.51887607 20.89492763\n",
            " 14.97826629 15.47812803 22.20367497 13.26656609 19.27766026 21.43650957\n",
            " 19.72895052 23.47588201 19.38092692 19.15659237 14.50437732 16.94131142\n",
            " 33.09630021 19.80432738 20.7291071  24.14928838 18.30166138 30.36297218\n",
            " 45.15322353 20.84894217 22.61816613 14.61317262 15.71182991 24.14928838\n",
            " 18.06929082 28.02569719 20.23520559 35.66832821 16.73377496 24.99108092\n",
            " 47.7594972  21.39870322 16.51753536 32.24969813 22.03440415 18.08425056\n",
            " 24.24590305 34.42819637 30.66211615 19.1946555  24.54464101 16.92131694\n",
            " 14.50851517 23.66112578 28.04012929 15.40476214 21.27417609 24.96901377\n",
            " 11.04430788 21.36306687 23.33304102  6.34609352 20.27445864 45.63872375\n",
            " 11.79854943 12.89228027 21.61669023 13.32297788 19.93114558 10.55419493\n",
            " 20.34218788 26.96934638 15.44188279 23.6166354  25.62099461 17.54812759\n",
            " 22.36589817 10.00067281 19.28428371 18.91056616 22.86525736 19.44786097\n",
            " 40.57935427 11.9202464  12.01055212 14.5398469  20.67949841 22.88578766]\n",
            "Gradient Boosting Regression MSE: 6.1777395585298\n"
          ]
        }
      ]
    },
    {
      "cell_type": "markdown",
      "source": [
        "**Support Vector Regression**"
      ],
      "metadata": {
        "id": "zn5pcyJovR-o"
      }
    },
    {
      "cell_type": "code",
      "source": [
        "scaler = StandardScaler()\n",
        "X_train_scaled = scaler.fit_transform(X_train)\n",
        "X_test_scaled = scaler.transform(X_test)\n",
        "svr_reg = SVR()\n",
        "svr_reg.fit(X_train_scaled, y_train)\n",
        "svr_reg_predictions = svr_reg.predict(X_test_scaled)\n",
        "svr_reg_mse = mean_squared_error(y_test, svr_reg_predictions)\n",
        "print(\"Support Vector Regression Predictions:\", svr_reg_predictions)\n",
        "print(\"Support Vector Regression MSE:\", svr_reg_mse)"
      ],
      "metadata": {
        "colab": {
          "base_uri": "https://localhost:8080/"
        },
        "id": "dME4jf1bvToo",
        "outputId": "e4e0e3f1-91b5-46b2-cbc3-3437e0c6bba8"
      },
      "execution_count": 85,
      "outputs": [
        {
          "output_type": "stream",
          "name": "stdout",
          "text": [
            "Support Vector Regression Predictions: [25.95624291 28.04561835 17.7362879  23.12477806 16.46106579 21.29654269\n",
            " 17.3307001  15.82973949 20.00494947 19.27156708 21.49429129 19.28686501\n",
            " 17.43930814 21.48783194 17.73471571 22.19083229 18.9894571  11.08631371\n",
            " 33.75890121 15.13271114 25.34802666 27.90013276 14.58874089 22.77417453\n",
            " 15.52855773 15.29260406 21.54905817 13.55309378 21.29896556 18.66248702\n",
            " 19.32762599 24.03302498 18.98228382 18.66998107 14.77569959 17.66599856\n",
            " 30.93214444 19.89511965 22.92251457 23.71900406 15.76069262 29.34922294\n",
            " 32.32546277 18.2058077  25.50536742 15.42117754 15.21465145 24.69020859\n",
            " 18.33996605 29.41260567 20.61628038 32.38466877 16.76049199 24.58174296\n",
            " 36.12087235 22.25553964 16.23381206 28.44060534 24.14823144 15.96957461\n",
            " 24.12990829 27.87759741 28.6011939  18.62236675 22.92003102 19.33125984\n",
            " 16.21397525 24.53252211 27.7219972  13.577104   20.36787878 23.38979484\n",
            " 10.69352134 20.43242723 22.48219365 13.32335982 19.38839185 32.22808749\n",
            " 14.20683785 15.55550022 20.38596855 12.16183493 20.96783081 11.90831673\n",
            " 20.18849694 26.70098841 16.17161345 24.56832937 25.25792773 18.93053843\n",
            " 23.80171993 11.64486314 19.22355836 18.20451789 20.33587154 19.6421342\n",
            " 19.52038834 15.00035304 12.80802204 13.25680358 21.40877985 23.34397571]\n",
            "Support Vector Regression MSE: 25.668539678396044\n"
          ]
        }
      ]
    },
    {
      "cell_type": "markdown",
      "source": [
        "**Gradient Descent**"
      ],
      "metadata": {
        "id": "yZc_0eCTvVOG"
      }
    },
    {
      "cell_type": "code",
      "source": [
        "gd_reg = make_pipeline(StandardScaler(), SGDRegressor())\n",
        "gd_reg.fit(X_train, y_train)\n",
        "gd_reg_predictions = gd_reg.predict(X_test)\n",
        "gd_reg_mse = mean_squared_error(y_test, gd_reg_predictions)\n",
        "print(\"Gradient Descent Regression Predictions:\", gd_reg_predictions)\n",
        "print(\"Gradient Descent Regression MSE:\", gd_reg_mse)"
      ],
      "metadata": {
        "colab": {
          "base_uri": "https://localhost:8080/"
        },
        "id": "Xi_qavmOvXDV",
        "outputId": "de508fd8-40fe-45c0-b39c-9d24c88e55fc"
      },
      "execution_count": 86,
      "outputs": [
        {
          "output_type": "stream",
          "name": "stdout",
          "text": [
            "Gradient Descent Regression Predictions: [29.01655222 35.93972359 15.58521774 25.04701195 18.69120833 23.40301632\n",
            " 17.68251137 14.49173232 22.86658522 20.78624971 24.74258189 18.66727964\n",
            " -6.12021304 21.94216381 19.20107209 26.12332233 20.04179616  5.66028\n",
            " 40.41190681 17.53687339 27.10210462 29.88974357 11.42988793 24.22260412\n",
            " 17.75376535 15.66514621 22.93120571 14.54999293 22.41967626 19.35070096\n",
            " 22.41016598 25.22367599 25.91794431 17.55402827 16.63345622 16.99903487\n",
            " 31.29044932 20.01007162 23.77825713 24.66503126 14.08414217 31.94288116\n",
            " 42.3937144  17.52247925 27.41325082 16.86374309 14.13489208 25.94439789\n",
            " 20.17417585 30.20817381 21.29988242 34.16652688 16.1478752  26.47091294\n",
            " 39.47770357 22.49714588 18.75787882 32.46973418 25.1090033  12.90182254\n",
            " 22.60209565 30.28471087 31.43346569 15.96835866 20.70238451 16.66561531\n",
            " 20.43952593 25.97169056 30.48794268 11.51300248 20.44479621 27.37619553\n",
            " 10.95165954 15.87016285 23.9463875   6.17831293 21.79930748 41.12504096\n",
            " 18.70600784  9.62386009 21.0359978  13.09309207 20.90280709  9.22509074\n",
            " 23.20003275 31.91078656 19.0545101  25.52885508 28.73954256 20.29234233\n",
            " 25.6288233   5.62652228 20.24419091 15.35576881 12.21011835 20.87535103\n",
            " 24.58358036 -0.32725702 13.65376758 16.10002779 22.29446172 24.6497127 ]\n",
            "Gradient Descent Regression MSE: 24.59534697168974\n"
          ]
        }
      ]
    },
    {
      "cell_type": "markdown",
      "source": [
        "**Performance** (A lower MSE indicates better performance)"
      ],
      "metadata": {
        "id": "kcsqiOlWyS8J"
      }
    },
    {
      "cell_type": "code",
      "source": [
        "print(\"Linear Regression MSE:\", linear_reg_mse)\n",
        "print(\"Polynomial Regression MSE:\", poly_reg_mse)\n",
        "print(\"Ridge Regression MSE:\", ridge_reg_mse)\n",
        "print(\"Lasso Regression MSE:\", lasso_reg_mse)\n",
        "print(\"Decision Tree Regression MSE:\", dt_reg_mse)\n",
        "print(\"Random Forest Regression MSE:\", rf_reg_mse)\n",
        "print(\"Gradient Boosting Regression MSE:\", gb_reg_mse)\n",
        "print(\"Support Vector Regression MSE:\", svr_reg_mse)\n",
        "print(\"Gradient Descent Regression MSE:\", gd_reg_mse)"
      ],
      "metadata": {
        "colab": {
          "base_uri": "https://localhost:8080/"
        },
        "id": "pR8iPIepx7SC",
        "outputId": "1cf9ff57-8043-4af3-b2c0-0ecd18d00d97"
      },
      "execution_count": 87,
      "outputs": [
        {
          "output_type": "stream",
          "name": "stdout",
          "text": [
            "Linear Regression MSE: 24.291119474973478\n",
            "Polynomial Regression MSE: 14.183558083680547\n",
            "Ridge Regression MSE: 24.377609808756354\n",
            "Lasso Regression MSE: 24.315786841819875\n",
            "Decision Tree Regression MSE: 22.999215686274507\n",
            "Random Forest Regression MSE: 8.321780284313725\n",
            "Gradient Boosting Regression MSE: 6.1777395585298\n",
            "Support Vector Regression MSE: 25.668539678396044\n",
            "Gradient Descent Regression MSE: 24.59534697168974\n"
          ]
        }
      ]
    },
    {
      "cell_type": "code",
      "source": [
        "# Initialize the best MSE variable\n",
        "best_mse = float('inf') # It should be an initial value that is higher than the maximum possible MSE to ensure that the first model's MSE is assigned correctly.\n",
        "best_model = None\n",
        "\n",
        "# Compare the MSE values and find the best model\n",
        "if linear_reg_mse < best_mse:\n",
        "    best_mse = linear_reg_mse\n",
        "    best_model = \"Linear Regression\"\n",
        "\n",
        "if poly_reg_mse < best_mse:\n",
        "    best_mse = poly_reg_mse\n",
        "    best_model = \"Polynomial Regression\"\n",
        "\n",
        "if ridge_reg_mse < best_mse:\n",
        "    best_mse = ridge_reg_mse\n",
        "    best_model = \"Ridge Regression\"\n",
        "\n",
        "if lasso_reg_mse < best_mse:\n",
        "    best_mse = lasso_reg_mse\n",
        "    best_model = \"Lasso Regression\"\n",
        "\n",
        "if dt_reg_mse < best_mse:\n",
        "    best_mse = dt_reg_mse\n",
        "    best_model = \"Decision Tree Regression\"\n",
        "\n",
        "if rf_reg_mse < best_mse:\n",
        "    best_mse = rf_reg_mse\n",
        "    best_model = \"Random Forest Regression\"\n",
        "\n",
        "if gb_reg_mse < best_mse:\n",
        "    best_mse = gb_reg_mse\n",
        "    best_model = \"Gradient Boosting Regression\"\n",
        "\n",
        "if svr_reg_mse < best_mse:\n",
        "    best_mse = svr_reg_mse\n",
        "    best_model = \"Support Vector Regression\"\n",
        "\n",
        "if gd_reg_mse < best_mse:\n",
        "    best_mse = gd_reg_mse\n",
        "    best_model = \"Gradient Descent Regression\"\n",
        "\n",
        "print(\"The best model is:\", best_model)\n"
      ],
      "metadata": {
        "colab": {
          "base_uri": "https://localhost:8080/"
        },
        "id": "7VU0K5pAynQ_",
        "outputId": "26011ea3-f492-4de0-ca24-d78021b68467"
      },
      "execution_count": 88,
      "outputs": [
        {
          "output_type": "stream",
          "name": "stdout",
          "text": [
            "The best model is: Gradient Boosting Regression\n"
          ]
        }
      ]
    }
  ]
}